{
  "nbformat": 4,
  "nbformat_minor": 0,
  "metadata": {
    "colab": {
      "name": "ММО_ЛР2.ipynb",
      "provenance": [],
      "collapsed_sections": []
    },
    "kernelspec": {
      "name": "python3",
      "display_name": "Python 3"
    },
    "language_info": {
      "name": "python"
    }
  },
  "cells": [
    {
      "cell_type": "markdown",
      "source": [
        "**1. Устранение пропусков в данных**\n",
        "\n",
        "\n"
      ],
      "metadata": {
        "id": "ZbyWMPrnVea8"
      }
    },
    {
      "cell_type": "code",
      "execution_count": null,
      "metadata": {
        "id": "hSdtJzTt2brr"
      },
      "outputs": [],
      "source": [
        "import numpy as np\n",
        "import pandas as pd\n",
        "import seaborn as sns\n",
        "import matplotlib.pyplot as plt\n",
        "from sklearn.impute import SimpleImputer\n",
        "from sklearn.impute import MissingIndicator\n",
        "from sklearn.impute import KNNImputer\n",
        "from sklearn.preprocessing import StandardScaler\n",
        "from sklearn.linear_model import Lasso\n",
        "from sklearn.pipeline import Pipeline\n",
        "from sklearn.model_selection import GridSearchCV\n",
        "from sklearn.ensemble import RandomForestRegressor\n",
        "from sklearn.experimental import enable_iterative_imputer\n",
        "from sklearn.impute import IterativeImputer\n",
        "from IPython.display import Image\n",
        "%matplotlib inline \n",
        "sns.set(style=\"ticks\")"
      ]
    },
    {
      "cell_type": "code",
      "source": [
        "# Будем использовать только обучающую выборку\n",
        "hdata_loaded = pd.read_csv('hockey_players_stats.csv', sep=\",\")"
      ],
      "metadata": {
        "id": "lpStBsRO2iyn"
      },
      "execution_count": null,
      "outputs": []
    },
    {
      "cell_type": "code",
      "source": [
        "hdata_loaded.shape"
      ],
      "metadata": {
        "colab": {
          "base_uri": "https://localhost:8080/"
        },
        "id": "tCnkZ2J321ck",
        "outputId": "0c287d6e-fe0a-46d4-b394-1a72e7b7ba80"
      },
      "execution_count": null,
      "outputs": [
        {
          "output_type": "execute_result",
          "data": {
            "text/plain": [
              "(2806, 22)"
            ]
          },
          "metadata": {},
          "execution_count": 4
        }
      ]
    },
    {
      "cell_type": "code",
      "source": [
        "hdata = hdata_loaded"
      ],
      "metadata": {
        "id": "kWnBq9-V24v9"
      },
      "execution_count": null,
      "outputs": []
    },
    {
      "cell_type": "code",
      "source": [
        "list(zip(hdata.columns, [i for i in hdata.dtypes]))"
      ],
      "metadata": {
        "colab": {
          "base_uri": "https://localhost:8080/"
        },
        "id": "c8ZSTgri29D2",
        "outputId": "2f6d2065-fb21-45fc-925a-d4c428c214b6"
      },
      "execution_count": null,
      "outputs": [
        {
          "output_type": "execute_result",
          "data": {
            "text/plain": [
              "[('No.', dtype('int64')),\n",
              " ('Name', dtype('O')),\n",
              " ('Position', dtype('O')),\n",
              " ('G', dtype('float64')),\n",
              " ('A', dtype('float64')),\n",
              " ('P', dtype('float64')),\n",
              " ('PIM', dtype('float64')),\n",
              " ('TS', dtype('float64')),\n",
              " ('+/-', dtype('float64')),\n",
              " ('TOT', dtype('O')),\n",
              " ('SHF', dtype('float64')),\n",
              " ('AVG', dtype('O')),\n",
              " ('Sh_Period_1', dtype('float64')),\n",
              " ('Time_On_Ice_Period_1', dtype('O')),\n",
              " ('Sh_Period_2', dtype('float64')),\n",
              " ('Time_On_Ice_Period_2', dtype('O')),\n",
              " ('Sh_Period_3', dtype('float64')),\n",
              " ('Time_On_Ice_Period_3', dtype('O')),\n",
              " ('url_game', dtype('O')),\n",
              " ('team', dtype('O')),\n",
              " ('Sh_OverTime', dtype('float64')),\n",
              " ('Time_On_Ice_OverTime', dtype('O'))]"
            ]
          },
          "metadata": {},
          "execution_count": 6
        }
      ]
    },
    {
      "cell_type": "code",
      "source": [
        "# Колонки с пропусками\n",
        "hcols_with_na = [c for c in hdata.columns if hdata[c].isnull().sum() > 0]\n",
        "hcols_with_na"
      ],
      "metadata": {
        "colab": {
          "base_uri": "https://localhost:8080/"
        },
        "id": "UN19uQOo3Aif",
        "outputId": "9e18d770-08bf-4876-d876-98aabc537a39"
      },
      "execution_count": null,
      "outputs": [
        {
          "output_type": "execute_result",
          "data": {
            "text/plain": [
              "['G',\n",
              " 'A',\n",
              " 'P',\n",
              " 'PIM',\n",
              " 'TS',\n",
              " '+/-',\n",
              " 'TOT',\n",
              " 'SHF',\n",
              " 'AVG',\n",
              " 'Sh_Period_1',\n",
              " 'Time_On_Ice_Period_1',\n",
              " 'Sh_Period_2',\n",
              " 'Time_On_Ice_Period_2',\n",
              " 'Sh_Period_3',\n",
              " 'Time_On_Ice_Period_3',\n",
              " 'Sh_OverTime',\n",
              " 'Time_On_Ice_OverTime']"
            ]
          },
          "metadata": {},
          "execution_count": 7
        }
      ]
    },
    {
      "cell_type": "code",
      "source": [
        "hdata.shape"
      ],
      "metadata": {
        "colab": {
          "base_uri": "https://localhost:8080/"
        },
        "id": "_SbNBUyb3k_t",
        "outputId": "104148e2-eea9-4e70-ecc9-5e4deb96823b"
      },
      "execution_count": null,
      "outputs": [
        {
          "output_type": "execute_result",
          "data": {
            "text/plain": [
              "(2806, 22)"
            ]
          },
          "metadata": {},
          "execution_count": 8
        }
      ]
    },
    {
      "cell_type": "code",
      "source": [
        "# Количество пропусков\n",
        "[(c, hdata[c].isnull().sum()) for c in hcols_with_na]"
      ],
      "metadata": {
        "colab": {
          "base_uri": "https://localhost:8080/"
        },
        "id": "CvXPZa4L3mCq",
        "outputId": "c5ceddde-7766-4f18-a3df-d3b48ca607ec"
      },
      "execution_count": null,
      "outputs": [
        {
          "output_type": "execute_result",
          "data": {
            "text/plain": [
              "[('G', 279),\n",
              " ('A', 279),\n",
              " ('P', 279),\n",
              " ('PIM', 279),\n",
              " ('TS', 279),\n",
              " ('+/-', 513),\n",
              " ('TOT', 279),\n",
              " ('SHF', 513),\n",
              " ('AVG', 279),\n",
              " ('Sh_Period_1', 279),\n",
              " ('Time_On_Ice_Period_1', 513),\n",
              " ('Sh_Period_2', 279),\n",
              " ('Time_On_Ice_Period_2', 513),\n",
              " ('Sh_Period_3', 279),\n",
              " ('Time_On_Ice_Period_3', 513),\n",
              " ('Sh_OverTime', 2498),\n",
              " ('Time_On_Ice_OverTime', 2526)]"
            ]
          },
          "metadata": {},
          "execution_count": 9
        }
      ]
    },
    {
      "cell_type": "code",
      "source": [
        "# Доля (процент) пропусков\n",
        "[(c, hdata[c].isnull().mean()) for c in hcols_with_na]"
      ],
      "metadata": {
        "colab": {
          "base_uri": "https://localhost:8080/"
        },
        "id": "t_azqkhb3qty",
        "outputId": "ae206c6b-849e-43fd-98ed-1aa44563ef11"
      },
      "execution_count": null,
      "outputs": [
        {
          "output_type": "execute_result",
          "data": {
            "text/plain": [
              "[('G', 0.09942979330007128),\n",
              " ('A', 0.09942979330007128),\n",
              " ('P', 0.09942979330007128),\n",
              " ('PIM', 0.09942979330007128),\n",
              " ('TS', 0.09942979330007128),\n",
              " ('+/-', 0.18282252316464717),\n",
              " ('TOT', 0.09942979330007128),\n",
              " ('SHF', 0.18282252316464717),\n",
              " ('AVG', 0.09942979330007128),\n",
              " ('Sh_Period_1', 0.09942979330007128),\n",
              " ('Time_On_Ice_Period_1', 0.18282252316464717),\n",
              " ('Sh_Period_2', 0.09942979330007128),\n",
              " ('Time_On_Ice_Period_2', 0.18282252316464717),\n",
              " ('Sh_Period_3', 0.09942979330007128),\n",
              " ('Time_On_Ice_Period_3', 0.18282252316464717),\n",
              " ('Sh_OverTime', 0.8902352102637205),\n",
              " ('Time_On_Ice_OverTime', 0.9002138275124733)]"
            ]
          },
          "metadata": {},
          "execution_count": 10
        }
      ]
    },
    {
      "cell_type": "code",
      "source": [
        "# Колонки для которых удаляются пропуски\n",
        "hcols_with_na_temp = ['SHF','Sh_Period_1','Sh_Period_2','Sh_Period_3']"
      ],
      "metadata": {
        "id": "rthqV_D13uKV"
      },
      "execution_count": null,
      "outputs": []
    },
    {
      "cell_type": "markdown",
      "source": [
        "Удаление может производиться для группы строк или колонок."
      ],
      "metadata": {
        "id": "lw40jeE45dQq"
      }
    },
    {
      "cell_type": "code",
      "source": [
        "# Удаление пропусков\n",
        "hdata_drop = hdata[hcols_with_na_temp].dropna()\n",
        "hdata_drop.shape"
      ],
      "metadata": {
        "colab": {
          "base_uri": "https://localhost:8080/"
        },
        "id": "S4OwsXcu5eCH",
        "outputId": "ec16bcf8-a981-4e33-aa24-a9639b4b48c8"
      },
      "execution_count": null,
      "outputs": [
        {
          "output_type": "execute_result",
          "data": {
            "text/plain": [
              "(2293, 4)"
            ]
          },
          "metadata": {},
          "execution_count": 12
        }
      ]
    },
    {
      "cell_type": "code",
      "source": [
        "def plot_hist_diff(old_ds, new_ds, cols):\n",
        "    \"\"\"\n",
        "    Разница между распределениями до и после устранения пропусков\n",
        "    \"\"\"\n",
        "    for c in cols:   \n",
        "        fig = plt.figure()\n",
        "        ax = fig.add_subplot(111)\n",
        "        ax.title.set_text('Поле - ' + str(c))\n",
        "        old_ds[c].hist(bins=50, ax=ax, density=True, color='green')\n",
        "        new_ds[c].hist(bins=50, ax=ax, color='blue', density=True, alpha=0.5)\n",
        "        plt.show()"
      ],
      "metadata": {
        "id": "HefqNY7B5kk8"
      },
      "execution_count": null,
      "outputs": []
    },
    {
      "cell_type": "code",
      "source": [
        "plot_hist_diff(hdata, hdata_drop, hcols_with_na_temp)"
      ],
      "metadata": {
        "colab": {
          "base_uri": "https://localhost:8080/",
          "height": 1000
        },
        "id": "JkIlwJH25l0y",
        "outputId": "2118492c-b9e0-4936-aa83-67e32e519059"
      },
      "execution_count": null,
      "outputs": [
        {
          "output_type": "display_data",
          "data": {
            "text/plain": [
              "<Figure size 432x288 with 1 Axes>"
            ],
            "image/png": "[encoded data removed]"
          },
          "metadata": {}
        },
        {
          "output_type": "display_data",
          "data": {
            "text/plain": [
              "<Figure size 432x288 with 1 Axes>"
            ],
            "image/png": "[encoded data removed]"
          },
          "metadata": {}
        },
        {
          "output_type": "display_data",
          "data": {
            "text/plain": [
              "<Figure size 432x288 with 1 Axes>"
            ],
            "image/png": "[encoded data removed]"
          },
          "metadata": {}
        },
        {
          "output_type": "display_data",
          "data": {
            "text/plain": [
              "<Figure size 432x288 with 1 Axes>"
            ],
            "image/png": "[encoded data removed]"
          },
          "metadata": {}
        }
      ]
    },
    {
      "cell_type": "markdown",
      "source": [
        "Заполнение значений для одного признака\n",
        "В этом случае данные которые находятся в соседних признаках (колонках) не учитываются при заполнении.\n",
        "\n",
        "Заполнение (внедрение) значений или импьютация (imputation) - это заполнение пропущенных значений их статистическими оценками.\n",
        "\n",
        "Для числовых признаков:\n",
        "\n",
        "Заполнение показателями центра распределения.\n",
        "Заполнение константой. Полезно в случае \"неслучайного\" распределения пропусков.\n",
        "Заполнение \"хвостом распределения\".\n",
        "Для категориальных признаков:\n",
        "\n",
        "Заполнение наиболее распространенным значением категории (аналогом моды).\n",
        "Введение отдельного значения категории для пропущенных значений.\n",
        "Для числовых и категориальных признаков:\n",
        "\n",
        "Добавления флага пропусков.\n",
        "Заполнение случайным значением признака. Метод обычно применяют на больших выборках. Преимуществом является то, что он сохраняет дисперсию исходной выборки.\n",
        "Заполнение показателями центра распределения и константой\n",
        "Для числовых признаков.\n",
        "\n",
        "В случае нормального распределения математическое ожидание, медиана и мода совпадают:"
      ],
      "metadata": {
        "id": "spoDgPbS8JNR"
      }
    },
    {
      "cell_type": "code",
      "source": [
        "# Пример работы MissingIndicator\n",
        "temp_x1 = np.array([[np.nan, 1, 3], [4, 0, np.nan], [8, 1, 0]])\n",
        "print('Исходный массив:')\n",
        "print(temp_x1)\n",
        "indicator = MissingIndicator()\n",
        "temp_x1_transformed = indicator.fit_transform(temp_x1)\n",
        "print('Маска пропущенных значений:')\n",
        "print(temp_x1_transformed)"
      ],
      "metadata": {
        "colab": {
          "base_uri": "https://localhost:8080/"
        },
        "id": "SZmwdQzc8KOm",
        "outputId": "5e906801-c5f4-4adb-ae47-30d950471c55"
      },
      "execution_count": null,
      "outputs": [
        {
          "output_type": "stream",
          "name": "stdout",
          "text": [
            "Исходный массив:\n",
            "[[nan  1.  3.]\n",
            " [ 4.  0. nan]\n",
            " [ 8.  1.  0.]]\n",
            "Маска пропущенных значений:\n",
            "[[ True False]\n",
            " [False  True]\n",
            " [False False]]\n"
          ]
        }
      ]
    },
    {
      "cell_type": "code",
      "source": [
        "def impute_column(dataset, column, strategy_param, fill_value_param=None):\n",
        "    \"\"\"\n",
        "    Заполнение пропусков в одном признаке\n",
        "    \"\"\"\n",
        "    temp_data = dataset[[column]].values\n",
        "    size = temp_data.shape[0]\n",
        "    \n",
        "    indicator = MissingIndicator()\n",
        "    mask_missing_values_only = indicator.fit_transform(temp_data)\n",
        "    \n",
        "    imputer = SimpleImputer(strategy=strategy_param, \n",
        "                            fill_value=fill_value_param)\n",
        "    all_data = imputer.fit_transform(temp_data)\n",
        "    \n",
        "    missed_data = temp_data[mask_missing_values_only]\n",
        "    filled_data = all_data[mask_missing_values_only]\n",
        "    \n",
        "    return all_data.reshape((size,)), filled_data, missed_data"
      ],
      "metadata": {
        "id": "eGG5z8VE8n6b"
      },
      "execution_count": null,
      "outputs": []
    },
    {
      "cell_type": "code",
      "source": [
        "all_data, filled_data, missed_data = impute_column(hdata, 'SHF', 'mean')\n",
        "all_data"
      ],
      "metadata": {
        "colab": {
          "base_uri": "https://localhost:8080/"
        },
        "id": "AUfVezoM80Zh",
        "outputId": "56234b80-64e0-44ac-a80e-95b47ba61f6b"
      },
      "execution_count": null,
      "outputs": [
        {
          "output_type": "execute_result",
          "data": {
            "text/plain": [
              "array([21.7134758, 21.7134758, 28.       , ..., 21.7134758, 21.7134758,\n",
              "       21.7134758])"
            ]
          },
          "metadata": {},
          "execution_count": 17
        }
      ]
    },
    {
      "cell_type": "code",
      "source": [
        "filled_data"
      ],
      "metadata": {
        "colab": {
          "base_uri": "https://localhost:8080/"
        },
        "id": "wVNuvTXv-6SW",
        "outputId": "59b9e19d-e11e-431f-a4da-c7eb889cb195"
      },
      "execution_count": null,
      "outputs": [
        {
          "output_type": "execute_result",
          "data": {
            "text/plain": [
              "array([21.7134758, 21.7134758, 21.7134758, 21.7134758, 21.7134758,\n",
              "       21.7134758, 21.7134758, 21.7134758, 21.7134758, 21.7134758,\n",
              "       21.7134758, 21.7134758, 21.7134758, 21.7134758, 21.7134758,\n",
              "       21.7134758, 21.7134758, 21.7134758, 21.7134758, 21.7134758,\n",
              "       21.7134758, 21.7134758, 21.7134758, 21.7134758, 21.7134758,\n",
              "       21.7134758, 21.7134758, 21.7134758, 21.7134758, 21.7134758,\n",
              "       21.7134758, 21.7134758, 21.7134758, 21.7134758, 21.7134758,\n",
              "       21.7134758, 21.7134758, 21.7134758, 21.7134758, 21.7134758,\n",
              "       21.7134758, 21.7134758, 21.7134758, 21.7134758, 21.7134758,\n",
              "       21.7134758, 21.7134758, 21.7134758, 21.7134758, 21.7134758,\n",
              "       21.7134758, 21.7134758, 21.7134758, 21.7134758, 21.7134758,\n",
              "       21.7134758, 21.7134758, 21.7134758, 21.7134758, 21.7134758,\n",
              "       21.7134758, 21.7134758, 21.7134758, 21.7134758, 21.7134758,\n",
              "       21.7134758, 21.7134758, 21.7134758, 21.7134758, 21.7134758,\n",
              "       21.7134758, 21.7134758, 21.7134758, 21.7134758, 21.7134758,\n",
              "       21.7134758, 21.7134758, 21.7134758, 21.7134758, 21.7134758,\n",
              "       21.7134758, 21.7134758, 21.7134758, 21.7134758, 21.7134758,\n",
              "       21.7134758, 21.7134758, 21.7134758, 21.7134758, 21.7134758,\n",
              "       21.7134758, 21.7134758, 21.7134758, 21.7134758, 21.7134758,\n",
              "       21.7134758, 21.7134758, 21.7134758, 21.7134758, 21.7134758,\n",
              "       21.7134758, 21.7134758, 21.7134758, 21.7134758, 21.7134758,\n",
              "       21.7134758, 21.7134758, 21.7134758, 21.7134758, 21.7134758,\n",
              "       21.7134758, 21.7134758, 21.7134758, 21.7134758, 21.7134758,\n",
              "       21.7134758, 21.7134758, 21.7134758, 21.7134758, 21.7134758,\n",
              "       21.7134758, 21.7134758, 21.7134758, 21.7134758, 21.7134758,\n",
              "       21.7134758, 21.7134758, 21.7134758, 21.7134758, 21.7134758,\n",
              "       21.7134758, 21.7134758, 21.7134758, 21.7134758, 21.7134758,\n",
              "       21.7134758, 21.7134758, 21.7134758, 21.7134758, 21.7134758,\n",
              "       21.7134758, 21.7134758, 21.7134758, 21.7134758, 21.7134758,\n",
              "       21.7134758, 21.7134758, 21.7134758, 21.7134758, 21.7134758,\n",
              "       21.7134758, 21.7134758, 21.7134758, 21.7134758, 21.7134758,\n",
              "       21.7134758, 21.7134758, 21.7134758, 21.7134758, 21.7134758,\n",
              "       21.7134758, 21.7134758, 21.7134758, 21.7134758, 21.7134758,\n",
              "       21.7134758, 21.7134758, 21.7134758, 21.7134758, 21.7134758,\n",
              "       21.7134758, 21.7134758, 21.7134758, 21.7134758, 21.7134758,\n",
              "       21.7134758, 21.7134758, 21.7134758, 21.7134758, 21.7134758,\n",
              "       21.7134758, 21.7134758, 21.7134758, 21.7134758, 21.7134758,\n",
              "       21.7134758, 21.7134758, 21.7134758, 21.7134758, 21.7134758,\n",
              "       21.7134758, 21.7134758, 21.7134758, 21.7134758, 21.7134758,\n",
              "       21.7134758, 21.7134758, 21.7134758, 21.7134758, 21.7134758,\n",
              "       21.7134758, 21.7134758, 21.7134758, 21.7134758, 21.7134758,\n",
              "       21.7134758, 21.7134758, 21.7134758, 21.7134758, 21.7134758,\n",
              "       21.7134758, 21.7134758, 21.7134758, 21.7134758, 21.7134758,\n",
              "       21.7134758, 21.7134758, 21.7134758, 21.7134758, 21.7134758,\n",
              "       21.7134758, 21.7134758, 21.7134758, 21.7134758, 21.7134758,\n",
              "       21.7134758, 21.7134758, 21.7134758, 21.7134758, 21.7134758,\n",
              "       21.7134758, 21.7134758, 21.7134758, 21.7134758, 21.7134758,\n",
              "       21.7134758, 21.7134758, 21.7134758, 21.7134758, 21.7134758,\n",
              "       21.7134758, 21.7134758, 21.7134758, 21.7134758, 21.7134758,\n",
              "       21.7134758, 21.7134758, 21.7134758, 21.7134758, 21.7134758,\n",
              "       21.7134758, 21.7134758, 21.7134758, 21.7134758, 21.7134758,\n",
              "       21.7134758, 21.7134758, 21.7134758, 21.7134758, 21.7134758,\n",
              "       21.7134758, 21.7134758, 21.7134758, 21.7134758, 21.7134758,\n",
              "       21.7134758, 21.7134758, 21.7134758, 21.7134758, 21.7134758,\n",
              "       21.7134758, 21.7134758, 21.7134758, 21.7134758, 21.7134758,\n",
              "       21.7134758, 21.7134758, 21.7134758, 21.7134758, 21.7134758,\n",
              "       21.7134758, 21.7134758, 21.7134758, 21.7134758, 21.7134758,\n",
              "       21.7134758, 21.7134758, 21.7134758, 21.7134758, 21.7134758,\n",
              "       21.7134758, 21.7134758, 21.7134758, 21.7134758, 21.7134758,\n",
              "       21.7134758, 21.7134758, 21.7134758, 21.7134758, 21.7134758,\n",
              "       21.7134758, 21.7134758, 21.7134758, 21.7134758, 21.7134758,\n",
              "       21.7134758, 21.7134758, 21.7134758, 21.7134758, 21.7134758,\n",
              "       21.7134758, 21.7134758, 21.7134758, 21.7134758, 21.7134758,\n",
              "       21.7134758, 21.7134758, 21.7134758, 21.7134758, 21.7134758,\n",
              "       21.7134758, 21.7134758, 21.7134758, 21.7134758, 21.7134758,\n",
              "       21.7134758, 21.7134758, 21.7134758, 21.7134758, 21.7134758,\n",
              "       21.7134758, 21.7134758, 21.7134758, 21.7134758, 21.7134758,\n",
              "       21.7134758, 21.7134758, 21.7134758, 21.7134758, 21.7134758,\n",
              "       21.7134758, 21.7134758, 21.7134758, 21.7134758, 21.7134758,\n",
              "       21.7134758, 21.7134758, 21.7134758, 21.7134758, 21.7134758,\n",
              "       21.7134758, 21.7134758, 21.7134758, 21.7134758, 21.7134758,\n",
              "       21.7134758, 21.7134758, 21.7134758, 21.7134758, 21.7134758,\n",
              "       21.7134758, 21.7134758, 21.7134758, 21.7134758, 21.7134758,\n",
              "       21.7134758, 21.7134758, 21.7134758, 21.7134758, 21.7134758,\n",
              "       21.7134758, 21.7134758, 21.7134758, 21.7134758, 21.7134758,\n",
              "       21.7134758, 21.7134758, 21.7134758, 21.7134758, 21.7134758,\n",
              "       21.7134758, 21.7134758, 21.7134758, 21.7134758, 21.7134758,\n",
              "       21.7134758, 21.7134758, 21.7134758, 21.7134758, 21.7134758,\n",
              "       21.7134758, 21.7134758, 21.7134758, 21.7134758, 21.7134758,\n",
              "       21.7134758, 21.7134758, 21.7134758, 21.7134758, 21.7134758,\n",
              "       21.7134758, 21.7134758, 21.7134758, 21.7134758, 21.7134758,\n",
              "       21.7134758, 21.7134758, 21.7134758, 21.7134758, 21.7134758,\n",
              "       21.7134758, 21.7134758, 21.7134758, 21.7134758, 21.7134758,\n",
              "       21.7134758, 21.7134758, 21.7134758, 21.7134758, 21.7134758,\n",
              "       21.7134758, 21.7134758, 21.7134758, 21.7134758, 21.7134758,\n",
              "       21.7134758, 21.7134758, 21.7134758, 21.7134758, 21.7134758,\n",
              "       21.7134758, 21.7134758, 21.7134758, 21.7134758, 21.7134758,\n",
              "       21.7134758, 21.7134758, 21.7134758, 21.7134758, 21.7134758,\n",
              "       21.7134758, 21.7134758, 21.7134758, 21.7134758, 21.7134758,\n",
              "       21.7134758, 21.7134758, 21.7134758, 21.7134758, 21.7134758,\n",
              "       21.7134758, 21.7134758, 21.7134758, 21.7134758, 21.7134758,\n",
              "       21.7134758, 21.7134758, 21.7134758, 21.7134758, 21.7134758,\n",
              "       21.7134758, 21.7134758, 21.7134758, 21.7134758, 21.7134758,\n",
              "       21.7134758, 21.7134758, 21.7134758, 21.7134758, 21.7134758,\n",
              "       21.7134758, 21.7134758, 21.7134758, 21.7134758, 21.7134758,\n",
              "       21.7134758, 21.7134758, 21.7134758, 21.7134758, 21.7134758,\n",
              "       21.7134758, 21.7134758, 21.7134758, 21.7134758, 21.7134758,\n",
              "       21.7134758, 21.7134758, 21.7134758, 21.7134758, 21.7134758,\n",
              "       21.7134758, 21.7134758, 21.7134758, 21.7134758, 21.7134758,\n",
              "       21.7134758, 21.7134758, 21.7134758, 21.7134758, 21.7134758,\n",
              "       21.7134758, 21.7134758, 21.7134758, 21.7134758, 21.7134758,\n",
              "       21.7134758, 21.7134758, 21.7134758, 21.7134758, 21.7134758,\n",
              "       21.7134758, 21.7134758, 21.7134758])"
            ]
          },
          "metadata": {},
          "execution_count": 18
        }
      ]
    },
    {
      "cell_type": "code",
      "source": [
        "missed_data"
      ],
      "metadata": {
        "colab": {
          "base_uri": "https://localhost:8080/"
        },
        "id": "gU4nGPtK--ZE",
        "outputId": "2113e43a-281f-4d9a-9e64-95b40b22de7e"
      },
      "execution_count": null,
      "outputs": [
        {
          "output_type": "execute_result",
          "data": {
            "text/plain": [
              "array([nan, nan, nan, nan, nan, nan, nan, nan, nan, nan, nan, nan, nan,\n",
              "       nan, nan, nan, nan, nan, nan, nan, nan, nan, nan, nan, nan, nan,\n",
              "       nan, nan, nan, nan, nan, nan, nan, nan, nan, nan, nan, nan, nan,\n",
              "       nan, nan, nan, nan, nan, nan, nan, nan, nan, nan, nan, nan, nan,\n",
              "       nan, nan, nan, nan, nan, nan, nan, nan, nan, nan, nan, nan, nan,\n",
              "       nan, nan, nan, nan, nan, nan, nan, nan, nan, nan, nan, nan, nan,\n",
              "       nan, nan, nan, nan, nan, nan, nan, nan, nan, nan, nan, nan, nan,\n",
              "       nan, nan, nan, nan, nan, nan, nan, nan, nan, nan, nan, nan, nan,\n",
              "       nan, nan, nan, nan, nan, nan, nan, nan, nan, nan, nan, nan, nan,\n",
              "       nan, nan, nan, nan, nan, nan, nan, nan, nan, nan, nan, nan, nan,\n",
              "       nan, nan, nan, nan, nan, nan, nan, nan, nan, nan, nan, nan, nan,\n",
              "       nan, nan, nan, nan, nan, nan, nan, nan, nan, nan, nan, nan, nan,\n",
              "       nan, nan, nan, nan, nan, nan, nan, nan, nan, nan, nan, nan, nan,\n",
              "       nan, nan, nan, nan, nan, nan, nan, nan, nan, nan, nan, nan, nan,\n",
              "       nan, nan, nan, nan, nan, nan, nan, nan, nan, nan, nan, nan, nan,\n",
              "       nan, nan, nan, nan, nan, nan, nan, nan, nan, nan, nan, nan, nan,\n",
              "       nan, nan, nan, nan, nan, nan, nan, nan, nan, nan, nan, nan, nan,\n",
              "       nan, nan, nan, nan, nan, nan, nan, nan, nan, nan, nan, nan, nan,\n",
              "       nan, nan, nan, nan, nan, nan, nan, nan, nan, nan, nan, nan, nan,\n",
              "       nan, nan, nan, nan, nan, nan, nan, nan, nan, nan, nan, nan, nan,\n",
              "       nan, nan, nan, nan, nan, nan, nan, nan, nan, nan, nan, nan, nan,\n",
              "       nan, nan, nan, nan, nan, nan, nan, nan, nan, nan, nan, nan, nan,\n",
              "       nan, nan, nan, nan, nan, nan, nan, nan, nan, nan, nan, nan, nan,\n",
              "       nan, nan, nan, nan, nan, nan, nan, nan, nan, nan, nan, nan, nan,\n",
              "       nan, nan, nan, nan, nan, nan, nan, nan, nan, nan, nan, nan, nan,\n",
              "       nan, nan, nan, nan, nan, nan, nan, nan, nan, nan, nan, nan, nan,\n",
              "       nan, nan, nan, nan, nan, nan, nan, nan, nan, nan, nan, nan, nan,\n",
              "       nan, nan, nan, nan, nan, nan, nan, nan, nan, nan, nan, nan, nan,\n",
              "       nan, nan, nan, nan, nan, nan, nan, nan, nan, nan, nan, nan, nan,\n",
              "       nan, nan, nan, nan, nan, nan, nan, nan, nan, nan, nan, nan, nan,\n",
              "       nan, nan, nan, nan, nan, nan, nan, nan, nan, nan, nan, nan, nan,\n",
              "       nan, nan, nan, nan, nan, nan, nan, nan, nan, nan, nan, nan, nan,\n",
              "       nan, nan, nan, nan, nan, nan, nan, nan, nan, nan, nan, nan, nan,\n",
              "       nan, nan, nan, nan, nan, nan, nan, nan, nan, nan, nan, nan, nan,\n",
              "       nan, nan, nan, nan, nan, nan, nan, nan, nan, nan, nan, nan, nan,\n",
              "       nan, nan, nan, nan, nan, nan, nan, nan, nan, nan, nan, nan, nan,\n",
              "       nan, nan, nan, nan, nan, nan, nan, nan, nan, nan, nan, nan, nan,\n",
              "       nan, nan, nan, nan, nan, nan, nan, nan, nan, nan, nan, nan, nan,\n",
              "       nan, nan, nan, nan, nan, nan, nan, nan, nan, nan, nan, nan, nan,\n",
              "       nan, nan, nan, nan, nan, nan])"
            ]
          },
          "metadata": {},
          "execution_count": 19
        }
      ]
    },
    {
      "cell_type": "code",
      "source": [
        "def research_impute_numeric_column(dataset, num_column, const_value=None):\n",
        "    strategy_params = ['mean', 'median', 'most_frequent', 'constant']\n",
        "    strategy_params_names = ['Среднее', 'Медиана', 'Мода']\n",
        "    strategy_params_names.append('Константа = ' + str(const_value))\n",
        "    \n",
        "    original_temp_data = dataset[[num_column]].values\n",
        "    size = original_temp_data.shape[0]\n",
        "    original_data = original_temp_data.reshape((size,))\n",
        "    \n",
        "    new_df = pd.DataFrame({'Исходные данные':original_data})\n",
        "       \n",
        "    for i in range(len(strategy_params)):\n",
        "        strategy = strategy_params[i]\n",
        "        col_name = strategy_params_names[i]\n",
        "        if (strategy!='constant') or (strategy == 'constant' and const_value!=None):\n",
        "            if strategy == 'constant':\n",
        "                temp_data, _, _ = impute_column(dataset, num_column, strategy, fill_value_param=const_value)\n",
        "            else:\n",
        "                temp_data, _, _ = impute_column(dataset, num_column, strategy)\n",
        "            new_df[col_name] = temp_data\n",
        "        \n",
        "    sns.kdeplot(data=new_df)"
      ],
      "metadata": {
        "id": "n_I-OGQX_C9d"
      },
      "execution_count": null,
      "outputs": []
    },
    {
      "cell_type": "code",
      "source": [
        "research_impute_numeric_column(hdata, 'SHF', 100)"
      ],
      "metadata": {
        "colab": {
          "base_uri": "https://localhost:8080/",
          "height": 268
        },
        "id": "qoxR9Szp_OqI",
        "outputId": "9b0fbaf8-ea87-4e73-f7b8-156b044dbcc8"
      },
      "execution_count": null,
      "outputs": [
        {
          "output_type": "display_data",
          "data": {
            "text/plain": [
              "<Figure size 432x288 with 1 Axes>"
            ],
            "image/png": "[encoded data removed]"
          },
          "metadata": {}
        }
      ]
    },
    {
      "cell_type": "code",
      "source": [
        ""
      ],
      "metadata": {
        "id": "1V7WryMcOQxH"
      },
      "execution_count": null,
      "outputs": []
    },
    {
      "cell_type": "markdown",
      "source": [
        "Заполнение наиболее распространенным значением категории"
      ],
      "metadata": {
        "id": "jtODqcjZBGzp"
      }
    },
    {
      "cell_type": "code",
      "source": [
        "# Похоже на нормальное\n",
        "SHF_ev = hdata['SHF'].mean() + 3*hdata['SHF'].std()\n",
        "SHF_ev"
      ],
      "metadata": {
        "colab": {
          "base_uri": "https://localhost:8080/"
        },
        "id": "Iv-ADY6z_vvA",
        "outputId": "55cb22ca-f5f2-4d65-cd13-68896e3dae05"
      },
      "execution_count": null,
      "outputs": [
        {
          "output_type": "execute_result",
          "data": {
            "text/plain": [
              "46.50781998276504"
            ]
          },
          "metadata": {},
          "execution_count": 22
        }
      ]
    },
    {
      "cell_type": "code",
      "source": [
        "research_impute_numeric_column(hdata, 'SHF', SHF_ev)"
      ],
      "metadata": {
        "colab": {
          "base_uri": "https://localhost:8080/",
          "height": 268
        },
        "id": "Eyz6kIKO__IP",
        "outputId": "bbc59aba-a9d4-4dd3-c0f3-af1695253f68"
      },
      "execution_count": null,
      "outputs": [
        {
          "output_type": "display_data",
          "data": {
            "text/plain": [
              "<Figure size 432x288 with 1 Axes>"
            ],
            "image/png": "[encoded data removed]"
          },
          "metadata": {}
        }
      ]
    },
    {
      "cell_type": "code",
      "source": [
        "# Ассиметричное\n",
        "IQR = hdata['SHF'].quantile(0.75) - hdata['SHF'].quantile(0.25)\n",
        "SHF_ev1 = hdata['SHF'].quantile(0.75) + 3*IQR\n",
        "print('IQR={}, extreme_value={}'.format(IQR, SHF_ev1))"
      ],
      "metadata": {
        "colab": {
          "base_uri": "https://localhost:8080/"
        },
        "id": "fxlY8gqdARqW",
        "outputId": "fd649c6b-dac6-490f-b57d-dac3aaf729b6"
      },
      "execution_count": null,
      "outputs": [
        {
          "output_type": "stream",
          "name": "stdout",
          "text": [
            "IQR=10.0, extreme_value=57.0\n"
          ]
        }
      ]
    },
    {
      "cell_type": "code",
      "source": [
        "research_impute_numeric_column(hdata, 'SHF', SHF_ev1)"
      ],
      "metadata": {
        "colab": {
          "base_uri": "https://localhost:8080/",
          "height": 268
        },
        "id": "FuCaF_9WOF1F",
        "outputId": "71f8ff0a-cc52-4348-f959-ff30e5620b9c"
      },
      "execution_count": null,
      "outputs": [
        {
          "output_type": "display_data",
          "data": {
            "text/plain": [
              "<Figure size 432x288 with 1 Axes>"
            ],
            "image/png": "[encoded data removed]"
          },
          "metadata": {}
        }
      ]
    },
    {
      "cell_type": "code",
      "source": [
        "SHF_ev2 = hdata['SHF'].quantile(0.75) + 1.5*IQR\n",
        "print('IQR={}, extreme_value={}'.format(IQR, SHF_ev2))"
      ],
      "metadata": {
        "colab": {
          "base_uri": "https://localhost:8080/"
        },
        "id": "OUBlyUR9PAPB",
        "outputId": "67c91ac7-84c7-4bb6-ed44-f3c86ba8ddd4"
      },
      "execution_count": null,
      "outputs": [
        {
          "output_type": "stream",
          "name": "stdout",
          "text": [
            "IQR=10.0, extreme_value=42.0\n"
          ]
        }
      ]
    },
    {
      "cell_type": "code",
      "source": [
        "research_impute_numeric_column(hdata, 'SHF', SHF_ev2)"
      ],
      "metadata": {
        "colab": {
          "base_uri": "https://localhost:8080/",
          "height": 268
        },
        "id": "71cL0yXDPJ9_",
        "outputId": "64fa1d06-2150-4665-a965-e695cbfd5281"
      },
      "execution_count": null,
      "outputs": [
        {
          "output_type": "display_data",
          "data": {
            "text/plain": [
              "<Figure size 432x288 with 1 Axes>"
            ],
            "image/png": "[encoded data removed]"
          },
          "metadata": {}
        }
      ]
    },
    {
      "cell_type": "markdown",
      "source": [
        "Заполнение наиболее распространенным значением категории"
      ],
      "metadata": {
        "id": "A6uIikTwPl0B"
      }
    },
    {
      "cell_type": "code",
      "source": [
        "hdata_cols = ['SHF']\n",
        "hdata_new = hdata[hdata_cols].copy()"
      ],
      "metadata": {
        "id": "TK2Q5FOSPkie"
      },
      "execution_count": null,
      "outputs": []
    },
    {
      "cell_type": "code",
      "source": [
        "SHF_new_temp, _, _ = impute_column(hdata_new, 'SHF', 'most_frequent')"
      ],
      "metadata": {
        "id": "bGRjLrYFPv65"
      },
      "execution_count": null,
      "outputs": []
    },
    {
      "cell_type": "code",
      "source": [
        "hdata_new['SHF'] = SHF_new_temp"
      ],
      "metadata": {
        "id": "Lb9TzK22P2Hu"
      },
      "execution_count": null,
      "outputs": []
    },
    {
      "cell_type": "code",
      "source": [
        "plot_hist_diff(hdata, hdata_new, hdata_cols)"
      ],
      "metadata": {
        "colab": {
          "base_uri": "https://localhost:8080/",
          "height": 284
        },
        "id": "5pBw3G5aQCdq",
        "outputId": "b0cca35f-ddee-4e2f-b41e-5de10cc51d80"
      },
      "execution_count": null,
      "outputs": [
        {
          "output_type": "display_data",
          "data": {
            "text/plain": [
              "<Figure size 432x288 with 1 Axes>"
            ],
            "image/png": "[encoded data removed]"
          },
          "metadata": {}
        }
      ]
    },
    {
      "cell_type": "markdown",
      "source": [
        "Добавления флага пропусков"
      ],
      "metadata": {
        "id": "hxErlJEoRYms"
      }
    },
    {
      "cell_type": "code",
      "source": [
        "hdata_mis = hdata[['SHF']].copy()\n",
        "hdata_mis.head()"
      ],
      "metadata": {
        "colab": {
          "base_uri": "https://localhost:8080/",
          "height": 206
        },
        "id": "8z8qm7P3Rd3B",
        "outputId": "34947e9b-0438-460e-a880-066caa8f3bac"
      },
      "execution_count": null,
      "outputs": [
        {
          "output_type": "execute_result",
          "data": {
            "text/plain": [
              "    SHF\n",
              "0   NaN\n",
              "1   NaN\n",
              "2  28.0\n",
              "3  32.0\n",
              "4  22.0"
            ],
            "text/html": [
              "\n",
              "  <div id=\"df-29973db6-7fdb-432c-b4d4-685ff9fa68e5\">\n",
              "    <div class=\"colab-df-container\">\n",
              "      <div>\n",
              "<style scoped>\n",
              "    .dataframe tbody tr th:only-of-type {\n",
              "        vertical-align: middle;\n",
              "    }\n",
              "\n",
              "    .dataframe tbody tr th {\n",
              "        vertical-align: top;\n",
              "    }\n",
              "\n",
              "    .dataframe thead th {\n",
              "        text-align: right;\n",
              "    }\n",
              "</style>\n",
              "<table border=\"1\" class=\"dataframe\">\n",
              "  <thead>\n",
              "    <tr style=\"text-align: right;\">\n",
              "      <th></th>\n",
              "      <th>SHF</th>\n",
              "    </tr>\n",
              "  </thead>\n",
              "  <tbody>\n",
              "    <tr>\n",
              "      <th>0</th>\n",
              "      <td>NaN</td>\n",
              "    </tr>\n",
              "    <tr>\n",
              "      <th>1</th>\n",
              "      <td>NaN</td>\n",
              "    </tr>\n",
              "    <tr>\n",
              "      <th>2</th>\n",
              "      <td>28.0</td>\n",
              "    </tr>\n",
              "    <tr>\n",
              "      <th>3</th>\n",
              "      <td>32.0</td>\n",
              "    </tr>\n",
              "    <tr>\n",
              "      <th>4</th>\n",
              "      <td>22.0</td>\n",
              "    </tr>\n",
              "  </tbody>\n",
              "</table>\n",
              "</div>\n",
              "      <button class=\"colab-df-convert\" onclick=\"convertToInteractive('df-29973db6-7fdb-432c-b4d4-685ff9fa68e5')\"\n",
              "              title=\"Convert this dataframe to an interactive table.\"\n",
              "              style=\"display:none;\">\n",
              "        \n",
              "  <svg xmlns=\"http://www.w3.org/2000/svg\" height=\"24px\"viewBox=\"0 0 24 24\"\n",
              "       width=\"24px\">\n",
              "    <path d=\"M0 0h24v24H0V0z\" fill=\"none\"/>\n",
              "    <path d=\"M18.56 5.44l.94 2.06.94-2.06 2.06-.94-2.06-.94-.94-2.06-.94 2.06-2.06.94zm-11 1L8.5 8.5l.94-2.06 2.06-.94-2.06-.94L8.5 2.5l-.94 2.06-2.06.94zm10 10l.94 2.06.94-2.06 2.06-.94-2.06-.94-.94-2.06-.94 2.06-2.06.94z\"/><path d=\"M17.41 7.96l-1.37-1.37c-.4-.4-.92-.59-1.43-.59-.52 0-1.04.2-1.43.59L10.3 9.45l-7.72 7.72c-.78.78-.78 2.05 0 2.83L4 21.41c.39.39.9.59 1.41.59.51 0 1.02-.2 1.41-.59l7.78-7.78 2.81-2.81c.8-.78.8-2.07 0-2.86zM5.41 20L4 18.59l7.72-7.72 1.47 1.35L5.41 20z\"/>\n",
              "  </svg>\n",
              "      </button>\n",
              "      \n",
              "  <style>\n",
              "    .colab-df-container {\n",
              "      display:flex;\n",
              "      flex-wrap:wrap;\n",
              "      gap: 12px;\n",
              "    }\n",
              "\n",
              "    .colab-df-convert {\n",
              "      background-color: #E8F0FE;\n",
              "      border: none;\n",
              "      border-radius: 50%;\n",
              "      cursor: pointer;\n",
              "      display: none;\n",
              "      fill: #1967D2;\n",
              "      height: 32px;\n",
              "      padding: 0 0 0 0;\n",
              "      width: 32px;\n",
              "    }\n",
              "\n",
              "    .colab-df-convert:hover {\n",
              "      background-color: #E2EBFA;\n",
              "      box-shadow: 0px 1px 2px rgba(60, 64, 67, 0.3), 0px 1px 3px 1px rgba(60, 64, 67, 0.15);\n",
              "      fill: #174EA6;\n",
              "    }\n",
              "\n",
              "    [theme=dark] .colab-df-convert {\n",
              "      background-color: #3B4455;\n",
              "      fill: #D2E3FC;\n",
              "    }\n",
              "\n",
              "    [theme=dark] .colab-df-convert:hover {\n",
              "      background-color: #434B5C;\n",
              "      box-shadow: 0px 1px 3px 1px rgba(0, 0, 0, 0.15);\n",
              "      filter: drop-shadow(0px 1px 2px rgba(0, 0, 0, 0.3));\n",
              "      fill: #FFFFFF;\n",
              "    }\n",
              "  </style>\n",
              "\n",
              "      <script>\n",
              "        const buttonEl =\n",
              "          document.querySelector('#df-29973db6-7fdb-432c-b4d4-685ff9fa68e5 button.colab-df-convert');\n",
              "        buttonEl.style.display =\n",
              "          google.colab.kernel.accessAllowed ? 'block' : 'none';\n",
              "\n",
              "        async function convertToInteractive(key) {\n",
              "          const element = document.querySelector('#df-29973db6-7fdb-432c-b4d4-685ff9fa68e5');\n",
              "          const dataTable =\n",
              "            await google.colab.kernel.invokeFunction('convertToInteractive',\n",
              "                                                     [key], {});\n",
              "          if (!dataTable) return;\n",
              "\n",
              "          const docLinkHtml = 'Like what you see? Visit the ' +\n",
              "            '<a target=\"_blank\" href=https://colab.research.google.com/notebooks/data_table.ipynb>data table notebook</a>'\n",
              "            + ' to learn more about interactive tables.';\n",
              "          element.innerHTML = '';\n",
              "          dataTable['output_type'] = 'display_data';\n",
              "          await google.colab.output.renderOutput(dataTable, element);\n",
              "          const docLink = document.createElement('div');\n",
              "          docLink.innerHTML = docLinkHtml;\n",
              "          element.appendChild(docLink);\n",
              "        }\n",
              "      </script>\n",
              "    </div>\n",
              "  </div>\n",
              "  "
            ]
          },
          "metadata": {},
          "execution_count": 32
        }
      ]
    },
    {
      "cell_type": "code",
      "source": [
        "indicator = MissingIndicator()\n",
        "SHF_missing = indicator.fit_transform(hdata_mis[['SHF']])\n",
        "SHF_missing"
      ],
      "metadata": {
        "colab": {
          "base_uri": "https://localhost:8080/"
        },
        "id": "jxz2XLGZRka1",
        "outputId": "60cb03e7-8cc7-4088-e69c-503a6dd37e13"
      },
      "execution_count": null,
      "outputs": [
        {
          "output_type": "execute_result",
          "data": {
            "text/plain": [
              "array([[ True],\n",
              "       [ True],\n",
              "       [False],\n",
              "       ...,\n",
              "       [ True],\n",
              "       [ True],\n",
              "       [ True]])"
            ]
          },
          "metadata": {},
          "execution_count": 33
        }
      ]
    },
    {
      "cell_type": "code",
      "source": [
        "SHF_missing_int = [1 if i==True else 0 for i in SHF_missing]\n",
        "SHF_missing_int[:10]"
      ],
      "metadata": {
        "colab": {
          "base_uri": "https://localhost:8080/"
        },
        "id": "so1H19NoRwfG",
        "outputId": "d7b83d14-711a-4eba-93b4-a1ef700a87ea"
      },
      "execution_count": null,
      "outputs": [
        {
          "output_type": "execute_result",
          "data": {
            "text/plain": [
              "[1, 1, 0, 0, 0, 0, 0, 0, 0, 0]"
            ]
          },
          "metadata": {},
          "execution_count": 34
        }
      ]
    },
    {
      "cell_type": "code",
      "source": [
        "hdata_mis['SHF_missing'] = SHF_missing_int\n",
        "hdata_mis.head()"
      ],
      "metadata": {
        "colab": {
          "base_uri": "https://localhost:8080/",
          "height": 206
        },
        "id": "2mgK4SXsSAuw",
        "outputId": "6f0aa299-68e4-43bb-b4c3-8323f6847af4"
      },
      "execution_count": null,
      "outputs": [
        {
          "output_type": "execute_result",
          "data": {
            "text/plain": [
              "    SHF  SHF_missing\n",
              "0   NaN            1\n",
              "1   NaN            1\n",
              "2  28.0            0\n",
              "3  32.0            0\n",
              "4  22.0            0"
            ],
            "text/html": [
              "\n",
              "  <div id=\"df-f95b3cf9-11d7-45db-802d-db238b1781d2\">\n",
              "    <div class=\"colab-df-container\">\n",
              "      <div>\n",
              "<style scoped>\n",
              "    .dataframe tbody tr th:only-of-type {\n",
              "        vertical-align: middle;\n",
              "    }\n",
              "\n",
              "    .dataframe tbody tr th {\n",
              "        vertical-align: top;\n",
              "    }\n",
              "\n",
              "    .dataframe thead th {\n",
              "        text-align: right;\n",
              "    }\n",
              "</style>\n",
              "<table border=\"1\" class=\"dataframe\">\n",
              "  <thead>\n",
              "    <tr style=\"text-align: right;\">\n",
              "      <th></th>\n",
              "      <th>SHF</th>\n",
              "      <th>SHF_missing</th>\n",
              "    </tr>\n",
              "  </thead>\n",
              "  <tbody>\n",
              "    <tr>\n",
              "      <th>0</th>\n",
              "      <td>NaN</td>\n",
              "      <td>1</td>\n",
              "    </tr>\n",
              "    <tr>\n",
              "      <th>1</th>\n",
              "      <td>NaN</td>\n",
              "      <td>1</td>\n",
              "    </tr>\n",
              "    <tr>\n",
              "      <th>2</th>\n",
              "      <td>28.0</td>\n",
              "      <td>0</td>\n",
              "    </tr>\n",
              "    <tr>\n",
              "      <th>3</th>\n",
              "      <td>32.0</td>\n",
              "      <td>0</td>\n",
              "    </tr>\n",
              "    <tr>\n",
              "      <th>4</th>\n",
              "      <td>22.0</td>\n",
              "      <td>0</td>\n",
              "    </tr>\n",
              "  </tbody>\n",
              "</table>\n",
              "</div>\n",
              "      <button class=\"colab-df-convert\" onclick=\"convertToInteractive('df-f95b3cf9-11d7-45db-802d-db238b1781d2')\"\n",
              "              title=\"Convert this dataframe to an interactive table.\"\n",
              "              style=\"display:none;\">\n",
              "        \n",
              "  <svg xmlns=\"http://www.w3.org/2000/svg\" height=\"24px\"viewBox=\"0 0 24 24\"\n",
              "       width=\"24px\">\n",
              "    <path d=\"M0 0h24v24H0V0z\" fill=\"none\"/>\n",
              "    <path d=\"M18.56 5.44l.94 2.06.94-2.06 2.06-.94-2.06-.94-.94-2.06-.94 2.06-2.06.94zm-11 1L8.5 8.5l.94-2.06 2.06-.94-2.06-.94L8.5 2.5l-.94 2.06-2.06.94zm10 10l.94 2.06.94-2.06 2.06-.94-2.06-.94-.94-2.06-.94 2.06-2.06.94z\"/><path d=\"M17.41 7.96l-1.37-1.37c-.4-.4-.92-.59-1.43-.59-.52 0-1.04.2-1.43.59L10.3 9.45l-7.72 7.72c-.78.78-.78 2.05 0 2.83L4 21.41c.39.39.9.59 1.41.59.51 0 1.02-.2 1.41-.59l7.78-7.78 2.81-2.81c.8-.78.8-2.07 0-2.86zM5.41 20L4 18.59l7.72-7.72 1.47 1.35L5.41 20z\"/>\n",
              "  </svg>\n",
              "      </button>\n",
              "      \n",
              "  <style>\n",
              "    .colab-df-container {\n",
              "      display:flex;\n",
              "      flex-wrap:wrap;\n",
              "      gap: 12px;\n",
              "    }\n",
              "\n",
              "    .colab-df-convert {\n",
              "      background-color: #E8F0FE;\n",
              "      border: none;\n",
              "      border-radius: 50%;\n",
              "      cursor: pointer;\n",
              "      display: none;\n",
              "      fill: #1967D2;\n",
              "      height: 32px;\n",
              "      padding: 0 0 0 0;\n",
              "      width: 32px;\n",
              "    }\n",
              "\n",
              "    .colab-df-convert:hover {\n",
              "      background-color: #E2EBFA;\n",
              "      box-shadow: 0px 1px 2px rgba(60, 64, 67, 0.3), 0px 1px 3px 1px rgba(60, 64, 67, 0.15);\n",
              "      fill: #174EA6;\n",
              "    }\n",
              "\n",
              "    [theme=dark] .colab-df-convert {\n",
              "      background-color: #3B4455;\n",
              "      fill: #D2E3FC;\n",
              "    }\n",
              "\n",
              "    [theme=dark] .colab-df-convert:hover {\n",
              "      background-color: #434B5C;\n",
              "      box-shadow: 0px 1px 3px 1px rgba(0, 0, 0, 0.15);\n",
              "      filter: drop-shadow(0px 1px 2px rgba(0, 0, 0, 0.3));\n",
              "      fill: #FFFFFF;\n",
              "    }\n",
              "  </style>\n",
              "\n",
              "      <script>\n",
              "        const buttonEl =\n",
              "          document.querySelector('#df-f95b3cf9-11d7-45db-802d-db238b1781d2 button.colab-df-convert');\n",
              "        buttonEl.style.display =\n",
              "          google.colab.kernel.accessAllowed ? 'block' : 'none';\n",
              "\n",
              "        async function convertToInteractive(key) {\n",
              "          const element = document.querySelector('#df-f95b3cf9-11d7-45db-802d-db238b1781d2');\n",
              "          const dataTable =\n",
              "            await google.colab.kernel.invokeFunction('convertToInteractive',\n",
              "                                                     [key], {});\n",
              "          if (!dataTable) return;\n",
              "\n",
              "          const docLinkHtml = 'Like what you see? Visit the ' +\n",
              "            '<a target=\"_blank\" href=https://colab.research.google.com/notebooks/data_table.ipynb>data table notebook</a>'\n",
              "            + ' to learn more about interactive tables.';\n",
              "          element.innerHTML = '';\n",
              "          dataTable['output_type'] = 'display_data';\n",
              "          await google.colab.output.renderOutput(dataTable, element);\n",
              "          const docLink = document.createElement('div');\n",
              "          docLink.innerHTML = docLinkHtml;\n",
              "          element.appendChild(docLink);\n",
              "        }\n",
              "      </script>\n",
              "    </div>\n",
              "  </div>\n",
              "  "
            ]
          },
          "metadata": {},
          "execution_count": 35
        }
      ]
    },
    {
      "cell_type": "markdown",
      "source": [
        "Импьютация с использованием метода ближайших соседей"
      ],
      "metadata": {
        "id": "mG0LpE8JSWDL"
      }
    },
    {
      "cell_type": "code",
      "source": [
        "knnimpute_cols = ['SHF']"
      ],
      "metadata": {
        "id": "F9rOwcp_SWzR"
      },
      "execution_count": null,
      "outputs": []
    },
    {
      "cell_type": "code",
      "source": [
        "knnimpute_hdata = hdata[knnimpute_cols].copy()\n",
        "knnimpute_hdata.head()"
      ],
      "metadata": {
        "colab": {
          "base_uri": "https://localhost:8080/",
          "height": 206
        },
        "id": "zymQtYFRSl0Q",
        "outputId": "569dceea-ab25-4fd9-ecf1-353774ac53b5"
      },
      "execution_count": null,
      "outputs": [
        {
          "output_type": "execute_result",
          "data": {
            "text/plain": [
              "    SHF\n",
              "0   NaN\n",
              "1   NaN\n",
              "2  28.0\n",
              "3  32.0\n",
              "4  22.0"
            ],
            "text/html": [
              "\n",
              "  <div id=\"df-4695d4e5-ba32-42e4-a45d-ef9f619ba55e\">\n",
              "    <div class=\"colab-df-container\">\n",
              "      <div>\n",
              "<style scoped>\n",
              "    .dataframe tbody tr th:only-of-type {\n",
              "        vertical-align: middle;\n",
              "    }\n",
              "\n",
              "    .dataframe tbody tr th {\n",
              "        vertical-align: top;\n",
              "    }\n",
              "\n",
              "    .dataframe thead th {\n",
              "        text-align: right;\n",
              "    }\n",
              "</style>\n",
              "<table border=\"1\" class=\"dataframe\">\n",
              "  <thead>\n",
              "    <tr style=\"text-align: right;\">\n",
              "      <th></th>\n",
              "      <th>SHF</th>\n",
              "    </tr>\n",
              "  </thead>\n",
              "  <tbody>\n",
              "    <tr>\n",
              "      <th>0</th>\n",
              "      <td>NaN</td>\n",
              "    </tr>\n",
              "    <tr>\n",
              "      <th>1</th>\n",
              "      <td>NaN</td>\n",
              "    </tr>\n",
              "    <tr>\n",
              "      <th>2</th>\n",
              "      <td>28.0</td>\n",
              "    </tr>\n",
              "    <tr>\n",
              "      <th>3</th>\n",
              "      <td>32.0</td>\n",
              "    </tr>\n",
              "    <tr>\n",
              "      <th>4</th>\n",
              "      <td>22.0</td>\n",
              "    </tr>\n",
              "  </tbody>\n",
              "</table>\n",
              "</div>\n",
              "      <button class=\"colab-df-convert\" onclick=\"convertToInteractive('df-4695d4e5-ba32-42e4-a45d-ef9f619ba55e')\"\n",
              "              title=\"Convert this dataframe to an interactive table.\"\n",
              "              style=\"display:none;\">\n",
              "        \n",
              "  <svg xmlns=\"http://www.w3.org/2000/svg\" height=\"24px\"viewBox=\"0 0 24 24\"\n",
              "       width=\"24px\">\n",
              "    <path d=\"M0 0h24v24H0V0z\" fill=\"none\"/>\n",
              "    <path d=\"M18.56 5.44l.94 2.06.94-2.06 2.06-.94-2.06-.94-.94-2.06-.94 2.06-2.06.94zm-11 1L8.5 8.5l.94-2.06 2.06-.94-2.06-.94L8.5 2.5l-.94 2.06-2.06.94zm10 10l.94 2.06.94-2.06 2.06-.94-2.06-.94-.94-2.06-.94 2.06-2.06.94z\"/><path d=\"M17.41 7.96l-1.37-1.37c-.4-.4-.92-.59-1.43-.59-.52 0-1.04.2-1.43.59L10.3 9.45l-7.72 7.72c-.78.78-.78 2.05 0 2.83L4 21.41c.39.39.9.59 1.41.59.51 0 1.02-.2 1.41-.59l7.78-7.78 2.81-2.81c.8-.78.8-2.07 0-2.86zM5.41 20L4 18.59l7.72-7.72 1.47 1.35L5.41 20z\"/>\n",
              "  </svg>\n",
              "      </button>\n",
              "      \n",
              "  <style>\n",
              "    .colab-df-container {\n",
              "      display:flex;\n",
              "      flex-wrap:wrap;\n",
              "      gap: 12px;\n",
              "    }\n",
              "\n",
              "    .colab-df-convert {\n",
              "      background-color: #E8F0FE;\n",
              "      border: none;\n",
              "      border-radius: 50%;\n",
              "      cursor: pointer;\n",
              "      display: none;\n",
              "      fill: #1967D2;\n",
              "      height: 32px;\n",
              "      padding: 0 0 0 0;\n",
              "      width: 32px;\n",
              "    }\n",
              "\n",
              "    .colab-df-convert:hover {\n",
              "      background-color: #E2EBFA;\n",
              "      box-shadow: 0px 1px 2px rgba(60, 64, 67, 0.3), 0px 1px 3px 1px rgba(60, 64, 67, 0.15);\n",
              "      fill: #174EA6;\n",
              "    }\n",
              "\n",
              "    [theme=dark] .colab-df-convert {\n",
              "      background-color: #3B4455;\n",
              "      fill: #D2E3FC;\n",
              "    }\n",
              "\n",
              "    [theme=dark] .colab-df-convert:hover {\n",
              "      background-color: #434B5C;\n",
              "      box-shadow: 0px 1px 3px 1px rgba(0, 0, 0, 0.15);\n",
              "      filter: drop-shadow(0px 1px 2px rgba(0, 0, 0, 0.3));\n",
              "      fill: #FFFFFF;\n",
              "    }\n",
              "  </style>\n",
              "\n",
              "      <script>\n",
              "        const buttonEl =\n",
              "          document.querySelector('#df-4695d4e5-ba32-42e4-a45d-ef9f619ba55e button.colab-df-convert');\n",
              "        buttonEl.style.display =\n",
              "          google.colab.kernel.accessAllowed ? 'block' : 'none';\n",
              "\n",
              "        async function convertToInteractive(key) {\n",
              "          const element = document.querySelector('#df-4695d4e5-ba32-42e4-a45d-ef9f619ba55e');\n",
              "          const dataTable =\n",
              "            await google.colab.kernel.invokeFunction('convertToInteractive',\n",
              "                                                     [key], {});\n",
              "          if (!dataTable) return;\n",
              "\n",
              "          const docLinkHtml = 'Like what you see? Visit the ' +\n",
              "            '<a target=\"_blank\" href=https://colab.research.google.com/notebooks/data_table.ipynb>data table notebook</a>'\n",
              "            + ' to learn more about interactive tables.';\n",
              "          element.innerHTML = '';\n",
              "          dataTable['output_type'] = 'display_data';\n",
              "          await google.colab.output.renderOutput(dataTable, element);\n",
              "          const docLink = document.createElement('div');\n",
              "          docLink.innerHTML = docLinkHtml;\n",
              "          element.appendChild(docLink);\n",
              "        }\n",
              "      </script>\n",
              "    </div>\n",
              "  </div>\n",
              "  "
            ]
          },
          "metadata": {},
          "execution_count": 37
        }
      ]
    },
    {
      "cell_type": "code",
      "source": [
        "# Признаки с пропусками\n",
        "knnimpute_hdata.isnull().sum()"
      ],
      "metadata": {
        "colab": {
          "base_uri": "https://localhost:8080/"
        },
        "id": "GpsiXza4S_Ko",
        "outputId": "ac6f1707-725f-45a0-89f2-ec6073105f24"
      },
      "execution_count": null,
      "outputs": [
        {
          "output_type": "execute_result",
          "data": {
            "text/plain": [
              "SHF    513\n",
              "dtype: int64"
            ]
          },
          "metadata": {},
          "execution_count": 38
        }
      ]
    },
    {
      "cell_type": "code",
      "source": [
        "knnimputer = KNNImputer(\n",
        "    n_neighbors=5, \n",
        "    weights='distance', \n",
        "    metric='nan_euclidean', \n",
        "    add_indicator=False, \n",
        ")\n",
        "knnimpute_hdata_imputed_temp = knnimputer.fit_transform(knnimpute_hdata)\n",
        "knnimpute_hdata_imputed = pd.DataFrame(knnimpute_hdata_imputed_temp, columns=knnimpute_hdata.columns)\n",
        "knnimpute_hdata_imputed.head()"
      ],
      "metadata": {
        "colab": {
          "base_uri": "https://localhost:8080/",
          "height": 206
        },
        "id": "VZSGdKxyTSpl",
        "outputId": "0eca39a9-f1f5-4893-c329-c1ba49f5593a"
      },
      "execution_count": null,
      "outputs": [
        {
          "output_type": "execute_result",
          "data": {
            "text/plain": [
              "         SHF\n",
              "0  21.713476\n",
              "1  21.713476\n",
              "2  28.000000\n",
              "3  32.000000\n",
              "4  22.000000"
            ],
            "text/html": [
              "\n",
              "  <div id=\"df-e2cd36db-8672-4260-9472-43e4f6b9d10f\">\n",
              "    <div class=\"colab-df-container\">\n",
              "      <div>\n",
              "<style scoped>\n",
              "    .dataframe tbody tr th:only-of-type {\n",
              "        vertical-align: middle;\n",
              "    }\n",
              "\n",
              "    .dataframe tbody tr th {\n",
              "        vertical-align: top;\n",
              "    }\n",
              "\n",
              "    .dataframe thead th {\n",
              "        text-align: right;\n",
              "    }\n",
              "</style>\n",
              "<table border=\"1\" class=\"dataframe\">\n",
              "  <thead>\n",
              "    <tr style=\"text-align: right;\">\n",
              "      <th></th>\n",
              "      <th>SHF</th>\n",
              "    </tr>\n",
              "  </thead>\n",
              "  <tbody>\n",
              "    <tr>\n",
              "      <th>0</th>\n",
              "      <td>21.713476</td>\n",
              "    </tr>\n",
              "    <tr>\n",
              "      <th>1</th>\n",
              "      <td>21.713476</td>\n",
              "    </tr>\n",
              "    <tr>\n",
              "      <th>2</th>\n",
              "      <td>28.000000</td>\n",
              "    </tr>\n",
              "    <tr>\n",
              "      <th>3</th>\n",
              "      <td>32.000000</td>\n",
              "    </tr>\n",
              "    <tr>\n",
              "      <th>4</th>\n",
              "      <td>22.000000</td>\n",
              "    </tr>\n",
              "  </tbody>\n",
              "</table>\n",
              "</div>\n",
              "      <button class=\"colab-df-convert\" onclick=\"convertToInteractive('df-e2cd36db-8672-4260-9472-43e4f6b9d10f')\"\n",
              "              title=\"Convert this dataframe to an interactive table.\"\n",
              "              style=\"display:none;\">\n",
              "        \n",
              "  <svg xmlns=\"http://www.w3.org/2000/svg\" height=\"24px\"viewBox=\"0 0 24 24\"\n",
              "       width=\"24px\">\n",
              "    <path d=\"M0 0h24v24H0V0z\" fill=\"none\"/>\n",
              "    <path d=\"M18.56 5.44l.94 2.06.94-2.06 2.06-.94-2.06-.94-.94-2.06-.94 2.06-2.06.94zm-11 1L8.5 8.5l.94-2.06 2.06-.94-2.06-.94L8.5 2.5l-.94 2.06-2.06.94zm10 10l.94 2.06.94-2.06 2.06-.94-2.06-.94-.94-2.06-.94 2.06-2.06.94z\"/><path d=\"M17.41 7.96l-1.37-1.37c-.4-.4-.92-.59-1.43-.59-.52 0-1.04.2-1.43.59L10.3 9.45l-7.72 7.72c-.78.78-.78 2.05 0 2.83L4 21.41c.39.39.9.59 1.41.59.51 0 1.02-.2 1.41-.59l7.78-7.78 2.81-2.81c.8-.78.8-2.07 0-2.86zM5.41 20L4 18.59l7.72-7.72 1.47 1.35L5.41 20z\"/>\n",
              "  </svg>\n",
              "      </button>\n",
              "      \n",
              "  <style>\n",
              "    .colab-df-container {\n",
              "      display:flex;\n",
              "      flex-wrap:wrap;\n",
              "      gap: 12px;\n",
              "    }\n",
              "\n",
              "    .colab-df-convert {\n",
              "      background-color: #E8F0FE;\n",
              "      border: none;\n",
              "      border-radius: 50%;\n",
              "      cursor: pointer;\n",
              "      display: none;\n",
              "      fill: #1967D2;\n",
              "      height: 32px;\n",
              "      padding: 0 0 0 0;\n",
              "      width: 32px;\n",
              "    }\n",
              "\n",
              "    .colab-df-convert:hover {\n",
              "      background-color: #E2EBFA;\n",
              "      box-shadow: 0px 1px 2px rgba(60, 64, 67, 0.3), 0px 1px 3px 1px rgba(60, 64, 67, 0.15);\n",
              "      fill: #174EA6;\n",
              "    }\n",
              "\n",
              "    [theme=dark] .colab-df-convert {\n",
              "      background-color: #3B4455;\n",
              "      fill: #D2E3FC;\n",
              "    }\n",
              "\n",
              "    [theme=dark] .colab-df-convert:hover {\n",
              "      background-color: #434B5C;\n",
              "      box-shadow: 0px 1px 3px 1px rgba(0, 0, 0, 0.15);\n",
              "      filter: drop-shadow(0px 1px 2px rgba(0, 0, 0, 0.3));\n",
              "      fill: #FFFFFF;\n",
              "    }\n",
              "  </style>\n",
              "\n",
              "      <script>\n",
              "        const buttonEl =\n",
              "          document.querySelector('#df-e2cd36db-8672-4260-9472-43e4f6b9d10f button.colab-df-convert');\n",
              "        buttonEl.style.display =\n",
              "          google.colab.kernel.accessAllowed ? 'block' : 'none';\n",
              "\n",
              "        async function convertToInteractive(key) {\n",
              "          const element = document.querySelector('#df-e2cd36db-8672-4260-9472-43e4f6b9d10f');\n",
              "          const dataTable =\n",
              "            await google.colab.kernel.invokeFunction('convertToInteractive',\n",
              "                                                     [key], {});\n",
              "          if (!dataTable) return;\n",
              "\n",
              "          const docLinkHtml = 'Like what you see? Visit the ' +\n",
              "            '<a target=\"_blank\" href=https://colab.research.google.com/notebooks/data_table.ipynb>data table notebook</a>'\n",
              "            + ' to learn more about interactive tables.';\n",
              "          element.innerHTML = '';\n",
              "          dataTable['output_type'] = 'display_data';\n",
              "          await google.colab.output.renderOutput(dataTable, element);\n",
              "          const docLink = document.createElement('div');\n",
              "          docLink.innerHTML = docLinkHtml;\n",
              "          element.appendChild(docLink);\n",
              "        }\n",
              "      </script>\n",
              "    </div>\n",
              "  </div>\n",
              "  "
            ]
          },
          "metadata": {},
          "execution_count": 39
        }
      ]
    },
    {
      "cell_type": "code",
      "source": [
        "# Пропуски заполнены\n",
        "knnimpute_hdata_imputed.isnull().sum()"
      ],
      "metadata": {
        "colab": {
          "base_uri": "https://localhost:8080/"
        },
        "id": "LpufAKIFTXa9",
        "outputId": "d05ccfb6-e1ba-4f4e-b365-b023ab51626b"
      },
      "execution_count": null,
      "outputs": [
        {
          "output_type": "execute_result",
          "data": {
            "text/plain": [
              "SHF    0\n",
              "dtype: int64"
            ]
          },
          "metadata": {},
          "execution_count": 40
        }
      ]
    },
    {
      "cell_type": "code",
      "source": [
        "SHF_df = pd.DataFrame({'original': knnimpute_hdata['SHF'].values})\n",
        "SHF_df['KNN_5'] = knnimpute_hdata_imputed['SHF']\n",
        "sns.kdeplot(data=SHF_df)"
      ],
      "metadata": {
        "colab": {
          "base_uri": "https://localhost:8080/",
          "height": 286
        },
        "id": "EqsyyJWPTbVe",
        "outputId": "844ab5fe-06ed-44c5-9935-60dccce4ef3e"
      },
      "execution_count": null,
      "outputs": [
        {
          "output_type": "execute_result",
          "data": {
            "text/plain": [
              "<matplotlib.axes._subplots.AxesSubplot at 0x7fd98a7408d0>"
            ]
          },
          "metadata": {},
          "execution_count": 41
        },
        {
          "output_type": "display_data",
          "data": {
            "text/plain": [
              "<Figure size 432x288 with 1 Axes>"
            ],
            "image/png": "[encoded data removed]"
          },
          "metadata": {}
        }
      ]
    },
    {
      "cell_type": "markdown",
      "source": [
        "**2. Кодирование категориальных признаков**"
      ],
      "metadata": {
        "id": "ZICP9gUDV0Cs"
      }
    },
    {
      "cell_type": "code",
      "source": [
        "import numpy as np\n",
        "import pandas as pd\n",
        "import seaborn as sns\n",
        "import matplotlib.pyplot as plt\n",
        "%matplotlib inline \n",
        "sns.set(style=\"ticks\")"
      ],
      "metadata": {
        "id": "zsW1_iB2WKr0"
      },
      "execution_count": null,
      "outputs": []
    },
    {
      "cell_type": "markdown",
      "source": [
        "Загрузка и предобработка данных"
      ],
      "metadata": {
        "id": "FTIQIEiiXl-V"
      }
    },
    {
      "cell_type": "code",
      "source": [
        "# Будем использовать только обучающую выборку\n",
        "data_loaded = pd.read_csv('athletes.csv', sep=\",\")"
      ],
      "metadata": {
        "id": "zMeDiD-DXm1U"
      },
      "execution_count": null,
      "outputs": []
    },
    {
      "cell_type": "code",
      "source": [
        "# размер набора данных\n",
        "data_loaded.shape"
      ],
      "metadata": {
        "colab": {
          "base_uri": "https://localhost:8080/"
        },
        "id": "TzYu7J29XvZ3",
        "outputId": "c469caf7-370e-440b-b919-938fa762900f"
      },
      "execution_count": null,
      "outputs": [
        {
          "output_type": "execute_result",
          "data": {
            "text/plain": [
              "(2897, 14)"
            ]
          },
          "metadata": {},
          "execution_count": 44
        }
      ]
    },
    {
      "cell_type": "code",
      "source": [
        "data_loaded.head()"
      ],
      "metadata": {
        "colab": {
          "base_uri": "https://localhost:8080/",
          "height": 426
        },
        "id": "1Ihp4ARCX0rJ",
        "outputId": "a57dc052-95fd-426f-b2fb-e8d034e9632b"
      },
      "execution_count": null,
      "outputs": [
        {
          "output_type": "execute_result",
          "data": {
            "text/plain": [
              "                name    short_name gender  birth_date    birth_place  \\\n",
              "0     AAGAARD Mikkel     AAGAARD M   Male  1995-10-18  FREDERIKSHAVN   \n",
              "1        AALTO Antti       AALTO A   Male  1995-04-02          KITEE   \n",
              "2      AALTONEN Miro    AALTONEN M   Male  1993-06-07        JOENSUU   \n",
              "3  ABDELKADER Justin  ABDELKADER J   Male  1987-02-25   MUSKEGON, MI   \n",
              "4         ABDI Fayik        ABDI F   Male  1997-10-07  SAN DIEGO, CA   \n",
              "\n",
              "              birth_country                   country country_code  \\\n",
              "0                   Denmark                   Denmark          DEN   \n",
              "1                   Finland                   Finland          FIN   \n",
              "2                   Finland                   Finland          FIN   \n",
              "3  United States of America  United States of America          USA   \n",
              "4  United States of America              Saudi Arabia          KSA   \n",
              "\n",
              "      discipline discipline_code   residence_place         residence_country  \\\n",
              "0     Ice Hockey             IHO      ORNSKOLDSVIK                    Sweden   \n",
              "1    Ski Jumping             SJP            KUOPIO                   Finland   \n",
              "2     Ice Hockey             IHO           PODOLSK        Russian Federation   \n",
              "3     Ice Hockey             IHO  GRAND RAPIDS, MI  United States of America   \n",
              "4  Alpine Skiing             ALP           DHAHRAN              Saudi Arabia   \n",
              "\n",
              "   height_m/ft                                                url  \n",
              "0   1.84/6'0''  ../../../en/results/ice-hockey/athlete-profile...  \n",
              "1          NaN  ../../../en/results/ski-jumping/athlete-profil...  \n",
              "2  1.80/5'10''  ../../../en/results/ice-hockey/athlete-profile...  \n",
              "3   1.87/6'1''  ../../../en/results/ice-hockey/athlete-profile...  \n",
              "4          NaN  ../../../en/results/alpine-skiing/athlete-prof...  "
            ],
            "text/html": [
              "\n",
              "  <div id=\"df-aebd1efb-8bfb-465b-9d87-168b03ede9f3\">\n",
              "    <div class=\"colab-df-container\">\n",
              "      <div>\n",
              "<style scoped>\n",
              "    .dataframe tbody tr th:only-of-type {\n",
              "        vertical-align: middle;\n",
              "    }\n",
              "\n",
              "    .dataframe tbody tr th {\n",
              "        vertical-align: top;\n",
              "    }\n",
              "\n",
              "    .dataframe thead th {\n",
              "        text-align: right;\n",
              "    }\n",
              "</style>\n",
              "<table border=\"1\" class=\"dataframe\">\n",
              "  <thead>\n",
              "    <tr style=\"text-align: right;\">\n",
              "      <th></th>\n",
              "      <th>name</th>\n",
              "      <th>short_name</th>\n",
              "      <th>gender</th>\n",
              "      <th>birth_date</th>\n",
              "      <th>birth_place</th>\n",
              "      <th>birth_country</th>\n",
              "      <th>country</th>\n",
              "      <th>country_code</th>\n",
              "      <th>discipline</th>\n",
              "      <th>discipline_code</th>\n",
              "      <th>residence_place</th>\n",
              "      <th>residence_country</th>\n",
              "      <th>height_m/ft</th>\n",
              "      <th>url</th>\n",
              "    </tr>\n",
              "  </thead>\n",
              "  <tbody>\n",
              "    <tr>\n",
              "      <th>0</th>\n",
              "      <td>AAGAARD Mikkel</td>\n",
              "      <td>AAGAARD M</td>\n",
              "      <td>Male</td>\n",
              "      <td>1995-10-18</td>\n",
              "      <td>FREDERIKSHAVN</td>\n",
              "      <td>Denmark</td>\n",
              "      <td>Denmark</td>\n",
              "      <td>DEN</td>\n",
              "      <td>Ice Hockey</td>\n",
              "      <td>IHO</td>\n",
              "      <td>ORNSKOLDSVIK</td>\n",
              "      <td>Sweden</td>\n",
              "      <td>1.84/6'0''</td>\n",
              "      <td>../../../en/results/ice-hockey/athlete-profile...</td>\n",
              "    </tr>\n",
              "    <tr>\n",
              "      <th>1</th>\n",
              "      <td>AALTO Antti</td>\n",
              "      <td>AALTO A</td>\n",
              "      <td>Male</td>\n",
              "      <td>1995-04-02</td>\n",
              "      <td>KITEE</td>\n",
              "      <td>Finland</td>\n",
              "      <td>Finland</td>\n",
              "      <td>FIN</td>\n",
              "      <td>Ski Jumping</td>\n",
              "      <td>SJP</td>\n",
              "      <td>KUOPIO</td>\n",
              "      <td>Finland</td>\n",
              "      <td>NaN</td>\n",
              "      <td>../../../en/results/ski-jumping/athlete-profil...</td>\n",
              "    </tr>\n",
              "    <tr>\n",
              "      <th>2</th>\n",
              "      <td>AALTONEN Miro</td>\n",
              "      <td>AALTONEN M</td>\n",
              "      <td>Male</td>\n",
              "      <td>1993-06-07</td>\n",
              "      <td>JOENSUU</td>\n",
              "      <td>Finland</td>\n",
              "      <td>Finland</td>\n",
              "      <td>FIN</td>\n",
              "      <td>Ice Hockey</td>\n",
              "      <td>IHO</td>\n",
              "      <td>PODOLSK</td>\n",
              "      <td>Russian Federation</td>\n",
              "      <td>1.80/5'10''</td>\n",
              "      <td>../../../en/results/ice-hockey/athlete-profile...</td>\n",
              "    </tr>\n",
              "    <tr>\n",
              "      <th>3</th>\n",
              "      <td>ABDELKADER Justin</td>\n",
              "      <td>ABDELKADER J</td>\n",
              "      <td>Male</td>\n",
              "      <td>1987-02-25</td>\n",
              "      <td>MUSKEGON, MI</td>\n",
              "      <td>United States of America</td>\n",
              "      <td>United States of America</td>\n",
              "      <td>USA</td>\n",
              "      <td>Ice Hockey</td>\n",
              "      <td>IHO</td>\n",
              "      <td>GRAND RAPIDS, MI</td>\n",
              "      <td>United States of America</td>\n",
              "      <td>1.87/6'1''</td>\n",
              "      <td>../../../en/results/ice-hockey/athlete-profile...</td>\n",
              "    </tr>\n",
              "    <tr>\n",
              "      <th>4</th>\n",
              "      <td>ABDI Fayik</td>\n",
              "      <td>ABDI F</td>\n",
              "      <td>Male</td>\n",
              "      <td>1997-10-07</td>\n",
              "      <td>SAN DIEGO, CA</td>\n",
              "      <td>United States of America</td>\n",
              "      <td>Saudi Arabia</td>\n",
              "      <td>KSA</td>\n",
              "      <td>Alpine Skiing</td>\n",
              "      <td>ALP</td>\n",
              "      <td>DHAHRAN</td>\n",
              "      <td>Saudi Arabia</td>\n",
              "      <td>NaN</td>\n",
              "      <td>../../../en/results/alpine-skiing/athlete-prof...</td>\n",
              "    </tr>\n",
              "  </tbody>\n",
              "</table>\n",
              "</div>\n",
              "      <button class=\"colab-df-convert\" onclick=\"convertToInteractive('df-aebd1efb-8bfb-465b-9d87-168b03ede9f3')\"\n",
              "              title=\"Convert this dataframe to an interactive table.\"\n",
              "              style=\"display:none;\">\n",
              "        \n",
              "  <svg xmlns=\"http://www.w3.org/2000/svg\" height=\"24px\"viewBox=\"0 0 24 24\"\n",
              "       width=\"24px\">\n",
              "    <path d=\"M0 0h24v24H0V0z\" fill=\"none\"/>\n",
              "    <path d=\"M18.56 5.44l.94 2.06.94-2.06 2.06-.94-2.06-.94-.94-2.06-.94 2.06-2.06.94zm-11 1L8.5 8.5l.94-2.06 2.06-.94-2.06-.94L8.5 2.5l-.94 2.06-2.06.94zm10 10l.94 2.06.94-2.06 2.06-.94-2.06-.94-.94-2.06-.94 2.06-2.06.94z\"/><path d=\"M17.41 7.96l-1.37-1.37c-.4-.4-.92-.59-1.43-.59-.52 0-1.04.2-1.43.59L10.3 9.45l-7.72 7.72c-.78.78-.78 2.05 0 2.83L4 21.41c.39.39.9.59 1.41.59.51 0 1.02-.2 1.41-.59l7.78-7.78 2.81-2.81c.8-.78.8-2.07 0-2.86zM5.41 20L4 18.59l7.72-7.72 1.47 1.35L5.41 20z\"/>\n",
              "  </svg>\n",
              "      </button>\n",
              "      \n",
              "  <style>\n",
              "    .colab-df-container {\n",
              "      display:flex;\n",
              "      flex-wrap:wrap;\n",
              "      gap: 12px;\n",
              "    }\n",
              "\n",
              "    .colab-df-convert {\n",
              "      background-color: #E8F0FE;\n",
              "      border: none;\n",
              "      border-radius: 50%;\n",
              "      cursor: pointer;\n",
              "      display: none;\n",
              "      fill: #1967D2;\n",
              "      height: 32px;\n",
              "      padding: 0 0 0 0;\n",
              "      width: 32px;\n",
              "    }\n",
              "\n",
              "    .colab-df-convert:hover {\n",
              "      background-color: #E2EBFA;\n",
              "      box-shadow: 0px 1px 2px rgba(60, 64, 67, 0.3), 0px 1px 3px 1px rgba(60, 64, 67, 0.15);\n",
              "      fill: #174EA6;\n",
              "    }\n",
              "\n",
              "    [theme=dark] .colab-df-convert {\n",
              "      background-color: #3B4455;\n",
              "      fill: #D2E3FC;\n",
              "    }\n",
              "\n",
              "    [theme=dark] .colab-df-convert:hover {\n",
              "      background-color: #434B5C;\n",
              "      box-shadow: 0px 1px 3px 1px rgba(0, 0, 0, 0.15);\n",
              "      filter: drop-shadow(0px 1px 2px rgba(0, 0, 0, 0.3));\n",
              "      fill: #FFFFFF;\n",
              "    }\n",
              "  </style>\n",
              "\n",
              "      <script>\n",
              "        const buttonEl =\n",
              "          document.querySelector('#df-aebd1efb-8bfb-465b-9d87-168b03ede9f3 button.colab-df-convert');\n",
              "        buttonEl.style.display =\n",
              "          google.colab.kernel.accessAllowed ? 'block' : 'none';\n",
              "\n",
              "        async function convertToInteractive(key) {\n",
              "          const element = document.querySelector('#df-aebd1efb-8bfb-465b-9d87-168b03ede9f3');\n",
              "          const dataTable =\n",
              "            await google.colab.kernel.invokeFunction('convertToInteractive',\n",
              "                                                     [key], {});\n",
              "          if (!dataTable) return;\n",
              "\n",
              "          const docLinkHtml = 'Like what you see? Visit the ' +\n",
              "            '<a target=\"_blank\" href=https://colab.research.google.com/notebooks/data_table.ipynb>data table notebook</a>'\n",
              "            + ' to learn more about interactive tables.';\n",
              "          element.innerHTML = '';\n",
              "          dataTable['output_type'] = 'display_data';\n",
              "          await google.colab.output.renderOutput(dataTable, element);\n",
              "          const docLink = document.createElement('div');\n",
              "          docLink.innerHTML = docLinkHtml;\n",
              "          element.appendChild(docLink);\n",
              "        }\n",
              "      </script>\n",
              "    </div>\n",
              "  </div>\n",
              "  "
            ]
          },
          "metadata": {},
          "execution_count": 45
        }
      ]
    },
    {
      "cell_type": "code",
      "source": [
        "data_features = list(zip(\n",
        "# признаки\n",
        "[i for i in data_loaded.columns],\n",
        "zip(\n",
        "    # типы колонок\n",
        "    [str(i) for i in data_loaded.dtypes],\n",
        "    # проверим есть ли пропущенные значения\n",
        "    [i for i in data_loaded.isnull().sum()]\n",
        ")))\n",
        "# Признаки с типом данных и количеством пропусков\n",
        "data_features"
      ],
      "metadata": {
        "colab": {
          "base_uri": "https://localhost:8080/"
        },
        "id": "cWCbMiOeX5gd",
        "outputId": "b75e283a-dd65-4845-98c0-ebc7b77aeb40"
      },
      "execution_count": null,
      "outputs": [
        {
          "output_type": "execute_result",
          "data": {
            "text/plain": [
              "[('name', ('object', 0)),\n",
              " ('short_name', ('object', 0)),\n",
              " ('gender', ('object', 0)),\n",
              " ('birth_date', ('object', 12)),\n",
              " ('birth_place', ('object', 248)),\n",
              " ('birth_country', ('object', 131)),\n",
              " ('country', ('object', 0)),\n",
              " ('country_code', ('object', 0)),\n",
              " ('discipline', ('object', 12)),\n",
              " ('discipline_code', ('object', 0)),\n",
              " ('residence_place', ('object', 406)),\n",
              " ('residence_country', ('object', 266)),\n",
              " ('height_m/ft', ('object', 2152)),\n",
              " ('url', ('object', 0))]"
            ]
          },
          "metadata": {},
          "execution_count": 46
        }
      ]
    },
    {
      "cell_type": "code",
      "source": [
        "# Используем только некоторые признаки\n",
        "cols_filter = ['name', 'short_name', 'gender','country','country_code',\n",
        "        'discipline_code','url']\n",
        "data = data_loaded[cols_filter]\n",
        "data.head()"
      ],
      "metadata": {
        "colab": {
          "base_uri": "https://localhost:8080/",
          "height": 206
        },
        "id": "cmf7RW8eX9IO",
        "outputId": "655f16db-1e25-478b-bd81-febfc48821b5"
      },
      "execution_count": null,
      "outputs": [
        {
          "output_type": "execute_result",
          "data": {
            "text/plain": [
              "                name    short_name gender                   country  \\\n",
              "0     AAGAARD Mikkel     AAGAARD M   Male                   Denmark   \n",
              "1        AALTO Antti       AALTO A   Male                   Finland   \n",
              "2      AALTONEN Miro    AALTONEN M   Male                   Finland   \n",
              "3  ABDELKADER Justin  ABDELKADER J   Male  United States of America   \n",
              "4         ABDI Fayik        ABDI F   Male              Saudi Arabia   \n",
              "\n",
              "  country_code discipline_code  \\\n",
              "0          DEN             IHO   \n",
              "1          FIN             SJP   \n",
              "2          FIN             IHO   \n",
              "3          USA             IHO   \n",
              "4          KSA             ALP   \n",
              "\n",
              "                                                 url  \n",
              "0  ../../../en/results/ice-hockey/athlete-profile...  \n",
              "1  ../../../en/results/ski-jumping/athlete-profil...  \n",
              "2  ../../../en/results/ice-hockey/athlete-profile...  \n",
              "3  ../../../en/results/ice-hockey/athlete-profile...  \n",
              "4  ../../../en/results/alpine-skiing/athlete-prof...  "
            ],
            "text/html": [
              "\n",
              "  <div id=\"df-39d13423-ae06-46a2-b30f-2be278ea45d8\">\n",
              "    <div class=\"colab-df-container\">\n",
              "      <div>\n",
              "<style scoped>\n",
              "    .dataframe tbody tr th:only-of-type {\n",
              "        vertical-align: middle;\n",
              "    }\n",
              "\n",
              "    .dataframe tbody tr th {\n",
              "        vertical-align: top;\n",
              "    }\n",
              "\n",
              "    .dataframe thead th {\n",
              "        text-align: right;\n",
              "    }\n",
              "</style>\n",
              "<table border=\"1\" class=\"dataframe\">\n",
              "  <thead>\n",
              "    <tr style=\"text-align: right;\">\n",
              "      <th></th>\n",
              "      <th>name</th>\n",
              "      <th>short_name</th>\n",
              "      <th>gender</th>\n",
              "      <th>country</th>\n",
              "      <th>country_code</th>\n",
              "      <th>discipline_code</th>\n",
              "      <th>url</th>\n",
              "    </tr>\n",
              "  </thead>\n",
              "  <tbody>\n",
              "    <tr>\n",
              "      <th>0</th>\n",
              "      <td>AAGAARD Mikkel</td>\n",
              "      <td>AAGAARD M</td>\n",
              "      <td>Male</td>\n",
              "      <td>Denmark</td>\n",
              "      <td>DEN</td>\n",
              "      <td>IHO</td>\n",
              "      <td>../../../en/results/ice-hockey/athlete-profile...</td>\n",
              "    </tr>\n",
              "    <tr>\n",
              "      <th>1</th>\n",
              "      <td>AALTO Antti</td>\n",
              "      <td>AALTO A</td>\n",
              "      <td>Male</td>\n",
              "      <td>Finland</td>\n",
              "      <td>FIN</td>\n",
              "      <td>SJP</td>\n",
              "      <td>../../../en/results/ski-jumping/athlete-profil...</td>\n",
              "    </tr>\n",
              "    <tr>\n",
              "      <th>2</th>\n",
              "      <td>AALTONEN Miro</td>\n",
              "      <td>AALTONEN M</td>\n",
              "      <td>Male</td>\n",
              "      <td>Finland</td>\n",
              "      <td>FIN</td>\n",
              "      <td>IHO</td>\n",
              "      <td>../../../en/results/ice-hockey/athlete-profile...</td>\n",
              "    </tr>\n",
              "    <tr>\n",
              "      <th>3</th>\n",
              "      <td>ABDELKADER Justin</td>\n",
              "      <td>ABDELKADER J</td>\n",
              "      <td>Male</td>\n",
              "      <td>United States of America</td>\n",
              "      <td>USA</td>\n",
              "      <td>IHO</td>\n",
              "      <td>../../../en/results/ice-hockey/athlete-profile...</td>\n",
              "    </tr>\n",
              "    <tr>\n",
              "      <th>4</th>\n",
              "      <td>ABDI Fayik</td>\n",
              "      <td>ABDI F</td>\n",
              "      <td>Male</td>\n",
              "      <td>Saudi Arabia</td>\n",
              "      <td>KSA</td>\n",
              "      <td>ALP</td>\n",
              "      <td>../../../en/results/alpine-skiing/athlete-prof...</td>\n",
              "    </tr>\n",
              "  </tbody>\n",
              "</table>\n",
              "</div>\n",
              "      <button class=\"colab-df-convert\" onclick=\"convertToInteractive('df-39d13423-ae06-46a2-b30f-2be278ea45d8')\"\n",
              "              title=\"Convert this dataframe to an interactive table.\"\n",
              "              style=\"display:none;\">\n",
              "        \n",
              "  <svg xmlns=\"http://www.w3.org/2000/svg\" height=\"24px\"viewBox=\"0 0 24 24\"\n",
              "       width=\"24px\">\n",
              "    <path d=\"M0 0h24v24H0V0z\" fill=\"none\"/>\n",
              "    <path d=\"M18.56 5.44l.94 2.06.94-2.06 2.06-.94-2.06-.94-.94-2.06-.94 2.06-2.06.94zm-11 1L8.5 8.5l.94-2.06 2.06-.94-2.06-.94L8.5 2.5l-.94 2.06-2.06.94zm10 10l.94 2.06.94-2.06 2.06-.94-2.06-.94-.94-2.06-.94 2.06-2.06.94z\"/><path d=\"M17.41 7.96l-1.37-1.37c-.4-.4-.92-.59-1.43-.59-.52 0-1.04.2-1.43.59L10.3 9.45l-7.72 7.72c-.78.78-.78 2.05 0 2.83L4 21.41c.39.39.9.59 1.41.59.51 0 1.02-.2 1.41-.59l7.78-7.78 2.81-2.81c.8-.78.8-2.07 0-2.86zM5.41 20L4 18.59l7.72-7.72 1.47 1.35L5.41 20z\"/>\n",
              "  </svg>\n",
              "      </button>\n",
              "      \n",
              "  <style>\n",
              "    .colab-df-container {\n",
              "      display:flex;\n",
              "      flex-wrap:wrap;\n",
              "      gap: 12px;\n",
              "    }\n",
              "\n",
              "    .colab-df-convert {\n",
              "      background-color: #E8F0FE;\n",
              "      border: none;\n",
              "      border-radius: 50%;\n",
              "      cursor: pointer;\n",
              "      display: none;\n",
              "      fill: #1967D2;\n",
              "      height: 32px;\n",
              "      padding: 0 0 0 0;\n",
              "      width: 32px;\n",
              "    }\n",
              "\n",
              "    .colab-df-convert:hover {\n",
              "      background-color: #E2EBFA;\n",
              "      box-shadow: 0px 1px 2px rgba(60, 64, 67, 0.3), 0px 1px 3px 1px rgba(60, 64, 67, 0.15);\n",
              "      fill: #174EA6;\n",
              "    }\n",
              "\n",
              "    [theme=dark] .colab-df-convert {\n",
              "      background-color: #3B4455;\n",
              "      fill: #D2E3FC;\n",
              "    }\n",
              "\n",
              "    [theme=dark] .colab-df-convert:hover {\n",
              "      background-color: #434B5C;\n",
              "      box-shadow: 0px 1px 3px 1px rgba(0, 0, 0, 0.15);\n",
              "      filter: drop-shadow(0px 1px 2px rgba(0, 0, 0, 0.3));\n",
              "      fill: #FFFFFF;\n",
              "    }\n",
              "  </style>\n",
              "\n",
              "      <script>\n",
              "        const buttonEl =\n",
              "          document.querySelector('#df-39d13423-ae06-46a2-b30f-2be278ea45d8 button.colab-df-convert');\n",
              "        buttonEl.style.display =\n",
              "          google.colab.kernel.accessAllowed ? 'block' : 'none';\n",
              "\n",
              "        async function convertToInteractive(key) {\n",
              "          const element = document.querySelector('#df-39d13423-ae06-46a2-b30f-2be278ea45d8');\n",
              "          const dataTable =\n",
              "            await google.colab.kernel.invokeFunction('convertToInteractive',\n",
              "                                                     [key], {});\n",
              "          if (!dataTable) return;\n",
              "\n",
              "          const docLinkHtml = 'Like what you see? Visit the ' +\n",
              "            '<a target=\"_blank\" href=https://colab.research.google.com/notebooks/data_table.ipynb>data table notebook</a>'\n",
              "            + ' to learn more about interactive tables.';\n",
              "          element.innerHTML = '';\n",
              "          dataTable['output_type'] = 'display_data';\n",
              "          await google.colab.output.renderOutput(dataTable, element);\n",
              "          const docLink = document.createElement('div');\n",
              "          docLink.innerHTML = docLinkHtml;\n",
              "          element.appendChild(docLink);\n",
              "        }\n",
              "      </script>\n",
              "    </div>\n",
              "  </div>\n",
              "  "
            ]
          },
          "metadata": {},
          "execution_count": 47
        }
      ]
    },
    {
      "cell_type": "code",
      "source": [
        "# Убедимся что нет пустых значений\n",
        "data.isnull().sum()"
      ],
      "metadata": {
        "colab": {
          "base_uri": "https://localhost:8080/"
        },
        "id": "-9Fnc3PxZAqt",
        "outputId": "2dc4d613-258b-4669-dd73-cd9406cd6a09"
      },
      "execution_count": null,
      "outputs": [
        {
          "output_type": "execute_result",
          "data": {
            "text/plain": [
              "name               0\n",
              "short_name         0\n",
              "gender             0\n",
              "country            0\n",
              "country_code       0\n",
              "discipline_code    0\n",
              "url                0\n",
              "dtype: int64"
            ]
          },
          "metadata": {},
          "execution_count": 48
        }
      ]
    },
    {
      "cell_type": "markdown",
      "source": [
        "1）. Кодирование категорий целочисленными значениями - label encoding"
      ],
      "metadata": {
        "id": "I5EueXtDbc3Q"
      }
    },
    {
      "cell_type": "code",
      "source": [
        "from sklearn.preprocessing import LabelEncoder"
      ],
      "metadata": {
        "id": "QOjmwxRibcNR"
      },
      "execution_count": null,
      "outputs": []
    },
    {
      "cell_type": "code",
      "source": [
        "le = LabelEncoder()\n",
        "cat_enc_le = le.fit_transform(data['name'])"
      ],
      "metadata": {
        "id": "N0k4YP8lbkKO"
      },
      "execution_count": null,
      "outputs": []
    },
    {
      "cell_type": "code",
      "source": [
        "data['name'].unique()"
      ],
      "metadata": {
        "colab": {
          "base_uri": "https://localhost:8080/"
        },
        "id": "a5Hdgg1-bo0F",
        "outputId": "54b8c532-80f2-4723-db7c-b94da60db840"
      },
      "execution_count": null,
      "outputs": [
        {
          "output_type": "execute_result",
          "data": {
            "text/plain": [
              "array(['AAGAARD Mikkel', 'AALTO Antti', 'AALTONEN Miro', ...,\n",
              "       'ZUZIN Peter', 'ZVEJNIEKS Miks', 'ZYLA Piotr'], dtype=object)"
            ]
          },
          "metadata": {},
          "execution_count": 51
        }
      ]
    },
    {
      "cell_type": "code",
      "source": [
        "np.unique(cat_enc_le)"
      ],
      "metadata": {
        "colab": {
          "base_uri": "https://localhost:8080/"
        },
        "id": "vzYOLgHDbsfv",
        "outputId": "83ec58a7-6b35-443a-deda-f27ff2ee24bd"
      },
      "execution_count": null,
      "outputs": [
        {
          "output_type": "execute_result",
          "data": {
            "text/plain": [
              "array([   0,    1,    2, ..., 2891, 2892, 2893])"
            ]
          },
          "metadata": {},
          "execution_count": 52
        }
      ]
    },
    {
      "cell_type": "code",
      "source": [
        "le.inverse_transform([0, 1, 2, 3])"
      ],
      "metadata": {
        "colab": {
          "base_uri": "https://localhost:8080/"
        },
        "id": "HY0R9gK8bu2R",
        "outputId": "0a0ed351-c09b-4fb7-ff08-69a49021f575"
      },
      "execution_count": null,
      "outputs": [
        {
          "output_type": "execute_result",
          "data": {
            "text/plain": [
              "array(['AAGAARD Mikkel', 'AALTO Antti', 'AALTONEN Miro',\n",
              "       'ABDELKADER Justin'], dtype=object)"
            ]
          },
          "metadata": {},
          "execution_count": 53
        }
      ]
    },
    {
      "cell_type": "markdown",
      "source": [
        "2). Кодирование категорий наборами бинарных значений - one-hot encoding"
      ],
      "metadata": {
        "id": "uOhw88Anb8Ie"
      }
    },
    {
      "cell_type": "code",
      "source": [
        "from sklearn.preprocessing import OneHotEncoder"
      ],
      "metadata": {
        "id": "bzyBvrBdb9oG"
      },
      "execution_count": null,
      "outputs": []
    },
    {
      "cell_type": "code",
      "source": [
        "ohe = OneHotEncoder()\n",
        "cat_enc_ohe = ohe.fit_transform(data[['name']])\n",
        "cat_enc_ohe"
      ],
      "metadata": {
        "colab": {
          "base_uri": "https://localhost:8080/"
        },
        "id": "DltS_dglcB3p",
        "outputId": "5e51def2-8359-43f4-c43f-23ceafe83e69"
      },
      "execution_count": null,
      "outputs": [
        {
          "output_type": "execute_result",
          "data": {
            "text/plain": [
              "<2897x2894 sparse matrix of type '<class 'numpy.float64'>'\n",
              "\twith 2897 stored elements in Compressed Sparse Row format>"
            ]
          },
          "metadata": {},
          "execution_count": 55
        }
      ]
    },
    {
      "cell_type": "code",
      "source": [
        "cat_enc_ohe.todense()[0:10]"
      ],
      "metadata": {
        "colab": {
          "base_uri": "https://localhost:8080/"
        },
        "id": "kJHLvy2_cGp5",
        "outputId": "2c31e6f5-345e-4e56-f894-43754443b996"
      },
      "execution_count": null,
      "outputs": [
        {
          "output_type": "execute_result",
          "data": {
            "text/plain": [
              "matrix([[1., 0., 0., ..., 0., 0., 0.],\n",
              "        [0., 1., 0., ..., 0., 0., 0.],\n",
              "        [0., 0., 1., ..., 0., 0., 0.],\n",
              "        ...,\n",
              "        [0., 0., 0., ..., 0., 0., 0.],\n",
              "        [0., 0., 0., ..., 0., 0., 0.],\n",
              "        [0., 0., 0., ..., 0., 0., 0.]])"
            ]
          },
          "metadata": {},
          "execution_count": 56
        }
      ]
    },
    {
      "cell_type": "code",
      "source": [
        "pd.get_dummies(data[['name']]).head()"
      ],
      "metadata": {
        "colab": {
          "base_uri": "https://localhost:8080/",
          "height": 351
        },
        "id": "NdrOxgCAcLNG",
        "outputId": "100a2fba-b933-46f2-89ce-5d8b86e32463"
      },
      "execution_count": null,
      "outputs": [
        {
          "output_type": "execute_result",
          "data": {
            "text/plain": [
              "   name_AAGAARD Mikkel  name_AALTO Antti  name_AALTONEN Miro  \\\n",
              "0                    1                 0                   0   \n",
              "1                    0                 1                   0   \n",
              "2                    0                 0                   1   \n",
              "3                    0                 0                   0   \n",
              "4                    0                 0                   0   \n",
              "\n",
              "   name_ABDELKADER Justin  name_ABDI Fayik  name_ABDUL-SABOOR Hakeem  \\\n",
              "0                       0                0                         0   \n",
              "1                       0                0                         0   \n",
              "2                       0                0                         0   \n",
              "3                       1                0                         0   \n",
              "4                       0                1                         0   \n",
              "\n",
              "   name_ABEDA Shannon  name_ABELTSHAUSER Konrad  name_ABOLS Rodrigo  \\\n",
              "0                   0                         0                   0   \n",
              "1                   0                         0                   0   \n",
              "2                   0                         0                   0   \n",
              "3                   0                         0                   0   \n",
              "4                   0                         0                   0   \n",
              "\n",
              "   name_ABRAMENKO Oleksandr  ...  name_le BLE JAQUES Leo  \\\n",
              "0                         0  ...                       0   \n",
              "1                         0  ...                       0   \n",
              "2                         0  ...                       0   \n",
              "3                         0  ...                       0   \n",
              "4                         0  ...                       0   \n",
              "\n",
              "   name_van 'T WOUT Jens  name_van KERKHOF Yara  name_van POTTELBERGHE Joren  \\\n",
              "0                      0                      0                            0   \n",
              "1                      0                      0                            0   \n",
              "2                      0                      0                            0   \n",
              "3                      0                      0                            0   \n",
              "4                      0                      0                            0   \n",
              "\n",
              "   name_van ZUNDERT Lindsay  name_van den BROECKE Dries  \\\n",
              "0                         0                           0   \n",
              "1                         0                           0   \n",
              "2                         0                           0   \n",
              "3                         0                           0   \n",
              "4                         0                           0   \n",
              "\n",
              "   name_van der GRAAFF Laurien  name_van der POEL Nils  \\\n",
              "0                            0                       0   \n",
              "1                            0                       0   \n",
              "2                            0                       0   \n",
              "3                            0                       0   \n",
              "4                            0                       0   \n",
              "\n",
              "   name_van der VELDEN Niek  name_von APPEN Henrik  \n",
              "0                         0                      0  \n",
              "1                         0                      0  \n",
              "2                         0                      0  \n",
              "3                         0                      0  \n",
              "4                         0                      0  \n",
              "\n",
              "[5 rows x 2894 columns]"
            ],
            "text/html": [
              "\n",
              "  <div id=\"df-47bc4c4e-5de1-4af6-b97e-c7652db18334\">\n",
              "    <div class=\"colab-df-container\">\n",
              "      <div>\n",
              "<style scoped>\n",
              "    .dataframe tbody tr th:only-of-type {\n",
              "        vertical-align: middle;\n",
              "    }\n",
              "\n",
              "    .dataframe tbody tr th {\n",
              "        vertical-align: top;\n",
              "    }\n",
              "\n",
              "    .dataframe thead th {\n",
              "        text-align: right;\n",
              "    }\n",
              "</style>\n",
              "<table border=\"1\" class=\"dataframe\">\n",
              "  <thead>\n",
              "    <tr style=\"text-align: right;\">\n",
              "      <th></th>\n",
              "      <th>name_AAGAARD Mikkel</th>\n",
              "      <th>name_AALTO Antti</th>\n",
              "      <th>name_AALTONEN Miro</th>\n",
              "      <th>name_ABDELKADER Justin</th>\n",
              "      <th>name_ABDI Fayik</th>\n",
              "      <th>name_ABDUL-SABOOR Hakeem</th>\n",
              "      <th>name_ABEDA Shannon</th>\n",
              "      <th>name_ABELTSHAUSER Konrad</th>\n",
              "      <th>name_ABOLS Rodrigo</th>\n",
              "      <th>name_ABRAMENKO Oleksandr</th>\n",
              "      <th>...</th>\n",
              "      <th>name_le BLE JAQUES Leo</th>\n",
              "      <th>name_van 'T WOUT Jens</th>\n",
              "      <th>name_van KERKHOF Yara</th>\n",
              "      <th>name_van POTTELBERGHE Joren</th>\n",
              "      <th>name_van ZUNDERT Lindsay</th>\n",
              "      <th>name_van den BROECKE Dries</th>\n",
              "      <th>name_van der GRAAFF Laurien</th>\n",
              "      <th>name_van der POEL Nils</th>\n",
              "      <th>name_van der VELDEN Niek</th>\n",
              "      <th>name_von APPEN Henrik</th>\n",
              "    </tr>\n",
              "  </thead>\n",
              "  <tbody>\n",
              "    <tr>\n",
              "      <th>0</th>\n",
              "      <td>1</td>\n",
              "      <td>0</td>\n",
              "      <td>0</td>\n",
              "      <td>0</td>\n",
              "      <td>0</td>\n",
              "      <td>0</td>\n",
              "      <td>0</td>\n",
              "      <td>0</td>\n",
              "      <td>0</td>\n",
              "      <td>0</td>\n",
              "      <td>...</td>\n",
              "      <td>0</td>\n",
              "      <td>0</td>\n",
              "      <td>0</td>\n",
              "      <td>0</td>\n",
              "      <td>0</td>\n",
              "      <td>0</td>\n",
              "      <td>0</td>\n",
              "      <td>0</td>\n",
              "      <td>0</td>\n",
              "      <td>0</td>\n",
              "    </tr>\n",
              "    <tr>\n",
              "      <th>1</th>\n",
              "      <td>0</td>\n",
              "      <td>1</td>\n",
              "      <td>0</td>\n",
              "      <td>0</td>\n",
              "      <td>0</td>\n",
              "      <td>0</td>\n",
              "      <td>0</td>\n",
              "      <td>0</td>\n",
              "      <td>0</td>\n",
              "      <td>0</td>\n",
              "      <td>...</td>\n",
              "      <td>0</td>\n",
              "      <td>0</td>\n",
              "      <td>0</td>\n",
              "      <td>0</td>\n",
              "      <td>0</td>\n",
              "      <td>0</td>\n",
              "      <td>0</td>\n",
              "      <td>0</td>\n",
              "      <td>0</td>\n",
              "      <td>0</td>\n",
              "    </tr>\n",
              "    <tr>\n",
              "      <th>2</th>\n",
              "      <td>0</td>\n",
              "      <td>0</td>\n",
              "      <td>1</td>\n",
              "      <td>0</td>\n",
              "      <td>0</td>\n",
              "      <td>0</td>\n",
              "      <td>0</td>\n",
              "      <td>0</td>\n",
              "      <td>0</td>\n",
              "      <td>0</td>\n",
              "      <td>...</td>\n",
              "      <td>0</td>\n",
              "      <td>0</td>\n",
              "      <td>0</td>\n",
              "      <td>0</td>\n",
              "      <td>0</td>\n",
              "      <td>0</td>\n",
              "      <td>0</td>\n",
              "      <td>0</td>\n",
              "      <td>0</td>\n",
              "      <td>0</td>\n",
              "    </tr>\n",
              "    <tr>\n",
              "      <th>3</th>\n",
              "      <td>0</td>\n",
              "      <td>0</td>\n",
              "      <td>0</td>\n",
              "      <td>1</td>\n",
              "      <td>0</td>\n",
              "      <td>0</td>\n",
              "      <td>0</td>\n",
              "      <td>0</td>\n",
              "      <td>0</td>\n",
              "      <td>0</td>\n",
              "      <td>...</td>\n",
              "      <td>0</td>\n",
              "      <td>0</td>\n",
              "      <td>0</td>\n",
              "      <td>0</td>\n",
              "      <td>0</td>\n",
              "      <td>0</td>\n",
              "      <td>0</td>\n",
              "      <td>0</td>\n",
              "      <td>0</td>\n",
              "      <td>0</td>\n",
              "    </tr>\n",
              "    <tr>\n",
              "      <th>4</th>\n",
              "      <td>0</td>\n",
              "      <td>0</td>\n",
              "      <td>0</td>\n",
              "      <td>0</td>\n",
              "      <td>1</td>\n",
              "      <td>0</td>\n",
              "      <td>0</td>\n",
              "      <td>0</td>\n",
              "      <td>0</td>\n",
              "      <td>0</td>\n",
              "      <td>...</td>\n",
              "      <td>0</td>\n",
              "      <td>0</td>\n",
              "      <td>0</td>\n",
              "      <td>0</td>\n",
              "      <td>0</td>\n",
              "      <td>0</td>\n",
              "      <td>0</td>\n",
              "      <td>0</td>\n",
              "      <td>0</td>\n",
              "      <td>0</td>\n",
              "    </tr>\n",
              "  </tbody>\n",
              "</table>\n",
              "<p>5 rows × 2894 columns</p>\n",
              "</div>\n",
              "      <button class=\"colab-df-convert\" onclick=\"convertToInteractive('df-47bc4c4e-5de1-4af6-b97e-c7652db18334')\"\n",
              "              title=\"Convert this dataframe to an interactive table.\"\n",
              "              style=\"display:none;\">\n",
              "        \n",
              "  <svg xmlns=\"http://www.w3.org/2000/svg\" height=\"24px\"viewBox=\"0 0 24 24\"\n",
              "       width=\"24px\">\n",
              "    <path d=\"M0 0h24v24H0V0z\" fill=\"none\"/>\n",
              "    <path d=\"M18.56 5.44l.94 2.06.94-2.06 2.06-.94-2.06-.94-.94-2.06-.94 2.06-2.06.94zm-11 1L8.5 8.5l.94-2.06 2.06-.94-2.06-.94L8.5 2.5l-.94 2.06-2.06.94zm10 10l.94 2.06.94-2.06 2.06-.94-2.06-.94-.94-2.06-.94 2.06-2.06.94z\"/><path d=\"M17.41 7.96l-1.37-1.37c-.4-.4-.92-.59-1.43-.59-.52 0-1.04.2-1.43.59L10.3 9.45l-7.72 7.72c-.78.78-.78 2.05 0 2.83L4 21.41c.39.39.9.59 1.41.59.51 0 1.02-.2 1.41-.59l7.78-7.78 2.81-2.81c.8-.78.8-2.07 0-2.86zM5.41 20L4 18.59l7.72-7.72 1.47 1.35L5.41 20z\"/>\n",
              "  </svg>\n",
              "      </button>\n",
              "      \n",
              "  <style>\n",
              "    .colab-df-container {\n",
              "      display:flex;\n",
              "      flex-wrap:wrap;\n",
              "      gap: 12px;\n",
              "    }\n",
              "\n",
              "    .colab-df-convert {\n",
              "      background-color: #E8F0FE;\n",
              "      border: none;\n",
              "      border-radius: 50%;\n",
              "      cursor: pointer;\n",
              "      display: none;\n",
              "      fill: #1967D2;\n",
              "      height: 32px;\n",
              "      padding: 0 0 0 0;\n",
              "      width: 32px;\n",
              "    }\n",
              "\n",
              "    .colab-df-convert:hover {\n",
              "      background-color: #E2EBFA;\n",
              "      box-shadow: 0px 1px 2px rgba(60, 64, 67, 0.3), 0px 1px 3px 1px rgba(60, 64, 67, 0.15);\n",
              "      fill: #174EA6;\n",
              "    }\n",
              "\n",
              "    [theme=dark] .colab-df-convert {\n",
              "      background-color: #3B4455;\n",
              "      fill: #D2E3FC;\n",
              "    }\n",
              "\n",
              "    [theme=dark] .colab-df-convert:hover {\n",
              "      background-color: #434B5C;\n",
              "      box-shadow: 0px 1px 3px 1px rgba(0, 0, 0, 0.15);\n",
              "      filter: drop-shadow(0px 1px 2px rgba(0, 0, 0, 0.3));\n",
              "      fill: #FFFFFF;\n",
              "    }\n",
              "  </style>\n",
              "\n",
              "      <script>\n",
              "        const buttonEl =\n",
              "          document.querySelector('#df-47bc4c4e-5de1-4af6-b97e-c7652db18334 button.colab-df-convert');\n",
              "        buttonEl.style.display =\n",
              "          google.colab.kernel.accessAllowed ? 'block' : 'none';\n",
              "\n",
              "        async function convertToInteractive(key) {\n",
              "          const element = document.querySelector('#df-47bc4c4e-5de1-4af6-b97e-c7652db18334');\n",
              "          const dataTable =\n",
              "            await google.colab.kernel.invokeFunction('convertToInteractive',\n",
              "                                                     [key], {});\n",
              "          if (!dataTable) return;\n",
              "\n",
              "          const docLinkHtml = 'Like what you see? Visit the ' +\n",
              "            '<a target=\"_blank\" href=https://colab.research.google.com/notebooks/data_table.ipynb>data table notebook</a>'\n",
              "            + ' to learn more about interactive tables.';\n",
              "          element.innerHTML = '';\n",
              "          dataTable['output_type'] = 'display_data';\n",
              "          await google.colab.output.renderOutput(dataTable, element);\n",
              "          const docLink = document.createElement('div');\n",
              "          docLink.innerHTML = docLinkHtml;\n",
              "          element.appendChild(docLink);\n",
              "        }\n",
              "      </script>\n",
              "    </div>\n",
              "  </div>\n",
              "  "
            ]
          },
          "metadata": {},
          "execution_count": 57
        }
      ]
    },
    {
      "cell_type": "code",
      "source": [
        "# Добавление отдельной колонки, признака пустых значений\n",
        "pd.get_dummies(data[['name']], dummy_na=True).head()"
      ],
      "metadata": {
        "colab": {
          "base_uri": "https://localhost:8080/",
          "height": 351
        },
        "id": "jmdxAUCzcRnC",
        "outputId": "38b80a67-999b-4b4f-a1d6-eddc0338d9ce"
      },
      "execution_count": null,
      "outputs": [
        {
          "output_type": "execute_result",
          "data": {
            "text/plain": [
              "   name_AAGAARD Mikkel  name_AALTO Antti  name_AALTONEN Miro  \\\n",
              "0                    1                 0                   0   \n",
              "1                    0                 1                   0   \n",
              "2                    0                 0                   1   \n",
              "3                    0                 0                   0   \n",
              "4                    0                 0                   0   \n",
              "\n",
              "   name_ABDELKADER Justin  name_ABDI Fayik  name_ABDUL-SABOOR Hakeem  \\\n",
              "0                       0                0                         0   \n",
              "1                       0                0                         0   \n",
              "2                       0                0                         0   \n",
              "3                       1                0                         0   \n",
              "4                       0                1                         0   \n",
              "\n",
              "   name_ABEDA Shannon  name_ABELTSHAUSER Konrad  name_ABOLS Rodrigo  \\\n",
              "0                   0                         0                   0   \n",
              "1                   0                         0                   0   \n",
              "2                   0                         0                   0   \n",
              "3                   0                         0                   0   \n",
              "4                   0                         0                   0   \n",
              "\n",
              "   name_ABRAMENKO Oleksandr  ...  name_van 'T WOUT Jens  \\\n",
              "0                         0  ...                      0   \n",
              "1                         0  ...                      0   \n",
              "2                         0  ...                      0   \n",
              "3                         0  ...                      0   \n",
              "4                         0  ...                      0   \n",
              "\n",
              "   name_van KERKHOF Yara  name_van POTTELBERGHE Joren  \\\n",
              "0                      0                            0   \n",
              "1                      0                            0   \n",
              "2                      0                            0   \n",
              "3                      0                            0   \n",
              "4                      0                            0   \n",
              "\n",
              "   name_van ZUNDERT Lindsay  name_van den BROECKE Dries  \\\n",
              "0                         0                           0   \n",
              "1                         0                           0   \n",
              "2                         0                           0   \n",
              "3                         0                           0   \n",
              "4                         0                           0   \n",
              "\n",
              "   name_van der GRAAFF Laurien  name_van der POEL Nils  \\\n",
              "0                            0                       0   \n",
              "1                            0                       0   \n",
              "2                            0                       0   \n",
              "3                            0                       0   \n",
              "4                            0                       0   \n",
              "\n",
              "   name_van der VELDEN Niek  name_von APPEN Henrik  name_nan  \n",
              "0                         0                      0         0  \n",
              "1                         0                      0         0  \n",
              "2                         0                      0         0  \n",
              "3                         0                      0         0  \n",
              "4                         0                      0         0  \n",
              "\n",
              "[5 rows x 2895 columns]"
            ],
            "text/html": [
              "\n",
              "  <div id=\"df-d5810180-195b-4f7f-815d-9bf2677dc1ef\">\n",
              "    <div class=\"colab-df-container\">\n",
              "      <div>\n",
              "<style scoped>\n",
              "    .dataframe tbody tr th:only-of-type {\n",
              "        vertical-align: middle;\n",
              "    }\n",
              "\n",
              "    .dataframe tbody tr th {\n",
              "        vertical-align: top;\n",
              "    }\n",
              "\n",
              "    .dataframe thead th {\n",
              "        text-align: right;\n",
              "    }\n",
              "</style>\n",
              "<table border=\"1\" class=\"dataframe\">\n",
              "  <thead>\n",
              "    <tr style=\"text-align: right;\">\n",
              "      <th></th>\n",
              "      <th>name_AAGAARD Mikkel</th>\n",
              "      <th>name_AALTO Antti</th>\n",
              "      <th>name_AALTONEN Miro</th>\n",
              "      <th>name_ABDELKADER Justin</th>\n",
              "      <th>name_ABDI Fayik</th>\n",
              "      <th>name_ABDUL-SABOOR Hakeem</th>\n",
              "      <th>name_ABEDA Shannon</th>\n",
              "      <th>name_ABELTSHAUSER Konrad</th>\n",
              "      <th>name_ABOLS Rodrigo</th>\n",
              "      <th>name_ABRAMENKO Oleksandr</th>\n",
              "      <th>...</th>\n",
              "      <th>name_van 'T WOUT Jens</th>\n",
              "      <th>name_van KERKHOF Yara</th>\n",
              "      <th>name_van POTTELBERGHE Joren</th>\n",
              "      <th>name_van ZUNDERT Lindsay</th>\n",
              "      <th>name_van den BROECKE Dries</th>\n",
              "      <th>name_van der GRAAFF Laurien</th>\n",
              "      <th>name_van der POEL Nils</th>\n",
              "      <th>name_van der VELDEN Niek</th>\n",
              "      <th>name_von APPEN Henrik</th>\n",
              "      <th>name_nan</th>\n",
              "    </tr>\n",
              "  </thead>\n",
              "  <tbody>\n",
              "    <tr>\n",
              "      <th>0</th>\n",
              "      <td>1</td>\n",
              "      <td>0</td>\n",
              "      <td>0</td>\n",
              "      <td>0</td>\n",
              "      <td>0</td>\n",
              "      <td>0</td>\n",
              "      <td>0</td>\n",
              "      <td>0</td>\n",
              "      <td>0</td>\n",
              "      <td>0</td>\n",
              "      <td>...</td>\n",
              "      <td>0</td>\n",
              "      <td>0</td>\n",
              "      <td>0</td>\n",
              "      <td>0</td>\n",
              "      <td>0</td>\n",
              "      <td>0</td>\n",
              "      <td>0</td>\n",
              "      <td>0</td>\n",
              "      <td>0</td>\n",
              "      <td>0</td>\n",
              "    </tr>\n",
              "    <tr>\n",
              "      <th>1</th>\n",
              "      <td>0</td>\n",
              "      <td>1</td>\n",
              "      <td>0</td>\n",
              "      <td>0</td>\n",
              "      <td>0</td>\n",
              "      <td>0</td>\n",
              "      <td>0</td>\n",
              "      <td>0</td>\n",
              "      <td>0</td>\n",
              "      <td>0</td>\n",
              "      <td>...</td>\n",
              "      <td>0</td>\n",
              "      <td>0</td>\n",
              "      <td>0</td>\n",
              "      <td>0</td>\n",
              "      <td>0</td>\n",
              "      <td>0</td>\n",
              "      <td>0</td>\n",
              "      <td>0</td>\n",
              "      <td>0</td>\n",
              "      <td>0</td>\n",
              "    </tr>\n",
              "    <tr>\n",
              "      <th>2</th>\n",
              "      <td>0</td>\n",
              "      <td>0</td>\n",
              "      <td>1</td>\n",
              "      <td>0</td>\n",
              "      <td>0</td>\n",
              "      <td>0</td>\n",
              "      <td>0</td>\n",
              "      <td>0</td>\n",
              "      <td>0</td>\n",
              "      <td>0</td>\n",
              "      <td>...</td>\n",
              "      <td>0</td>\n",
              "      <td>0</td>\n",
              "      <td>0</td>\n",
              "      <td>0</td>\n",
              "      <td>0</td>\n",
              "      <td>0</td>\n",
              "      <td>0</td>\n",
              "      <td>0</td>\n",
              "      <td>0</td>\n",
              "      <td>0</td>\n",
              "    </tr>\n",
              "    <tr>\n",
              "      <th>3</th>\n",
              "      <td>0</td>\n",
              "      <td>0</td>\n",
              "      <td>0</td>\n",
              "      <td>1</td>\n",
              "      <td>0</td>\n",
              "      <td>0</td>\n",
              "      <td>0</td>\n",
              "      <td>0</td>\n",
              "      <td>0</td>\n",
              "      <td>0</td>\n",
              "      <td>...</td>\n",
              "      <td>0</td>\n",
              "      <td>0</td>\n",
              "      <td>0</td>\n",
              "      <td>0</td>\n",
              "      <td>0</td>\n",
              "      <td>0</td>\n",
              "      <td>0</td>\n",
              "      <td>0</td>\n",
              "      <td>0</td>\n",
              "      <td>0</td>\n",
              "    </tr>\n",
              "    <tr>\n",
              "      <th>4</th>\n",
              "      <td>0</td>\n",
              "      <td>0</td>\n",
              "      <td>0</td>\n",
              "      <td>0</td>\n",
              "      <td>1</td>\n",
              "      <td>0</td>\n",
              "      <td>0</td>\n",
              "      <td>0</td>\n",
              "      <td>0</td>\n",
              "      <td>0</td>\n",
              "      <td>...</td>\n",
              "      <td>0</td>\n",
              "      <td>0</td>\n",
              "      <td>0</td>\n",
              "      <td>0</td>\n",
              "      <td>0</td>\n",
              "      <td>0</td>\n",
              "      <td>0</td>\n",
              "      <td>0</td>\n",
              "      <td>0</td>\n",
              "      <td>0</td>\n",
              "    </tr>\n",
              "  </tbody>\n",
              "</table>\n",
              "<p>5 rows × 2895 columns</p>\n",
              "</div>\n",
              "      <button class=\"colab-df-convert\" onclick=\"convertToInteractive('df-d5810180-195b-4f7f-815d-9bf2677dc1ef')\"\n",
              "              title=\"Convert this dataframe to an interactive table.\"\n",
              "              style=\"display:none;\">\n",
              "        \n",
              "  <svg xmlns=\"http://www.w3.org/2000/svg\" height=\"24px\"viewBox=\"0 0 24 24\"\n",
              "       width=\"24px\">\n",
              "    <path d=\"M0 0h24v24H0V0z\" fill=\"none\"/>\n",
              "    <path d=\"M18.56 5.44l.94 2.06.94-2.06 2.06-.94-2.06-.94-.94-2.06-.94 2.06-2.06.94zm-11 1L8.5 8.5l.94-2.06 2.06-.94-2.06-.94L8.5 2.5l-.94 2.06-2.06.94zm10 10l.94 2.06.94-2.06 2.06-.94-2.06-.94-.94-2.06-.94 2.06-2.06.94z\"/><path d=\"M17.41 7.96l-1.37-1.37c-.4-.4-.92-.59-1.43-.59-.52 0-1.04.2-1.43.59L10.3 9.45l-7.72 7.72c-.78.78-.78 2.05 0 2.83L4 21.41c.39.39.9.59 1.41.59.51 0 1.02-.2 1.41-.59l7.78-7.78 2.81-2.81c.8-.78.8-2.07 0-2.86zM5.41 20L4 18.59l7.72-7.72 1.47 1.35L5.41 20z\"/>\n",
              "  </svg>\n",
              "      </button>\n",
              "      \n",
              "  <style>\n",
              "    .colab-df-container {\n",
              "      display:flex;\n",
              "      flex-wrap:wrap;\n",
              "      gap: 12px;\n",
              "    }\n",
              "\n",
              "    .colab-df-convert {\n",
              "      background-color: #E8F0FE;\n",
              "      border: none;\n",
              "      border-radius: 50%;\n",
              "      cursor: pointer;\n",
              "      display: none;\n",
              "      fill: #1967D2;\n",
              "      height: 32px;\n",
              "      padding: 0 0 0 0;\n",
              "      width: 32px;\n",
              "    }\n",
              "\n",
              "    .colab-df-convert:hover {\n",
              "      background-color: #E2EBFA;\n",
              "      box-shadow: 0px 1px 2px rgba(60, 64, 67, 0.3), 0px 1px 3px 1px rgba(60, 64, 67, 0.15);\n",
              "      fill: #174EA6;\n",
              "    }\n",
              "\n",
              "    [theme=dark] .colab-df-convert {\n",
              "      background-color: #3B4455;\n",
              "      fill: #D2E3FC;\n",
              "    }\n",
              "\n",
              "    [theme=dark] .colab-df-convert:hover {\n",
              "      background-color: #434B5C;\n",
              "      box-shadow: 0px 1px 3px 1px rgba(0, 0, 0, 0.15);\n",
              "      filter: drop-shadow(0px 1px 2px rgba(0, 0, 0, 0.3));\n",
              "      fill: #FFFFFF;\n",
              "    }\n",
              "  </style>\n",
              "\n",
              "      <script>\n",
              "        const buttonEl =\n",
              "          document.querySelector('#df-d5810180-195b-4f7f-815d-9bf2677dc1ef button.colab-df-convert');\n",
              "        buttonEl.style.display =\n",
              "          google.colab.kernel.accessAllowed ? 'block' : 'none';\n",
              "\n",
              "        async function convertToInteractive(key) {\n",
              "          const element = document.querySelector('#df-d5810180-195b-4f7f-815d-9bf2677dc1ef');\n",
              "          const dataTable =\n",
              "            await google.colab.kernel.invokeFunction('convertToInteractive',\n",
              "                                                     [key], {});\n",
              "          if (!dataTable) return;\n",
              "\n",
              "          const docLinkHtml = 'Like what you see? Visit the ' +\n",
              "            '<a target=\"_blank\" href=https://colab.research.google.com/notebooks/data_table.ipynb>data table notebook</a>'\n",
              "            + ' to learn more about interactive tables.';\n",
              "          element.innerHTML = '';\n",
              "          dataTable['output_type'] = 'display_data';\n",
              "          await google.colab.output.renderOutput(dataTable, element);\n",
              "          const docLink = document.createElement('div');\n",
              "          docLink.innerHTML = docLinkHtml;\n",
              "          element.appendChild(docLink);\n",
              "        }\n",
              "      </script>\n",
              "    </div>\n",
              "  </div>\n",
              "  "
            ]
          },
          "metadata": {},
          "execution_count": 58
        }
      ]
    },
    {
      "cell_type": "code",
      "source": [
        "!pip install category_encoders"
      ],
      "metadata": {
        "colab": {
          "base_uri": "https://localhost:8080/"
        },
        "id": "YlWaX_KCcVWU",
        "outputId": "9ebe8097-de14-45d7-c76f-9ef0e626c4af"
      },
      "execution_count": null,
      "outputs": [
        {
          "output_type": "stream",
          "name": "stdout",
          "text": [
            "Looking in indexes: https://pypi.org/simple, https://us-python.pkg.dev/colab-wheels/public/simple/\n",
            "Requirement already satisfied: category_encoders in /usr/local/lib/python3.7/dist-packages (2.5.0)\n",
            "Requirement already satisfied: numpy>=1.14.0 in /usr/local/lib/python3.7/dist-packages (from category_encoders) (1.21.6)\n",
            "Requirement already satisfied: scikit-learn>=0.20.0 in /usr/local/lib/python3.7/dist-packages (from category_encoders) (1.0.2)\n",
            "Requirement already satisfied: patsy>=0.5.1 in /usr/local/lib/python3.7/dist-packages (from category_encoders) (0.5.2)\n",
            "Requirement already satisfied: scipy>=1.0.0 in /usr/local/lib/python3.7/dist-packages (from category_encoders) (1.4.1)\n",
            "Requirement already satisfied: pandas>=1.0.5 in /usr/local/lib/python3.7/dist-packages (from category_encoders) (1.3.5)\n",
            "Requirement already satisfied: statsmodels>=0.9.0 in /usr/local/lib/python3.7/dist-packages (from category_encoders) (0.10.2)\n",
            "Requirement already satisfied: pytz>=2017.3 in /usr/local/lib/python3.7/dist-packages (from pandas>=1.0.5->category_encoders) (2022.1)\n",
            "Requirement already satisfied: python-dateutil>=2.7.3 in /usr/local/lib/python3.7/dist-packages (from pandas>=1.0.5->category_encoders) (2.8.2)\n",
            "Requirement already satisfied: six in /usr/local/lib/python3.7/dist-packages (from patsy>=0.5.1->category_encoders) (1.15.0)\n",
            "Requirement already satisfied: threadpoolctl>=2.0.0 in /usr/local/lib/python3.7/dist-packages (from scikit-learn>=0.20.0->category_encoders) (3.1.0)\n",
            "Requirement already satisfied: joblib>=0.11 in /usr/local/lib/python3.7/dist-packages (from scikit-learn>=0.20.0->category_encoders) (1.1.0)\n"
          ]
        }
      ]
    },
    {
      "cell_type": "code",
      "source": [
        "from category_encoders.one_hot import OneHotEncoder as ce_OneHotEncoder"
      ],
      "metadata": {
        "colab": {
          "base_uri": "https://localhost:8080/"
        },
        "id": "GcLkdDkkcuc_",
        "outputId": "8c226cc5-5acb-4523-f508-7f02abe5dfda"
      },
      "execution_count": null,
      "outputs": [
        {
          "output_type": "stream",
          "name": "stderr",
          "text": [
            "/usr/local/lib/python3.7/dist-packages/statsmodels/tools/_testing.py:19: FutureWarning: pandas.util.testing is deprecated. Use the functions in the public API at pandas.testing instead.\n",
            "  import pandas.util.testing as tm\n"
          ]
        }
      ]
    },
    {
      "cell_type": "code",
      "source": [
        "ce_OneHotEncoder1 = ce_OneHotEncoder()\n",
        "data_OHE = ce_OneHotEncoder1.fit_transform(data[data.columns.difference(['country'])])"
      ],
      "metadata": {
        "id": "HoBbbNO1cyUH"
      },
      "execution_count": null,
      "outputs": []
    },
    {
      "cell_type": "code",
      "source": [
        "data_OHE"
      ],
      "metadata": {
        "colab": {
          "base_uri": "https://localhost:8080/",
          "height": 487
        },
        "id": "hJVlFAA6c5UJ",
        "outputId": "509b4982-1b1f-4d07-9d68-996660b12c76"
      },
      "execution_count": null,
      "outputs": [
        {
          "output_type": "execute_result",
          "data": {
            "text/plain": [
              "      country_code_1  country_code_2  country_code_3  country_code_4  \\\n",
              "0                  1               0               0               0   \n",
              "1                  0               1               0               0   \n",
              "2                  0               1               0               0   \n",
              "3                  0               0               1               0   \n",
              "4                  0               0               0               1   \n",
              "...              ...             ...             ...             ...   \n",
              "2892               0               0               0               0   \n",
              "2893               0               0               0               0   \n",
              "2894               0               0               0               0   \n",
              "2895               0               0               0               0   \n",
              "2896               0               0               0               0   \n",
              "\n",
              "      country_code_5  country_code_6  country_code_7  country_code_8  \\\n",
              "0                  0               0               0               0   \n",
              "1                  0               0               0               0   \n",
              "2                  0               0               0               0   \n",
              "3                  0               0               0               0   \n",
              "4                  0               0               0               0   \n",
              "...              ...             ...             ...             ...   \n",
              "2892               0               0               0               0   \n",
              "2893               0               0               0               0   \n",
              "2894               0               0               0               0   \n",
              "2895               0               0               1               0   \n",
              "2896               0               0               0               0   \n",
              "\n",
              "      country_code_9  country_code_10  ...  url_2888  url_2889  url_2890  \\\n",
              "0                  0                0  ...         0         0         0   \n",
              "1                  0                0  ...         0         0         0   \n",
              "2                  0                0  ...         0         0         0   \n",
              "3                  0                0  ...         0         0         0   \n",
              "4                  0                0  ...         0         0         0   \n",
              "...              ...              ...  ...       ...       ...       ...   \n",
              "2892               0                0  ...         0         0         0   \n",
              "2893               0                0  ...         0         0         0   \n",
              "2894               0                0  ...         0         0         0   \n",
              "2895               0                0  ...         0         0         0   \n",
              "2896               0                0  ...         0         0         0   \n",
              "\n",
              "      url_2891  url_2892  url_2893  url_2894  url_2895  url_2896  url_2897  \n",
              "0            0         0         0         0         0         0         0  \n",
              "1            0         0         0         0         0         0         0  \n",
              "2            0         0         0         0         0         0         0  \n",
              "3            0         0         0         0         0         0         0  \n",
              "4            0         0         0         0         0         0         0  \n",
              "...        ...       ...       ...       ...       ...       ...       ...  \n",
              "2892         0         0         1         0         0         0         0  \n",
              "2893         0         0         0         1         0         0         0  \n",
              "2894         0         0         0         0         1         0         0  \n",
              "2895         0         0         0         0         0         1         0  \n",
              "2896         0         0         0         0         0         0         1  \n",
              "\n",
              "[2897 rows x 8742 columns]"
            ],
            "text/html": [
              "\n",
              "  <div id=\"df-8b2cf671-9756-4d3e-9742-eda11c14a095\">\n",
              "    <div class=\"colab-df-container\">\n",
              "      <div>\n",
              "<style scoped>\n",
              "    .dataframe tbody tr th:only-of-type {\n",
              "        vertical-align: middle;\n",
              "    }\n",
              "\n",
              "    .dataframe tbody tr th {\n",
              "        vertical-align: top;\n",
              "    }\n",
              "\n",
              "    .dataframe thead th {\n",
              "        text-align: right;\n",
              "    }\n",
              "</style>\n",
              "<table border=\"1\" class=\"dataframe\">\n",
              "  <thead>\n",
              "    <tr style=\"text-align: right;\">\n",
              "      <th></th>\n",
              "      <th>country_code_1</th>\n",
              "      <th>country_code_2</th>\n",
              "      <th>country_code_3</th>\n",
              "      <th>country_code_4</th>\n",
              "      <th>country_code_5</th>\n",
              "      <th>country_code_6</th>\n",
              "      <th>country_code_7</th>\n",
              "      <th>country_code_8</th>\n",
              "      <th>country_code_9</th>\n",
              "      <th>country_code_10</th>\n",
              "      <th>...</th>\n",
              "      <th>url_2888</th>\n",
              "      <th>url_2889</th>\n",
              "      <th>url_2890</th>\n",
              "      <th>url_2891</th>\n",
              "      <th>url_2892</th>\n",
              "      <th>url_2893</th>\n",
              "      <th>url_2894</th>\n",
              "      <th>url_2895</th>\n",
              "      <th>url_2896</th>\n",
              "      <th>url_2897</th>\n",
              "    </tr>\n",
              "  </thead>\n",
              "  <tbody>\n",
              "    <tr>\n",
              "      <th>0</th>\n",
              "      <td>1</td>\n",
              "      <td>0</td>\n",
              "      <td>0</td>\n",
              "      <td>0</td>\n",
              "      <td>0</td>\n",
              "      <td>0</td>\n",
              "      <td>0</td>\n",
              "      <td>0</td>\n",
              "      <td>0</td>\n",
              "      <td>0</td>\n",
              "      <td>...</td>\n",
              "      <td>0</td>\n",
              "      <td>0</td>\n",
              "      <td>0</td>\n",
              "      <td>0</td>\n",
              "      <td>0</td>\n",
              "      <td>0</td>\n",
              "      <td>0</td>\n",
              "      <td>0</td>\n",
              "      <td>0</td>\n",
              "      <td>0</td>\n",
              "    </tr>\n",
              "    <tr>\n",
              "      <th>1</th>\n",
              "      <td>0</td>\n",
              "      <td>1</td>\n",
              "      <td>0</td>\n",
              "      <td>0</td>\n",
              "      <td>0</td>\n",
              "      <td>0</td>\n",
              "      <td>0</td>\n",
              "      <td>0</td>\n",
              "      <td>0</td>\n",
              "      <td>0</td>\n",
              "      <td>...</td>\n",
              "      <td>0</td>\n",
              "      <td>0</td>\n",
              "      <td>0</td>\n",
              "      <td>0</td>\n",
              "      <td>0</td>\n",
              "      <td>0</td>\n",
              "      <td>0</td>\n",
              "      <td>0</td>\n",
              "      <td>0</td>\n",
              "      <td>0</td>\n",
              "    </tr>\n",
              "    <tr>\n",
              "      <th>2</th>\n",
              "      <td>0</td>\n",
              "      <td>1</td>\n",
              "      <td>0</td>\n",
              "      <td>0</td>\n",
              "      <td>0</td>\n",
              "      <td>0</td>\n",
              "      <td>0</td>\n",
              "      <td>0</td>\n",
              "      <td>0</td>\n",
              "      <td>0</td>\n",
              "      <td>...</td>\n",
              "      <td>0</td>\n",
              "      <td>0</td>\n",
              "      <td>0</td>\n",
              "      <td>0</td>\n",
              "      <td>0</td>\n",
              "      <td>0</td>\n",
              "      <td>0</td>\n",
              "      <td>0</td>\n",
              "      <td>0</td>\n",
              "      <td>0</td>\n",
              "    </tr>\n",
              "    <tr>\n",
              "      <th>3</th>\n",
              "      <td>0</td>\n",
              "      <td>0</td>\n",
              "      <td>1</td>\n",
              "      <td>0</td>\n",
              "      <td>0</td>\n",
              "      <td>0</td>\n",
              "      <td>0</td>\n",
              "      <td>0</td>\n",
              "      <td>0</td>\n",
              "      <td>0</td>\n",
              "      <td>...</td>\n",
              "      <td>0</td>\n",
              "      <td>0</td>\n",
              "      <td>0</td>\n",
              "      <td>0</td>\n",
              "      <td>0</td>\n",
              "      <td>0</td>\n",
              "      <td>0</td>\n",
              "      <td>0</td>\n",
              "      <td>0</td>\n",
              "      <td>0</td>\n",
              "    </tr>\n",
              "    <tr>\n",
              "      <th>4</th>\n",
              "      <td>0</td>\n",
              "      <td>0</td>\n",
              "      <td>0</td>\n",
              "      <td>1</td>\n",
              "      <td>0</td>\n",
              "      <td>0</td>\n",
              "      <td>0</td>\n",
              "      <td>0</td>\n",
              "      <td>0</td>\n",
              "      <td>0</td>\n",
              "      <td>...</td>\n",
              "      <td>0</td>\n",
              "      <td>0</td>\n",
              "      <td>0</td>\n",
              "      <td>0</td>\n",
              "      <td>0</td>\n",
              "      <td>0</td>\n",
              "      <td>0</td>\n",
              "      <td>0</td>\n",
              "      <td>0</td>\n",
              "      <td>0</td>\n",
              "    </tr>\n",
              "    <tr>\n",
              "      <th>...</th>\n",
              "      <td>...</td>\n",
              "      <td>...</td>\n",
              "      <td>...</td>\n",
              "      <td>...</td>\n",
              "      <td>...</td>\n",
              "      <td>...</td>\n",
              "      <td>...</td>\n",
              "      <td>...</td>\n",
              "      <td>...</td>\n",
              "      <td>...</td>\n",
              "      <td>...</td>\n",
              "      <td>...</td>\n",
              "      <td>...</td>\n",
              "      <td>...</td>\n",
              "      <td>...</td>\n",
              "      <td>...</td>\n",
              "      <td>...</td>\n",
              "      <td>...</td>\n",
              "      <td>...</td>\n",
              "      <td>...</td>\n",
              "      <td>...</td>\n",
              "    </tr>\n",
              "    <tr>\n",
              "      <th>2892</th>\n",
              "      <td>0</td>\n",
              "      <td>0</td>\n",
              "      <td>0</td>\n",
              "      <td>0</td>\n",
              "      <td>0</td>\n",
              "      <td>0</td>\n",
              "      <td>0</td>\n",
              "      <td>0</td>\n",
              "      <td>0</td>\n",
              "      <td>0</td>\n",
              "      <td>...</td>\n",
              "      <td>0</td>\n",
              "      <td>0</td>\n",
              "      <td>0</td>\n",
              "      <td>0</td>\n",
              "      <td>0</td>\n",
              "      <td>1</td>\n",
              "      <td>0</td>\n",
              "      <td>0</td>\n",
              "      <td>0</td>\n",
              "      <td>0</td>\n",
              "    </tr>\n",
              "    <tr>\n",
              "      <th>2893</th>\n",
              "      <td>0</td>\n",
              "      <td>0</td>\n",
              "      <td>0</td>\n",
              "      <td>0</td>\n",
              "      <td>0</td>\n",
              "      <td>0</td>\n",
              "      <td>0</td>\n",
              "      <td>0</td>\n",
              "      <td>0</td>\n",
              "      <td>0</td>\n",
              "      <td>...</td>\n",
              "      <td>0</td>\n",
              "      <td>0</td>\n",
              "      <td>0</td>\n",
              "      <td>0</td>\n",
              "      <td>0</td>\n",
              "      <td>0</td>\n",
              "      <td>1</td>\n",
              "      <td>0</td>\n",
              "      <td>0</td>\n",
              "      <td>0</td>\n",
              "    </tr>\n",
              "    <tr>\n",
              "      <th>2894</th>\n",
              "      <td>0</td>\n",
              "      <td>0</td>\n",
              "      <td>0</td>\n",
              "      <td>0</td>\n",
              "      <td>0</td>\n",
              "      <td>0</td>\n",
              "      <td>0</td>\n",
              "      <td>0</td>\n",
              "      <td>0</td>\n",
              "      <td>0</td>\n",
              "      <td>...</td>\n",
              "      <td>0</td>\n",
              "      <td>0</td>\n",
              "      <td>0</td>\n",
              "      <td>0</td>\n",
              "      <td>0</td>\n",
              "      <td>0</td>\n",
              "      <td>0</td>\n",
              "      <td>1</td>\n",
              "      <td>0</td>\n",
              "      <td>0</td>\n",
              "    </tr>\n",
              "    <tr>\n",
              "      <th>2895</th>\n",
              "      <td>0</td>\n",
              "      <td>0</td>\n",
              "      <td>0</td>\n",
              "      <td>0</td>\n",
              "      <td>0</td>\n",
              "      <td>0</td>\n",
              "      <td>1</td>\n",
              "      <td>0</td>\n",
              "      <td>0</td>\n",
              "      <td>0</td>\n",
              "      <td>...</td>\n",
              "      <td>0</td>\n",
              "      <td>0</td>\n",
              "      <td>0</td>\n",
              "      <td>0</td>\n",
              "      <td>0</td>\n",
              "      <td>0</td>\n",
              "      <td>0</td>\n",
              "      <td>0</td>\n",
              "      <td>1</td>\n",
              "      <td>0</td>\n",
              "    </tr>\n",
              "    <tr>\n",
              "      <th>2896</th>\n",
              "      <td>0</td>\n",
              "      <td>0</td>\n",
              "      <td>0</td>\n",
              "      <td>0</td>\n",
              "      <td>0</td>\n",
              "      <td>0</td>\n",
              "      <td>0</td>\n",
              "      <td>0</td>\n",
              "      <td>0</td>\n",
              "      <td>0</td>\n",
              "      <td>...</td>\n",
              "      <td>0</td>\n",
              "      <td>0</td>\n",
              "      <td>0</td>\n",
              "      <td>0</td>\n",
              "      <td>0</td>\n",
              "      <td>0</td>\n",
              "      <td>0</td>\n",
              "      <td>0</td>\n",
              "      <td>0</td>\n",
              "      <td>1</td>\n",
              "    </tr>\n",
              "  </tbody>\n",
              "</table>\n",
              "<p>2897 rows × 8742 columns</p>\n",
              "</div>\n",
              "      <button class=\"colab-df-convert\" onclick=\"convertToInteractive('df-8b2cf671-9756-4d3e-9742-eda11c14a095')\"\n",
              "              title=\"Convert this dataframe to an interactive table.\"\n",
              "              style=\"display:none;\">\n",
              "        \n",
              "  <svg xmlns=\"http://www.w3.org/2000/svg\" height=\"24px\"viewBox=\"0 0 24 24\"\n",
              "       width=\"24px\">\n",
              "    <path d=\"M0 0h24v24H0V0z\" fill=\"none\"/>\n",
              "    <path d=\"M18.56 5.44l.94 2.06.94-2.06 2.06-.94-2.06-.94-.94-2.06-.94 2.06-2.06.94zm-11 1L8.5 8.5l.94-2.06 2.06-.94-2.06-.94L8.5 2.5l-.94 2.06-2.06.94zm10 10l.94 2.06.94-2.06 2.06-.94-2.06-.94-.94-2.06-.94 2.06-2.06.94z\"/><path d=\"M17.41 7.96l-1.37-1.37c-.4-.4-.92-.59-1.43-.59-.52 0-1.04.2-1.43.59L10.3 9.45l-7.72 7.72c-.78.78-.78 2.05 0 2.83L4 21.41c.39.39.9.59 1.41.59.51 0 1.02-.2 1.41-.59l7.78-7.78 2.81-2.81c.8-.78.8-2.07 0-2.86zM5.41 20L4 18.59l7.72-7.72 1.47 1.35L5.41 20z\"/>\n",
              "  </svg>\n",
              "      </button>\n",
              "      \n",
              "  <style>\n",
              "    .colab-df-container {\n",
              "      display:flex;\n",
              "      flex-wrap:wrap;\n",
              "      gap: 12px;\n",
              "    }\n",
              "\n",
              "    .colab-df-convert {\n",
              "      background-color: #E8F0FE;\n",
              "      border: none;\n",
              "      border-radius: 50%;\n",
              "      cursor: pointer;\n",
              "      display: none;\n",
              "      fill: #1967D2;\n",
              "      height: 32px;\n",
              "      padding: 0 0 0 0;\n",
              "      width: 32px;\n",
              "    }\n",
              "\n",
              "    .colab-df-convert:hover {\n",
              "      background-color: #E2EBFA;\n",
              "      box-shadow: 0px 1px 2px rgba(60, 64, 67, 0.3), 0px 1px 3px 1px rgba(60, 64, 67, 0.15);\n",
              "      fill: #174EA6;\n",
              "    }\n",
              "\n",
              "    [theme=dark] .colab-df-convert {\n",
              "      background-color: #3B4455;\n",
              "      fill: #D2E3FC;\n",
              "    }\n",
              "\n",
              "    [theme=dark] .colab-df-convert:hover {\n",
              "      background-color: #434B5C;\n",
              "      box-shadow: 0px 1px 3px 1px rgba(0, 0, 0, 0.15);\n",
              "      filter: drop-shadow(0px 1px 2px rgba(0, 0, 0, 0.3));\n",
              "      fill: #FFFFFF;\n",
              "    }\n",
              "  </style>\n",
              "\n",
              "      <script>\n",
              "        const buttonEl =\n",
              "          document.querySelector('#df-8b2cf671-9756-4d3e-9742-eda11c14a095 button.colab-df-convert');\n",
              "        buttonEl.style.display =\n",
              "          google.colab.kernel.accessAllowed ? 'block' : 'none';\n",
              "\n",
              "        async function convertToInteractive(key) {\n",
              "          const element = document.querySelector('#df-8b2cf671-9756-4d3e-9742-eda11c14a095');\n",
              "          const dataTable =\n",
              "            await google.colab.kernel.invokeFunction('convertToInteractive',\n",
              "                                                     [key], {});\n",
              "          if (!dataTable) return;\n",
              "\n",
              "          const docLinkHtml = 'Like what you see? Visit the ' +\n",
              "            '<a target=\"_blank\" href=https://colab.research.google.com/notebooks/data_table.ipynb>data table notebook</a>'\n",
              "            + ' to learn more about interactive tables.';\n",
              "          element.innerHTML = '';\n",
              "          dataTable['output_type'] = 'display_data';\n",
              "          await google.colab.output.renderOutput(dataTable, element);\n",
              "          const docLink = document.createElement('div');\n",
              "          docLink.innerHTML = docLinkHtml;\n",
              "          element.appendChild(docLink);\n",
              "        }\n",
              "      </script>\n",
              "    </div>\n",
              "  </div>\n",
              "  "
            ]
          },
          "metadata": {},
          "execution_count": 62
        }
      ]
    },
    {
      "cell_type": "markdown",
      "source": [
        "3). Count (frequency) encoding"
      ],
      "metadata": {
        "id": "eWlLVUgQc8k9"
      }
    },
    {
      "cell_type": "code",
      "source": [
        "from category_encoders.count import CountEncoder as ce_CountEncoder"
      ],
      "metadata": {
        "id": "IQ1pfWe2c-tj"
      },
      "execution_count": null,
      "outputs": []
    },
    {
      "cell_type": "code",
      "source": [
        "ce_CountEncoder1 = ce_CountEncoder()\n",
        "data_COUNT_ENC = ce_CountEncoder1.fit_transform(data[data.columns.difference(['country'])])"
      ],
      "metadata": {
        "id": "0ZPpsqjCdHQ5"
      },
      "execution_count": null,
      "outputs": []
    },
    {
      "cell_type": "code",
      "source": [
        "data_COUNT_ENC"
      ],
      "metadata": {
        "colab": {
          "base_uri": "https://localhost:8080/",
          "height": 423
        },
        "id": "DP18LHVHdMNY",
        "outputId": "7b8fcfc8-0b65-4f9d-a6af-9d84bb6c8461"
      },
      "execution_count": null,
      "outputs": [
        {
          "output_type": "execute_result",
          "data": {
            "text/plain": [
              "      country_code  discipline_code  gender  name  short_name  url\n",
              "0               63              547    1595     1           1    1\n",
              "1               96              110    1595     1           1    1\n",
              "2               96              547    1595     1           1    1\n",
              "3              225              547    1595     1           1    1\n",
              "4                1              310    1595     1           1    1\n",
              "...            ...              ...     ...   ...         ...  ...\n",
              "2892            57              164    1595     1           1    1\n",
              "2893            28              164    1290     1           1    1\n",
              "2894            50              547    1595     1           1    1\n",
              "2895            61              310    1595     1           1    1\n",
              "2896            57              110    1595     1           1    1\n",
              "\n",
              "[2897 rows x 6 columns]"
            ],
            "text/html": [
              "\n",
              "  <div id=\"df-a53ef7b2-8d48-4d90-8593-868f219cd0be\">\n",
              "    <div class=\"colab-df-container\">\n",
              "      <div>\n",
              "<style scoped>\n",
              "    .dataframe tbody tr th:only-of-type {\n",
              "        vertical-align: middle;\n",
              "    }\n",
              "\n",
              "    .dataframe tbody tr th {\n",
              "        vertical-align: top;\n",
              "    }\n",
              "\n",
              "    .dataframe thead th {\n",
              "        text-align: right;\n",
              "    }\n",
              "</style>\n",
              "<table border=\"1\" class=\"dataframe\">\n",
              "  <thead>\n",
              "    <tr style=\"text-align: right;\">\n",
              "      <th></th>\n",
              "      <th>country_code</th>\n",
              "      <th>discipline_code</th>\n",
              "      <th>gender</th>\n",
              "      <th>name</th>\n",
              "      <th>short_name</th>\n",
              "      <th>url</th>\n",
              "    </tr>\n",
              "  </thead>\n",
              "  <tbody>\n",
              "    <tr>\n",
              "      <th>0</th>\n",
              "      <td>63</td>\n",
              "      <td>547</td>\n",
              "      <td>1595</td>\n",
              "      <td>1</td>\n",
              "      <td>1</td>\n",
              "      <td>1</td>\n",
              "    </tr>\n",
              "    <tr>\n",
              "      <th>1</th>\n",
              "      <td>96</td>\n",
              "      <td>110</td>\n",
              "      <td>1595</td>\n",
              "      <td>1</td>\n",
              "      <td>1</td>\n",
              "      <td>1</td>\n",
              "    </tr>\n",
              "    <tr>\n",
              "      <th>2</th>\n",
              "      <td>96</td>\n",
              "      <td>547</td>\n",
              "      <td>1595</td>\n",
              "      <td>1</td>\n",
              "      <td>1</td>\n",
              "      <td>1</td>\n",
              "    </tr>\n",
              "    <tr>\n",
              "      <th>3</th>\n",
              "      <td>225</td>\n",
              "      <td>547</td>\n",
              "      <td>1595</td>\n",
              "      <td>1</td>\n",
              "      <td>1</td>\n",
              "      <td>1</td>\n",
              "    </tr>\n",
              "    <tr>\n",
              "      <th>4</th>\n",
              "      <td>1</td>\n",
              "      <td>310</td>\n",
              "      <td>1595</td>\n",
              "      <td>1</td>\n",
              "      <td>1</td>\n",
              "      <td>1</td>\n",
              "    </tr>\n",
              "    <tr>\n",
              "      <th>...</th>\n",
              "      <td>...</td>\n",
              "      <td>...</td>\n",
              "      <td>...</td>\n",
              "      <td>...</td>\n",
              "      <td>...</td>\n",
              "      <td>...</td>\n",
              "    </tr>\n",
              "    <tr>\n",
              "      <th>2892</th>\n",
              "      <td>57</td>\n",
              "      <td>164</td>\n",
              "      <td>1595</td>\n",
              "      <td>1</td>\n",
              "      <td>1</td>\n",
              "      <td>1</td>\n",
              "    </tr>\n",
              "    <tr>\n",
              "      <th>2893</th>\n",
              "      <td>28</td>\n",
              "      <td>164</td>\n",
              "      <td>1290</td>\n",
              "      <td>1</td>\n",
              "      <td>1</td>\n",
              "      <td>1</td>\n",
              "    </tr>\n",
              "    <tr>\n",
              "      <th>2894</th>\n",
              "      <td>50</td>\n",
              "      <td>547</td>\n",
              "      <td>1595</td>\n",
              "      <td>1</td>\n",
              "      <td>1</td>\n",
              "      <td>1</td>\n",
              "    </tr>\n",
              "    <tr>\n",
              "      <th>2895</th>\n",
              "      <td>61</td>\n",
              "      <td>310</td>\n",
              "      <td>1595</td>\n",
              "      <td>1</td>\n",
              "      <td>1</td>\n",
              "      <td>1</td>\n",
              "    </tr>\n",
              "    <tr>\n",
              "      <th>2896</th>\n",
              "      <td>57</td>\n",
              "      <td>110</td>\n",
              "      <td>1595</td>\n",
              "      <td>1</td>\n",
              "      <td>1</td>\n",
              "      <td>1</td>\n",
              "    </tr>\n",
              "  </tbody>\n",
              "</table>\n",
              "<p>2897 rows × 6 columns</p>\n",
              "</div>\n",
              "      <button class=\"colab-df-convert\" onclick=\"convertToInteractive('df-a53ef7b2-8d48-4d90-8593-868f219cd0be')\"\n",
              "              title=\"Convert this dataframe to an interactive table.\"\n",
              "              style=\"display:none;\">\n",
              "        \n",
              "  <svg xmlns=\"http://www.w3.org/2000/svg\" height=\"24px\"viewBox=\"0 0 24 24\"\n",
              "       width=\"24px\">\n",
              "    <path d=\"M0 0h24v24H0V0z\" fill=\"none\"/>\n",
              "    <path d=\"M18.56 5.44l.94 2.06.94-2.06 2.06-.94-2.06-.94-.94-2.06-.94 2.06-2.06.94zm-11 1L8.5 8.5l.94-2.06 2.06-.94-2.06-.94L8.5 2.5l-.94 2.06-2.06.94zm10 10l.94 2.06.94-2.06 2.06-.94-2.06-.94-.94-2.06-.94 2.06-2.06.94z\"/><path d=\"M17.41 7.96l-1.37-1.37c-.4-.4-.92-.59-1.43-.59-.52 0-1.04.2-1.43.59L10.3 9.45l-7.72 7.72c-.78.78-.78 2.05 0 2.83L4 21.41c.39.39.9.59 1.41.59.51 0 1.02-.2 1.41-.59l7.78-7.78 2.81-2.81c.8-.78.8-2.07 0-2.86zM5.41 20L4 18.59l7.72-7.72 1.47 1.35L5.41 20z\"/>\n",
              "  </svg>\n",
              "      </button>\n",
              "      \n",
              "  <style>\n",
              "    .colab-df-container {\n",
              "      display:flex;\n",
              "      flex-wrap:wrap;\n",
              "      gap: 12px;\n",
              "    }\n",
              "\n",
              "    .colab-df-convert {\n",
              "      background-color: #E8F0FE;\n",
              "      border: none;\n",
              "      border-radius: 50%;\n",
              "      cursor: pointer;\n",
              "      display: none;\n",
              "      fill: #1967D2;\n",
              "      height: 32px;\n",
              "      padding: 0 0 0 0;\n",
              "      width: 32px;\n",
              "    }\n",
              "\n",
              "    .colab-df-convert:hover {\n",
              "      background-color: #E2EBFA;\n",
              "      box-shadow: 0px 1px 2px rgba(60, 64, 67, 0.3), 0px 1px 3px 1px rgba(60, 64, 67, 0.15);\n",
              "      fill: #174EA6;\n",
              "    }\n",
              "\n",
              "    [theme=dark] .colab-df-convert {\n",
              "      background-color: #3B4455;\n",
              "      fill: #D2E3FC;\n",
              "    }\n",
              "\n",
              "    [theme=dark] .colab-df-convert:hover {\n",
              "      background-color: #434B5C;\n",
              "      box-shadow: 0px 1px 3px 1px rgba(0, 0, 0, 0.15);\n",
              "      filter: drop-shadow(0px 1px 2px rgba(0, 0, 0, 0.3));\n",
              "      fill: #FFFFFF;\n",
              "    }\n",
              "  </style>\n",
              "\n",
              "      <script>\n",
              "        const buttonEl =\n",
              "          document.querySelector('#df-a53ef7b2-8d48-4d90-8593-868f219cd0be button.colab-df-convert');\n",
              "        buttonEl.style.display =\n",
              "          google.colab.kernel.accessAllowed ? 'block' : 'none';\n",
              "\n",
              "        async function convertToInteractive(key) {\n",
              "          const element = document.querySelector('#df-a53ef7b2-8d48-4d90-8593-868f219cd0be');\n",
              "          const dataTable =\n",
              "            await google.colab.kernel.invokeFunction('convertToInteractive',\n",
              "                                                     [key], {});\n",
              "          if (!dataTable) return;\n",
              "\n",
              "          const docLinkHtml = 'Like what you see? Visit the ' +\n",
              "            '<a target=\"_blank\" href=https://colab.research.google.com/notebooks/data_table.ipynb>data table notebook</a>'\n",
              "            + ' to learn more about interactive tables.';\n",
              "          element.innerHTML = '';\n",
              "          dataTable['output_type'] = 'display_data';\n",
              "          await google.colab.output.renderOutput(dataTable, element);\n",
              "          const docLink = document.createElement('div');\n",
              "          docLink.innerHTML = docLinkHtml;\n",
              "          element.appendChild(docLink);\n",
              "        }\n",
              "      </script>\n",
              "    </div>\n",
              "  </div>\n",
              "  "
            ]
          },
          "metadata": {},
          "execution_count": 65
        }
      ]
    },
    {
      "cell_type": "code",
      "source": [
        "data['country'].unique()"
      ],
      "metadata": {
        "colab": {
          "base_uri": "https://localhost:8080/"
        },
        "id": "bki5ICGPdQv4",
        "outputId": "1722bc72-b4f9-4777-e366-82b8826dfd06"
      },
      "execution_count": null,
      "outputs": [
        {
          "output_type": "execute_result",
          "data": {
            "text/plain": [
              "array(['Denmark', 'Finland', 'United States of America', 'Saudi Arabia',\n",
              "       'Eritrea', 'Germany', 'Latvia', 'Ukraine', 'Netherlands',\n",
              "       \"People's Republic of China\", 'France', 'Sweden', 'Switzerland',\n",
              "       'Belgium', 'Islamic Republic of Iran', 'Kazakhstan', 'Estonia',\n",
              "       'ROC', 'Turkey', 'Monaco', 'Jamaica', 'Bosnia and Herzegovina',\n",
              "       'Belarus', 'Canada', 'Italy', 'Norway', 'Japan', 'Greece',\n",
              "       'Bulgaria', 'Australia', 'Morocco', 'Chile', 'Ireland', 'Mongolia',\n",
              "       'LBN', 'Croatia', 'Great Britain', 'Republic of Korea', 'Austria',\n",
              "       'Slovakia', 'Lithuania', 'New Zealand', 'Spain', 'Czech Republic',\n",
              "       'Argentina', 'Georgia', 'Poland', 'Brazil', 'Slovenia', 'Portugal',\n",
              "       'Bolivia', 'Trinidad and Tobago', 'Israel', 'Romania', 'Mexico',\n",
              "       'Thailand', 'Hungary', 'Hong Kong, China', 'Madagascar',\n",
              "       'American Samoa', 'North Macedonia', 'Puerto Rico',\n",
              "       'Republic of Moldova', 'Iceland', 'Ecuador', 'Andorra', 'Armenia',\n",
              "       'San Marino', 'Colombia', 'Kyrgyzstan', 'Timor-Leste',\n",
              "       'Montenegro', 'Chinese Taipei', 'Serbia', 'Nigeria', 'Pakistan',\n",
              "       'India', 'Cyprus', 'Kosovo', 'Azerbaijan', 'Ghana', 'Philippines',\n",
              "       'Peru', 'Luxembourg', 'Liechtenstein', 'Malaysia', 'Malta',\n",
              "       'Virgin Islands, US', 'Uzbekistan', 'Haiti', 'Albania'],\n",
              "      dtype=object)"
            ]
          },
          "metadata": {},
          "execution_count": 66
        }
      ]
    },
    {
      "cell_type": "code",
      "source": [
        "data_COUNT_ENC['country_code'].unique()"
      ],
      "metadata": {
        "colab": {
          "base_uri": "https://localhost:8080/"
        },
        "id": "arp7yd3WdTgm",
        "outputId": "d86fd31d-3bb5-404e-8bd5-c3c4f9a203c6"
      },
      "execution_count": null,
      "outputs": [
        {
          "output_type": "execute_result",
          "data": {
            "text/plain": [
              "array([ 63,  96, 225,   1, 148,  61,  46,  41, 182,  86, 118, 169,  19,\n",
              "         3,  34,  26, 217,   7,   6,  28, 215, 119,  84, 121,   5,  16,\n",
              "        44,   4,   2,  11,  49,  65, 105,  50,  13,  15,  14, 115,   9,\n",
              "        57,  10,  21])"
            ]
          },
          "metadata": {},
          "execution_count": 67
        }
      ]
    },
    {
      "cell_type": "code",
      "source": [
        "ce_CountEncoder2 = ce_CountEncoder(normalize=True)\n",
        "data_FREQ_ENC = ce_CountEncoder2.fit_transform(data[data.columns.difference(['name'])])"
      ],
      "metadata": {
        "id": "1XwaYQUYdtmq"
      },
      "execution_count": null,
      "outputs": []
    },
    {
      "cell_type": "code",
      "source": [
        "data_FREQ_ENC"
      ],
      "metadata": {
        "colab": {
          "base_uri": "https://localhost:8080/",
          "height": 423
        },
        "id": "bGNLJ6jhd1u7",
        "outputId": "28eeb1f4-685c-4db0-9bc8-9bec3123739d"
      },
      "execution_count": null,
      "outputs": [
        {
          "output_type": "execute_result",
          "data": {
            "text/plain": [
              "       country  country_code  discipline_code    gender  short_name       url\n",
              "0     0.021747      0.021747         0.188816  0.550570    0.000345  0.000345\n",
              "1     0.033138      0.033138         0.037970  0.550570    0.000345  0.000345\n",
              "2     0.033138      0.033138         0.188816  0.550570    0.000345  0.000345\n",
              "3     0.077667      0.077667         0.188816  0.550570    0.000345  0.000345\n",
              "4     0.000345      0.000345         0.107007  0.550570    0.000345  0.000345\n",
              "...        ...           ...              ...       ...         ...       ...\n",
              "2892  0.019676      0.019676         0.056610  0.550570    0.000345  0.000345\n",
              "2893  0.009665      0.009665         0.056610  0.445288    0.000345  0.000345\n",
              "2894  0.017259      0.017259         0.188816  0.550570    0.000345  0.000345\n",
              "2895  0.021056      0.021056         0.107007  0.550570    0.000345  0.000345\n",
              "2896  0.019676      0.019676         0.037970  0.550570    0.000345  0.000345\n",
              "\n",
              "[2897 rows x 6 columns]"
            ],
            "text/html": [
              "\n",
              "  <div id=\"df-aa660282-1561-497b-8704-e48c385d380b\">\n",
              "    <div class=\"colab-df-container\">\n",
              "      <div>\n",
              "<style scoped>\n",
              "    .dataframe tbody tr th:only-of-type {\n",
              "        vertical-align: middle;\n",
              "    }\n",
              "\n",
              "    .dataframe tbody tr th {\n",
              "        vertical-align: top;\n",
              "    }\n",
              "\n",
              "    .dataframe thead th {\n",
              "        text-align: right;\n",
              "    }\n",
              "</style>\n",
              "<table border=\"1\" class=\"dataframe\">\n",
              "  <thead>\n",
              "    <tr style=\"text-align: right;\">\n",
              "      <th></th>\n",
              "      <th>country</th>\n",
              "      <th>country_code</th>\n",
              "      <th>discipline_code</th>\n",
              "      <th>gender</th>\n",
              "      <th>short_name</th>\n",
              "      <th>url</th>\n",
              "    </tr>\n",
              "  </thead>\n",
              "  <tbody>\n",
              "    <tr>\n",
              "      <th>0</th>\n",
              "      <td>0.021747</td>\n",
              "      <td>0.021747</td>\n",
              "      <td>0.188816</td>\n",
              "      <td>0.550570</td>\n",
              "      <td>0.000345</td>\n",
              "      <td>0.000345</td>\n",
              "    </tr>\n",
              "    <tr>\n",
              "      <th>1</th>\n",
              "      <td>0.033138</td>\n",
              "      <td>0.033138</td>\n",
              "      <td>0.037970</td>\n",
              "      <td>0.550570</td>\n",
              "      <td>0.000345</td>\n",
              "      <td>0.000345</td>\n",
              "    </tr>\n",
              "    <tr>\n",
              "      <th>2</th>\n",
              "      <td>0.033138</td>\n",
              "      <td>0.033138</td>\n",
              "      <td>0.188816</td>\n",
              "      <td>0.550570</td>\n",
              "      <td>0.000345</td>\n",
              "      <td>0.000345</td>\n",
              "    </tr>\n",
              "    <tr>\n",
              "      <th>3</th>\n",
              "      <td>0.077667</td>\n",
              "      <td>0.077667</td>\n",
              "      <td>0.188816</td>\n",
              "      <td>0.550570</td>\n",
              "      <td>0.000345</td>\n",
              "      <td>0.000345</td>\n",
              "    </tr>\n",
              "    <tr>\n",
              "      <th>4</th>\n",
              "      <td>0.000345</td>\n",
              "      <td>0.000345</td>\n",
              "      <td>0.107007</td>\n",
              "      <td>0.550570</td>\n",
              "      <td>0.000345</td>\n",
              "      <td>0.000345</td>\n",
              "    </tr>\n",
              "    <tr>\n",
              "      <th>...</th>\n",
              "      <td>...</td>\n",
              "      <td>...</td>\n",
              "      <td>...</td>\n",
              "      <td>...</td>\n",
              "      <td>...</td>\n",
              "      <td>...</td>\n",
              "    </tr>\n",
              "    <tr>\n",
              "      <th>2892</th>\n",
              "      <td>0.019676</td>\n",
              "      <td>0.019676</td>\n",
              "      <td>0.056610</td>\n",
              "      <td>0.550570</td>\n",
              "      <td>0.000345</td>\n",
              "      <td>0.000345</td>\n",
              "    </tr>\n",
              "    <tr>\n",
              "      <th>2893</th>\n",
              "      <td>0.009665</td>\n",
              "      <td>0.009665</td>\n",
              "      <td>0.056610</td>\n",
              "      <td>0.445288</td>\n",
              "      <td>0.000345</td>\n",
              "      <td>0.000345</td>\n",
              "    </tr>\n",
              "    <tr>\n",
              "      <th>2894</th>\n",
              "      <td>0.017259</td>\n",
              "      <td>0.017259</td>\n",
              "      <td>0.188816</td>\n",
              "      <td>0.550570</td>\n",
              "      <td>0.000345</td>\n",
              "      <td>0.000345</td>\n",
              "    </tr>\n",
              "    <tr>\n",
              "      <th>2895</th>\n",
              "      <td>0.021056</td>\n",
              "      <td>0.021056</td>\n",
              "      <td>0.107007</td>\n",
              "      <td>0.550570</td>\n",
              "      <td>0.000345</td>\n",
              "      <td>0.000345</td>\n",
              "    </tr>\n",
              "    <tr>\n",
              "      <th>2896</th>\n",
              "      <td>0.019676</td>\n",
              "      <td>0.019676</td>\n",
              "      <td>0.037970</td>\n",
              "      <td>0.550570</td>\n",
              "      <td>0.000345</td>\n",
              "      <td>0.000345</td>\n",
              "    </tr>\n",
              "  </tbody>\n",
              "</table>\n",
              "<p>2897 rows × 6 columns</p>\n",
              "</div>\n",
              "      <button class=\"colab-df-convert\" onclick=\"convertToInteractive('df-aa660282-1561-497b-8704-e48c385d380b')\"\n",
              "              title=\"Convert this dataframe to an interactive table.\"\n",
              "              style=\"display:none;\">\n",
              "        \n",
              "  <svg xmlns=\"http://www.w3.org/2000/svg\" height=\"24px\"viewBox=\"0 0 24 24\"\n",
              "       width=\"24px\">\n",
              "    <path d=\"M0 0h24v24H0V0z\" fill=\"none\"/>\n",
              "    <path d=\"M18.56 5.44l.94 2.06.94-2.06 2.06-.94-2.06-.94-.94-2.06-.94 2.06-2.06.94zm-11 1L8.5 8.5l.94-2.06 2.06-.94-2.06-.94L8.5 2.5l-.94 2.06-2.06.94zm10 10l.94 2.06.94-2.06 2.06-.94-2.06-.94-.94-2.06-.94 2.06-2.06.94z\"/><path d=\"M17.41 7.96l-1.37-1.37c-.4-.4-.92-.59-1.43-.59-.52 0-1.04.2-1.43.59L10.3 9.45l-7.72 7.72c-.78.78-.78 2.05 0 2.83L4 21.41c.39.39.9.59 1.41.59.51 0 1.02-.2 1.41-.59l7.78-7.78 2.81-2.81c.8-.78.8-2.07 0-2.86zM5.41 20L4 18.59l7.72-7.72 1.47 1.35L5.41 20z\"/>\n",
              "  </svg>\n",
              "      </button>\n",
              "      \n",
              "  <style>\n",
              "    .colab-df-container {\n",
              "      display:flex;\n",
              "      flex-wrap:wrap;\n",
              "      gap: 12px;\n",
              "    }\n",
              "\n",
              "    .colab-df-convert {\n",
              "      background-color: #E8F0FE;\n",
              "      border: none;\n",
              "      border-radius: 50%;\n",
              "      cursor: pointer;\n",
              "      display: none;\n",
              "      fill: #1967D2;\n",
              "      height: 32px;\n",
              "      padding: 0 0 0 0;\n",
              "      width: 32px;\n",
              "    }\n",
              "\n",
              "    .colab-df-convert:hover {\n",
              "      background-color: #E2EBFA;\n",
              "      box-shadow: 0px 1px 2px rgba(60, 64, 67, 0.3), 0px 1px 3px 1px rgba(60, 64, 67, 0.15);\n",
              "      fill: #174EA6;\n",
              "    }\n",
              "\n",
              "    [theme=dark] .colab-df-convert {\n",
              "      background-color: #3B4455;\n",
              "      fill: #D2E3FC;\n",
              "    }\n",
              "\n",
              "    [theme=dark] .colab-df-convert:hover {\n",
              "      background-color: #434B5C;\n",
              "      box-shadow: 0px 1px 3px 1px rgba(0, 0, 0, 0.15);\n",
              "      filter: drop-shadow(0px 1px 2px rgba(0, 0, 0, 0.3));\n",
              "      fill: #FFFFFF;\n",
              "    }\n",
              "  </style>\n",
              "\n",
              "      <script>\n",
              "        const buttonEl =\n",
              "          document.querySelector('#df-aa660282-1561-497b-8704-e48c385d380b button.colab-df-convert');\n",
              "        buttonEl.style.display =\n",
              "          google.colab.kernel.accessAllowed ? 'block' : 'none';\n",
              "\n",
              "        async function convertToInteractive(key) {\n",
              "          const element = document.querySelector('#df-aa660282-1561-497b-8704-e48c385d380b');\n",
              "          const dataTable =\n",
              "            await google.colab.kernel.invokeFunction('convertToInteractive',\n",
              "                                                     [key], {});\n",
              "          if (!dataTable) return;\n",
              "\n",
              "          const docLinkHtml = 'Like what you see? Visit the ' +\n",
              "            '<a target=\"_blank\" href=https://colab.research.google.com/notebooks/data_table.ipynb>data table notebook</a>'\n",
              "            + ' to learn more about interactive tables.';\n",
              "          element.innerHTML = '';\n",
              "          dataTable['output_type'] = 'display_data';\n",
              "          await google.colab.output.renderOutput(dataTable, element);\n",
              "          const docLink = document.createElement('div');\n",
              "          docLink.innerHTML = docLinkHtml;\n",
              "          element.appendChild(docLink);\n",
              "        }\n",
              "      </script>\n",
              "    </div>\n",
              "  </div>\n",
              "  "
            ]
          },
          "metadata": {},
          "execution_count": 69
        }
      ]
    },
    {
      "cell_type": "code",
      "source": [
        "data_FREQ_ENC['short_name'].unique()"
      ],
      "metadata": {
        "colab": {
          "base_uri": "https://localhost:8080/"
        },
        "id": "6-kWn43ad5sU",
        "outputId": "19262624-4402-4ffd-c0bb-c47a96dd38da"
      },
      "execution_count": null,
      "outputs": [
        {
          "output_type": "execute_result",
          "data": {
            "text/plain": [
              "array([0.00034518, 0.00069037, 0.00172592, 0.00103555])"
            ]
          },
          "metadata": {},
          "execution_count": 70
        }
      ]
    },
    {
      "cell_type": "markdown",
      "source": [
        "6). Helmert encoding"
      ],
      "metadata": {
        "id": "0PFrt7hsd_OK"
      }
    },
    {
      "cell_type": "code",
      "source": [
        "from category_encoders.helmert import HelmertEncoder as ce_HelmertEncoder"
      ],
      "metadata": {
        "id": "I_6CeWBjeA2m"
      },
      "execution_count": null,
      "outputs": []
    },
    {
      "cell_type": "code",
      "source": [
        "ce_HelmertEncoder1 = ce_HelmertEncoder()\n",
        "data_HELM_ENC = ce_HelmertEncoder1.fit_transform(data[data.columns.difference(['name'])], data['name'])"
      ],
      "metadata": {
        "id": "_MhtUd1ieFB9"
      },
      "execution_count": null,
      "outputs": []
    },
    {
      "cell_type": "code",
      "source": [
        "data_HELM_ENC"
      ],
      "metadata": {
        "colab": {
          "base_uri": "https://localhost:8080/",
          "height": 487
        },
        "id": "IJCpRtxUghdv",
        "outputId": "972826c5-1011-4ceb-9ec6-9a991ef41841"
      },
      "execution_count": null,
      "outputs": [
        {
          "output_type": "execute_result",
          "data": {
            "text/plain": [
              "      intercept  country_0  country_1  country_2  country_3  country_4  \\\n",
              "0             1       -1.0       -1.0       -1.0       -1.0       -1.0   \n",
              "1             1        1.0       -1.0       -1.0       -1.0       -1.0   \n",
              "2             1        1.0       -1.0       -1.0       -1.0       -1.0   \n",
              "3             1        0.0        2.0       -1.0       -1.0       -1.0   \n",
              "4             1        0.0        0.0        3.0       -1.0       -1.0   \n",
              "...         ...        ...        ...        ...        ...        ...   \n",
              "2892          1        0.0        0.0        0.0        0.0        0.0   \n",
              "2893          1        0.0        0.0        0.0        0.0        0.0   \n",
              "2894          1        0.0        0.0        0.0        0.0        0.0   \n",
              "2895          1        0.0        0.0        0.0        0.0        0.0   \n",
              "2896          1        0.0        0.0        0.0        0.0        0.0   \n",
              "\n",
              "      country_5  country_6  country_7  country_8  ...  url_2886  url_2887  \\\n",
              "0          -1.0       -1.0       -1.0       -1.0  ...      -1.0      -1.0   \n",
              "1          -1.0       -1.0       -1.0       -1.0  ...      -1.0      -1.0   \n",
              "2          -1.0       -1.0       -1.0       -1.0  ...      -1.0      -1.0   \n",
              "3          -1.0       -1.0       -1.0       -1.0  ...      -1.0      -1.0   \n",
              "4          -1.0       -1.0       -1.0       -1.0  ...      -1.0      -1.0   \n",
              "...         ...        ...        ...        ...  ...       ...       ...   \n",
              "2892        0.0        0.0        0.0        0.0  ...       0.0       0.0   \n",
              "2893        0.0        0.0        0.0        0.0  ...       0.0       0.0   \n",
              "2894        0.0        0.0        0.0        0.0  ...       0.0       0.0   \n",
              "2895        6.0       -1.0       -1.0       -1.0  ...       0.0       0.0   \n",
              "2896        0.0        0.0        0.0        0.0  ...       0.0       0.0   \n",
              "\n",
              "      url_2888  url_2889  url_2890  url_2891  url_2892  url_2893  url_2894  \\\n",
              "0         -1.0      -1.0      -1.0      -1.0      -1.0      -1.0      -1.0   \n",
              "1         -1.0      -1.0      -1.0      -1.0      -1.0      -1.0      -1.0   \n",
              "2         -1.0      -1.0      -1.0      -1.0      -1.0      -1.0      -1.0   \n",
              "3         -1.0      -1.0      -1.0      -1.0      -1.0      -1.0      -1.0   \n",
              "4         -1.0      -1.0      -1.0      -1.0      -1.0      -1.0      -1.0   \n",
              "...        ...       ...       ...       ...       ...       ...       ...   \n",
              "2892       0.0       0.0       0.0    2892.0      -1.0      -1.0      -1.0   \n",
              "2893       0.0       0.0       0.0       0.0    2893.0      -1.0      -1.0   \n",
              "2894       0.0       0.0       0.0       0.0       0.0    2894.0      -1.0   \n",
              "2895       0.0       0.0       0.0       0.0       0.0       0.0    2895.0   \n",
              "2896       0.0       0.0       0.0       0.0       0.0       0.0       0.0   \n",
              "\n",
              "      url_2895  \n",
              "0         -1.0  \n",
              "1         -1.0  \n",
              "2         -1.0  \n",
              "3         -1.0  \n",
              "4         -1.0  \n",
              "...        ...  \n",
              "2892      -1.0  \n",
              "2893      -1.0  \n",
              "2894      -1.0  \n",
              "2895      -1.0  \n",
              "2896    2896.0  \n",
              "\n",
              "[2897 rows x 5934 columns]"
            ],
            "text/html": [
              "\n",
              "  <div id=\"df-718c2c1e-c9b3-4523-aec0-97e997bf73b0\">\n",
              "    <div class=\"colab-df-container\">\n",
              "      <div>\n",
              "<style scoped>\n",
              "    .dataframe tbody tr th:only-of-type {\n",
              "        vertical-align: middle;\n",
              "    }\n",
              "\n",
              "    .dataframe tbody tr th {\n",
              "        vertical-align: top;\n",
              "    }\n",
              "\n",
              "    .dataframe thead th {\n",
              "        text-align: right;\n",
              "    }\n",
              "</style>\n",
              "<table border=\"1\" class=\"dataframe\">\n",
              "  <thead>\n",
              "    <tr style=\"text-align: right;\">\n",
              "      <th></th>\n",
              "      <th>intercept</th>\n",
              "      <th>country_0</th>\n",
              "      <th>country_1</th>\n",
              "      <th>country_2</th>\n",
              "      <th>country_3</th>\n",
              "      <th>country_4</th>\n",
              "      <th>country_5</th>\n",
              "      <th>country_6</th>\n",
              "      <th>country_7</th>\n",
              "      <th>country_8</th>\n",
              "      <th>...</th>\n",
              "      <th>url_2886</th>\n",
              "      <th>url_2887</th>\n",
              "      <th>url_2888</th>\n",
              "      <th>url_2889</th>\n",
              "      <th>url_2890</th>\n",
              "      <th>url_2891</th>\n",
              "      <th>url_2892</th>\n",
              "      <th>url_2893</th>\n",
              "      <th>url_2894</th>\n",
              "      <th>url_2895</th>\n",
              "    </tr>\n",
              "  </thead>\n",
              "  <tbody>\n",
              "    <tr>\n",
              "      <th>0</th>\n",
              "      <td>1</td>\n",
              "      <td>-1.0</td>\n",
              "      <td>-1.0</td>\n",
              "      <td>-1.0</td>\n",
              "      <td>-1.0</td>\n",
              "      <td>-1.0</td>\n",
              "      <td>-1.0</td>\n",
              "      <td>-1.0</td>\n",
              "      <td>-1.0</td>\n",
              "      <td>-1.0</td>\n",
              "      <td>...</td>\n",
              "      <td>-1.0</td>\n",
              "      <td>-1.0</td>\n",
              "      <td>-1.0</td>\n",
              "      <td>-1.0</td>\n",
              "      <td>-1.0</td>\n",
              "      <td>-1.0</td>\n",
              "      <td>-1.0</td>\n",
              "      <td>-1.0</td>\n",
              "      <td>-1.0</td>\n",
              "      <td>-1.0</td>\n",
              "    </tr>\n",
              "    <tr>\n",
              "      <th>1</th>\n",
              "      <td>1</td>\n",
              "      <td>1.0</td>\n",
              "      <td>-1.0</td>\n",
              "      <td>-1.0</td>\n",
              "      <td>-1.0</td>\n",
              "      <td>-1.0</td>\n",
              "      <td>-1.0</td>\n",
              "      <td>-1.0</td>\n",
              "      <td>-1.0</td>\n",
              "      <td>-1.0</td>\n",
              "      <td>...</td>\n",
              "      <td>-1.0</td>\n",
              "      <td>-1.0</td>\n",
              "      <td>-1.0</td>\n",
              "      <td>-1.0</td>\n",
              "      <td>-1.0</td>\n",
              "      <td>-1.0</td>\n",
              "      <td>-1.0</td>\n",
              "      <td>-1.0</td>\n",
              "      <td>-1.0</td>\n",
              "      <td>-1.0</td>\n",
              "    </tr>\n",
              "    <tr>\n",
              "      <th>2</th>\n",
              "      <td>1</td>\n",
              "      <td>1.0</td>\n",
              "      <td>-1.0</td>\n",
              "      <td>-1.0</td>\n",
              "      <td>-1.0</td>\n",
              "      <td>-1.0</td>\n",
              "      <td>-1.0</td>\n",
              "      <td>-1.0</td>\n",
              "      <td>-1.0</td>\n",
              "      <td>-1.0</td>\n",
              "      <td>...</td>\n",
              "      <td>-1.0</td>\n",
              "      <td>-1.0</td>\n",
              "      <td>-1.0</td>\n",
              "      <td>-1.0</td>\n",
              "      <td>-1.0</td>\n",
              "      <td>-1.0</td>\n",
              "      <td>-1.0</td>\n",
              "      <td>-1.0</td>\n",
              "      <td>-1.0</td>\n",
              "      <td>-1.0</td>\n",
              "    </tr>\n",
              "    <tr>\n",
              "      <th>3</th>\n",
              "      <td>1</td>\n",
              "      <td>0.0</td>\n",
              "      <td>2.0</td>\n",
              "      <td>-1.0</td>\n",
              "      <td>-1.0</td>\n",
              "      <td>-1.0</td>\n",
              "      <td>-1.0</td>\n",
              "      <td>-1.0</td>\n",
              "      <td>-1.0</td>\n",
              "      <td>-1.0</td>\n",
              "      <td>...</td>\n",
              "      <td>-1.0</td>\n",
              "      <td>-1.0</td>\n",
              "      <td>-1.0</td>\n",
              "      <td>-1.0</td>\n",
              "      <td>-1.0</td>\n",
              "      <td>-1.0</td>\n",
              "      <td>-1.0</td>\n",
              "      <td>-1.0</td>\n",
              "      <td>-1.0</td>\n",
              "      <td>-1.0</td>\n",
              "    </tr>\n",
              "    <tr>\n",
              "      <th>4</th>\n",
              "      <td>1</td>\n",
              "      <td>0.0</td>\n",
              "      <td>0.0</td>\n",
              "      <td>3.0</td>\n",
              "      <td>-1.0</td>\n",
              "      <td>-1.0</td>\n",
              "      <td>-1.0</td>\n",
              "      <td>-1.0</td>\n",
              "      <td>-1.0</td>\n",
              "      <td>-1.0</td>\n",
              "      <td>...</td>\n",
              "      <td>-1.0</td>\n",
              "      <td>-1.0</td>\n",
              "      <td>-1.0</td>\n",
              "      <td>-1.0</td>\n",
              "      <td>-1.0</td>\n",
              "      <td>-1.0</td>\n",
              "      <td>-1.0</td>\n",
              "      <td>-1.0</td>\n",
              "      <td>-1.0</td>\n",
              "      <td>-1.0</td>\n",
              "    </tr>\n",
              "    <tr>\n",
              "      <th>...</th>\n",
              "      <td>...</td>\n",
              "      <td>...</td>\n",
              "      <td>...</td>\n",
              "      <td>...</td>\n",
              "      <td>...</td>\n",
              "      <td>...</td>\n",
              "      <td>...</td>\n",
              "      <td>...</td>\n",
              "      <td>...</td>\n",
              "      <td>...</td>\n",
              "      <td>...</td>\n",
              "      <td>...</td>\n",
              "      <td>...</td>\n",
              "      <td>...</td>\n",
              "      <td>...</td>\n",
              "      <td>...</td>\n",
              "      <td>...</td>\n",
              "      <td>...</td>\n",
              "      <td>...</td>\n",
              "      <td>...</td>\n",
              "      <td>...</td>\n",
              "    </tr>\n",
              "    <tr>\n",
              "      <th>2892</th>\n",
              "      <td>1</td>\n",
              "      <td>0.0</td>\n",
              "      <td>0.0</td>\n",
              "      <td>0.0</td>\n",
              "      <td>0.0</td>\n",
              "      <td>0.0</td>\n",
              "      <td>0.0</td>\n",
              "      <td>0.0</td>\n",
              "      <td>0.0</td>\n",
              "      <td>0.0</td>\n",
              "      <td>...</td>\n",
              "      <td>0.0</td>\n",
              "      <td>0.0</td>\n",
              "      <td>0.0</td>\n",
              "      <td>0.0</td>\n",
              "      <td>0.0</td>\n",
              "      <td>2892.0</td>\n",
              "      <td>-1.0</td>\n",
              "      <td>-1.0</td>\n",
              "      <td>-1.0</td>\n",
              "      <td>-1.0</td>\n",
              "    </tr>\n",
              "    <tr>\n",
              "      <th>2893</th>\n",
              "      <td>1</td>\n",
              "      <td>0.0</td>\n",
              "      <td>0.0</td>\n",
              "      <td>0.0</td>\n",
              "      <td>0.0</td>\n",
              "      <td>0.0</td>\n",
              "      <td>0.0</td>\n",
              "      <td>0.0</td>\n",
              "      <td>0.0</td>\n",
              "      <td>0.0</td>\n",
              "      <td>...</td>\n",
              "      <td>0.0</td>\n",
              "      <td>0.0</td>\n",
              "      <td>0.0</td>\n",
              "      <td>0.0</td>\n",
              "      <td>0.0</td>\n",
              "      <td>0.0</td>\n",
              "      <td>2893.0</td>\n",
              "      <td>-1.0</td>\n",
              "      <td>-1.0</td>\n",
              "      <td>-1.0</td>\n",
              "    </tr>\n",
              "    <tr>\n",
              "      <th>2894</th>\n",
              "      <td>1</td>\n",
              "      <td>0.0</td>\n",
              "      <td>0.0</td>\n",
              "      <td>0.0</td>\n",
              "      <td>0.0</td>\n",
              "      <td>0.0</td>\n",
              "      <td>0.0</td>\n",
              "      <td>0.0</td>\n",
              "      <td>0.0</td>\n",
              "      <td>0.0</td>\n",
              "      <td>...</td>\n",
              "      <td>0.0</td>\n",
              "      <td>0.0</td>\n",
              "      <td>0.0</td>\n",
              "      <td>0.0</td>\n",
              "      <td>0.0</td>\n",
              "      <td>0.0</td>\n",
              "      <td>0.0</td>\n",
              "      <td>2894.0</td>\n",
              "      <td>-1.0</td>\n",
              "      <td>-1.0</td>\n",
              "    </tr>\n",
              "    <tr>\n",
              "      <th>2895</th>\n",
              "      <td>1</td>\n",
              "      <td>0.0</td>\n",
              "      <td>0.0</td>\n",
              "      <td>0.0</td>\n",
              "      <td>0.0</td>\n",
              "      <td>0.0</td>\n",
              "      <td>6.0</td>\n",
              "      <td>-1.0</td>\n",
              "      <td>-1.0</td>\n",
              "      <td>-1.0</td>\n",
              "      <td>...</td>\n",
              "      <td>0.0</td>\n",
              "      <td>0.0</td>\n",
              "      <td>0.0</td>\n",
              "      <td>0.0</td>\n",
              "      <td>0.0</td>\n",
              "      <td>0.0</td>\n",
              "      <td>0.0</td>\n",
              "      <td>0.0</td>\n",
              "      <td>2895.0</td>\n",
              "      <td>-1.0</td>\n",
              "    </tr>\n",
              "    <tr>\n",
              "      <th>2896</th>\n",
              "      <td>1</td>\n",
              "      <td>0.0</td>\n",
              "      <td>0.0</td>\n",
              "      <td>0.0</td>\n",
              "      <td>0.0</td>\n",
              "      <td>0.0</td>\n",
              "      <td>0.0</td>\n",
              "      <td>0.0</td>\n",
              "      <td>0.0</td>\n",
              "      <td>0.0</td>\n",
              "      <td>...</td>\n",
              "      <td>0.0</td>\n",
              "      <td>0.0</td>\n",
              "      <td>0.0</td>\n",
              "      <td>0.0</td>\n",
              "      <td>0.0</td>\n",
              "      <td>0.0</td>\n",
              "      <td>0.0</td>\n",
              "      <td>0.0</td>\n",
              "      <td>0.0</td>\n",
              "      <td>2896.0</td>\n",
              "    </tr>\n",
              "  </tbody>\n",
              "</table>\n",
              "<p>2897 rows × 5934 columns</p>\n",
              "</div>\n",
              "      <button class=\"colab-df-convert\" onclick=\"convertToInteractive('df-718c2c1e-c9b3-4523-aec0-97e997bf73b0')\"\n",
              "              title=\"Convert this dataframe to an interactive table.\"\n",
              "              style=\"display:none;\">\n",
              "        \n",
              "  <svg xmlns=\"http://www.w3.org/2000/svg\" height=\"24px\"viewBox=\"0 0 24 24\"\n",
              "       width=\"24px\">\n",
              "    <path d=\"M0 0h24v24H0V0z\" fill=\"none\"/>\n",
              "    <path d=\"M18.56 5.44l.94 2.06.94-2.06 2.06-.94-2.06-.94-.94-2.06-.94 2.06-2.06.94zm-11 1L8.5 8.5l.94-2.06 2.06-.94-2.06-.94L8.5 2.5l-.94 2.06-2.06.94zm10 10l.94 2.06.94-2.06 2.06-.94-2.06-.94-.94-2.06-.94 2.06-2.06.94z\"/><path d=\"M17.41 7.96l-1.37-1.37c-.4-.4-.92-.59-1.43-.59-.52 0-1.04.2-1.43.59L10.3 9.45l-7.72 7.72c-.78.78-.78 2.05 0 2.83L4 21.41c.39.39.9.59 1.41.59.51 0 1.02-.2 1.41-.59l7.78-7.78 2.81-2.81c.8-.78.8-2.07 0-2.86zM5.41 20L4 18.59l7.72-7.72 1.47 1.35L5.41 20z\"/>\n",
              "  </svg>\n",
              "      </button>\n",
              "      \n",
              "  <style>\n",
              "    .colab-df-container {\n",
              "      display:flex;\n",
              "      flex-wrap:wrap;\n",
              "      gap: 12px;\n",
              "    }\n",
              "\n",
              "    .colab-df-convert {\n",
              "      background-color: #E8F0FE;\n",
              "      border: none;\n",
              "      border-radius: 50%;\n",
              "      cursor: pointer;\n",
              "      display: none;\n",
              "      fill: #1967D2;\n",
              "      height: 32px;\n",
              "      padding: 0 0 0 0;\n",
              "      width: 32px;\n",
              "    }\n",
              "\n",
              "    .colab-df-convert:hover {\n",
              "      background-color: #E2EBFA;\n",
              "      box-shadow: 0px 1px 2px rgba(60, 64, 67, 0.3), 0px 1px 3px 1px rgba(60, 64, 67, 0.15);\n",
              "      fill: #174EA6;\n",
              "    }\n",
              "\n",
              "    [theme=dark] .colab-df-convert {\n",
              "      background-color: #3B4455;\n",
              "      fill: #D2E3FC;\n",
              "    }\n",
              "\n",
              "    [theme=dark] .colab-df-convert:hover {\n",
              "      background-color: #434B5C;\n",
              "      box-shadow: 0px 1px 3px 1px rgba(0, 0, 0, 0.15);\n",
              "      filter: drop-shadow(0px 1px 2px rgba(0, 0, 0, 0.3));\n",
              "      fill: #FFFFFF;\n",
              "    }\n",
              "  </style>\n",
              "\n",
              "      <script>\n",
              "        const buttonEl =\n",
              "          document.querySelector('#df-718c2c1e-c9b3-4523-aec0-97e997bf73b0 button.colab-df-convert');\n",
              "        buttonEl.style.display =\n",
              "          google.colab.kernel.accessAllowed ? 'block' : 'none';\n",
              "\n",
              "        async function convertToInteractive(key) {\n",
              "          const element = document.querySelector('#df-718c2c1e-c9b3-4523-aec0-97e997bf73b0');\n",
              "          const dataTable =\n",
              "            await google.colab.kernel.invokeFunction('convertToInteractive',\n",
              "                                                     [key], {});\n",
              "          if (!dataTable) return;\n",
              "\n",
              "          const docLinkHtml = 'Like what you see? Visit the ' +\n",
              "            '<a target=\"_blank\" href=https://colab.research.google.com/notebooks/data_table.ipynb>data table notebook</a>'\n",
              "            + ' to learn more about interactive tables.';\n",
              "          element.innerHTML = '';\n",
              "          dataTable['output_type'] = 'display_data';\n",
              "          await google.colab.output.renderOutput(dataTable, element);\n",
              "          const docLink = document.createElement('div');\n",
              "          docLink.innerHTML = docLinkHtml;\n",
              "          element.appendChild(docLink);\n",
              "        }\n",
              "      </script>\n",
              "    </div>\n",
              "  </div>\n",
              "  "
            ]
          },
          "metadata": {},
          "execution_count": 73
        }
      ]
    },
    {
      "cell_type": "markdown",
      "source": [
        "**3. Нормализация числовых признаков**"
      ],
      "metadata": {
        "id": "KqWiUlwMikHs"
      }
    },
    {
      "cell_type": "code",
      "source": [
        "import pandas as pd\n",
        "import numpy as np\n",
        "import matplotlib.pyplot as plt\n",
        "import scipy.stats as stats"
      ],
      "metadata": {
        "id": "n2zvq9e4izZe"
      },
      "execution_count": null,
      "outputs": []
    },
    {
      "cell_type": "code",
      "source": [
        "def diagnostic_plots(df, variable):\n",
        "    plt.figure(figsize=(15,6))\n",
        "    # гистограмма\n",
        "    plt.subplot(1, 2, 1)\n",
        "    df[variable].hist(bins=30)\n",
        "    ## Q-Q plot\n",
        "    plt.subplot(1, 2, 2)\n",
        "    stats.probplot(df[variable], dist=\"norm\", plot=plt)\n",
        "    plt.show()"
      ],
      "metadata": {
        "id": "pmKuusJqi6P_"
      },
      "execution_count": null,
      "outputs": []
    },
    {
      "cell_type": "code",
      "source": [
        "# Будем использовать только обучающую выборку\n",
        "data = pd.read_csv('china_population.csv', sep=\",\")"
      ],
      "metadata": {
        "id": "o3V5xqJXi90X"
      },
      "execution_count": null,
      "outputs": []
    },
    {
      "cell_type": "code",
      "source": [
        "data.hist(figsize=(20,20))\n",
        "plt.show()"
      ],
      "metadata": {
        "colab": {
          "base_uri": "https://localhost:8080/",
          "height": 1000
        },
        "id": "eLpX6pf4jGx0",
        "outputId": "a96beb4c-5ee9-4ae8-fabc-0d29e2afb36c"
      },
      "execution_count": null,
      "outputs": [
        {
          "output_type": "display_data",
          "data": {
            "text/plain": [
              "<Figure size 1440x1440 with 16 Axes>"
            ],
            "image/png": "[encoded data removed]"
          },
          "metadata": {}
        }
      ]
    },
    {
      "cell_type": "code",
      "source": [
        "diagnostic_plots(data, 'Yearly Change')"
      ],
      "metadata": {
        "colab": {
          "base_uri": "https://localhost:8080/",
          "height": 410
        },
        "id": "f22Vg9h7jJ_m",
        "outputId": "54a19671-0d5e-4134-a162-514e470864e3"
      },
      "execution_count": null,
      "outputs": [
        {
          "output_type": "display_data",
          "data": {
            "text/plain": [
              "<Figure size 1080x432 with 2 Axes>"
            ],
            "image/png": "[encoded data removed]"
          },
          "metadata": {}
        }
      ]
    },
    {
      "cell_type": "code",
      "source": [
        "data['Yearly Change_log'] = np.log(data['Yearly Change'])\n",
        "diagnostic_plots(data, 'Yearly Change_log')"
      ],
      "metadata": {
        "colab": {
          "base_uri": "https://localhost:8080/",
          "height": 410
        },
        "id": "LzuEyQGjj3vh",
        "outputId": "fd2f378a-5d9d-4067-8030-31872079f609"
      },
      "execution_count": null,
      "outputs": [
        {
          "output_type": "display_data",
          "data": {
            "text/plain": [
              "<Figure size 1080x432 with 2 Axes>"
            ],
            "image/png": "[encoded data removed]"
          },
          "metadata": {}
        }
      ]
    },
    {
      "cell_type": "code",
      "source": [
        "data['Yearly Change_sqr'] = data['Yearly Change']**(1/2) \n",
        "diagnostic_plots(data, 'Yearly Change_sqr')"
      ],
      "metadata": {
        "colab": {
          "base_uri": "https://localhost:8080/",
          "height": 410
        },
        "id": "vz3uLP3wkVk8",
        "outputId": "c8b5538a-0c68-45ef-98c8-ea0cf0287e5f"
      },
      "execution_count": null,
      "outputs": [
        {
          "output_type": "display_data",
          "data": {
            "text/plain": [
              "<Figure size 1080x432 with 2 Axes>"
            ],
            "image/png": "[encoded data removed]"
          },
          "metadata": {}
        }
      ]
    },
    {
      "cell_type": "code",
      "source": [
        "data['Yearly Change_exp1'] = data['Yearly Change']**(1/1.5)\n",
        "diagnostic_plots(data, 'Yearly Change_exp1')"
      ],
      "metadata": {
        "colab": {
          "base_uri": "https://localhost:8080/",
          "height": 410
        },
        "id": "NqcwSYgxkr-0",
        "outputId": "b3301880-83a2-4bf3-bd8f-84573b25c76f"
      },
      "execution_count": null,
      "outputs": [
        {
          "output_type": "display_data",
          "data": {
            "text/plain": [
              "<Figure size 1080x432 with 2 Axes>"
            ],
            "image/png": "[encoded data removed]"
          },
          "metadata": {}
        }
      ]
    },
    {
      "cell_type": "code",
      "source": [
        "data['Yearly Change_exp2'] = data['Yearly Change']**(2)\n",
        "diagnostic_plots(data, 'Yearly Change_exp2')"
      ],
      "metadata": {
        "colab": {
          "base_uri": "https://localhost:8080/",
          "height": 410
        },
        "id": "8VfUt0kRq_JN",
        "outputId": "fa8a5023-5969-402b-a30c-84e88b3bff5e"
      },
      "execution_count": null,
      "outputs": [
        {
          "output_type": "display_data",
          "data": {
            "text/plain": [
              "<Figure size 1080x432 with 2 Axes>"
            ],
            "image/png": "[encoded data removed]"
          },
          "metadata": {}
        }
      ]
    },
    {
      "cell_type": "code",
      "source": [
        "data['Yearly Change_exp3'] = data['Yearly Change']**(0.333)\n",
        "diagnostic_plots(data, 'Yearly Change_exp3')"
      ],
      "metadata": {
        "colab": {
          "base_uri": "https://localhost:8080/",
          "height": 410
        },
        "id": "zncJ6v4zrCrw",
        "outputId": "41fb1c91-58ce-4f8a-bb96-5a3360fcf1b3"
      },
      "execution_count": null,
      "outputs": [
        {
          "output_type": "display_data",
          "data": {
            "text/plain": [
              "<Figure size 1080x432 with 2 Axes>"
            ],
            "image/png": "[encoded data removed]"
          },
          "metadata": {}
        }
      ]
    },
    {
      "cell_type": "code",
      "source": [
        "data['Yearly Change_boxcox'], param = stats.boxcox(data['Yearly Change']) \n",
        "print('Оптимальное значение λ = {}'.format(param))\n",
        "diagnostic_plots(data, 'Yearly Change_boxcox')"
      ],
      "metadata": {
        "colab": {
          "base_uri": "https://localhost:8080/",
          "height": 428
        },
        "id": "Z7-Ck7cIrE7F",
        "outputId": "84dd6a07-6198-4d66-e12b-797b29d1211a"
      },
      "execution_count": null,
      "outputs": [
        {
          "output_type": "stream",
          "name": "stdout",
          "text": [
            "Оптимальное значение λ = -0.47912317902266444\n"
          ]
        },
        {
          "output_type": "display_data",
          "data": {
            "text/plain": [
              "<Figure size 1080x432 with 2 Axes>"
            ],
            "image/png": "[encoded data removed]"
          },
          "metadata": {}
        }
      ]
    }
  ]
}