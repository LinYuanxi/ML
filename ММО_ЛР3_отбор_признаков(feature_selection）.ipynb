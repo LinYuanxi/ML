{
  "nbformat": 4,
  "nbformat_minor": 0,
  "metadata": {
    "colab": {
      "name": "ММО_ЛР3  отбор признаков(feature selection）.ipynb",
      "provenance": [],
      "authorship_tag": "ABX9TyPTSzribTElC2eFZQUhnBbT",
      "include_colab_link": true
    },
    "kernelspec": {
      "name": "python3",
      "display_name": "Python 3"
    },
    "language_info": {
      "name": "python"
    }
  },
  "cells": [
    {
      "cell_type": "markdown",
      "metadata": {
        "id": "view-in-github",
        "colab_type": "text"
      },
      "source": [
        "<a href=\"https://colab.research.google.com/github/LinYuanxi/ML/blob/main/%D0%9C%D0%9C%D0%9E_%D0%9B%D0%A03_%D0%BE%D1%82%D0%B1%D0%BE%D1%80_%D0%BF%D1%80%D0%B8%D0%B7%D0%BD%D0%B0%D0%BA%D0%BE%D0%B2(feature_selection%EF%BC%89.ipynb\" target=\"_parent\"><img src=\"https://colab.research.google.com/assets/colab-badge.svg\" alt=\"Open In Colab\"/></a>"
      ]
    },
    {
      "cell_type": "code",
      "execution_count": 1,
      "metadata": {
        "id": "fc9qZprR4IkN"
      },
      "outputs": [],
      "source": [
        "import numpy as np\n",
        "import pandas as pd\n",
        "import seaborn as sns\n",
        "import matplotlib.pyplot as plt\n",
        "from sklearn.datasets import load_wine\n",
        "import scipy.stats as stats\n",
        "from sklearn.svm import SVR\n",
        "from sklearn.svm import LinearSVC\n",
        "from sklearn.feature_selection import SelectFromModel\n",
        "from sklearn.linear_model import Lasso\n",
        "from sklearn.linear_model import LogisticRegression\n",
        "from sklearn.neighbors import KNeighborsClassifier\n",
        "from sklearn.neighbors import KNeighborsRegressor\n",
        "from sklearn.tree import DecisionTreeClassifier\n",
        "from sklearn.ensemble import RandomForestClassifier\n",
        "from sklearn.ensemble import GradientBoostingClassifier\n",
        "from sklearn.tree import DecisionTreeRegressor\n",
        "from sklearn.ensemble import RandomForestRegressor\n",
        "from sklearn.ensemble import GradientBoostingRegressor\n",
        "from sklearn.metrics import mean_squared_error\n",
        "from sklearn.model_selection import train_test_split\n",
        "from sklearn.feature_selection import VarianceThreshold\n",
        "from sklearn.feature_selection import mutual_info_classif, mutual_info_regression\n",
        "from sklearn.feature_selection import SelectKBest, SelectPercentile\n",
        "from IPython.display import Image\n",
        "%matplotlib inline \n",
        "sns.set(style=\"ticks\")"
      ]
    },
    {
      "cell_type": "code",
      "source": [
        "wine = load_wine()\n",
        "wine_X = wine.data\n",
        "wine_y = wine.target\n",
        "wine_feature_names = wine['feature_names']\n",
        "wine_x_df = pd.DataFrame(data=wine['data'], columns=wine['feature_names'])"
      ],
      "metadata": {
        "id": "Xi2CxddZ4OEk"
      },
      "execution_count": 2,
      "outputs": []
    },
    {
      "cell_type": "code",
      "source": [
        "wine_dataset = load_wine()\n",
        "data = pd.DataFrame(wine_dataset.data,\n",
        "                      columns=wine_dataset.feature_names)"
      ],
      "metadata": {
        "id": "J3pIFY0L9jEL"
      },
      "execution_count": 11,
      "outputs": []
    },
    {
      "cell_type": "code",
      "source": [
        "lst_arr_1211 = [[1,2,1,21], [1,2,2,22], [1,2,3,23], [1,2,4,24], \n",
        "                [1,2,5,25], [1,2,6,26], [1,2,7,27], [1,1,8,28]]\n",
        "arr_1211 = np.array(lst_arr_1211)\n",
        "data_1211 = pd.DataFrame(arr_1211, columns=['f1', 'f2', 'f3', 'f4'])\n",
        "data_1211"
      ],
      "metadata": {
        "colab": {
          "base_uri": "https://localhost:8080/",
          "height": 300
        },
        "id": "zQfsCVMc4lkW",
        "outputId": "d38653db-173a-45df-ec8f-c86ea95b6ce4"
      },
      "execution_count": 3,
      "outputs": [
        {
          "output_type": "execute_result",
          "data": {
            "text/plain": [
              "   f1  f2  f3  f4\n",
              "0   1   2   1  21\n",
              "1   1   2   2  22\n",
              "2   1   2   3  23\n",
              "3   1   2   4  24\n",
              "4   1   2   5  25\n",
              "5   1   2   6  26\n",
              "6   1   2   7  27\n",
              "7   1   1   8  28"
            ],
            "text/html": [
              "\n",
              "  <div id=\"df-967e76f0-d68d-419b-8b15-5301d04ed669\">\n",
              "    <div class=\"colab-df-container\">\n",
              "      <div>\n",
              "<style scoped>\n",
              "    .dataframe tbody tr th:only-of-type {\n",
              "        vertical-align: middle;\n",
              "    }\n",
              "\n",
              "    .dataframe tbody tr th {\n",
              "        vertical-align: top;\n",
              "    }\n",
              "\n",
              "    .dataframe thead th {\n",
              "        text-align: right;\n",
              "    }\n",
              "</style>\n",
              "<table border=\"1\" class=\"dataframe\">\n",
              "  <thead>\n",
              "    <tr style=\"text-align: right;\">\n",
              "      <th></th>\n",
              "      <th>f1</th>\n",
              "      <th>f2</th>\n",
              "      <th>f3</th>\n",
              "      <th>f4</th>\n",
              "    </tr>\n",
              "  </thead>\n",
              "  <tbody>\n",
              "    <tr>\n",
              "      <th>0</th>\n",
              "      <td>1</td>\n",
              "      <td>2</td>\n",
              "      <td>1</td>\n",
              "      <td>21</td>\n",
              "    </tr>\n",
              "    <tr>\n",
              "      <th>1</th>\n",
              "      <td>1</td>\n",
              "      <td>2</td>\n",
              "      <td>2</td>\n",
              "      <td>22</td>\n",
              "    </tr>\n",
              "    <tr>\n",
              "      <th>2</th>\n",
              "      <td>1</td>\n",
              "      <td>2</td>\n",
              "      <td>3</td>\n",
              "      <td>23</td>\n",
              "    </tr>\n",
              "    <tr>\n",
              "      <th>3</th>\n",
              "      <td>1</td>\n",
              "      <td>2</td>\n",
              "      <td>4</td>\n",
              "      <td>24</td>\n",
              "    </tr>\n",
              "    <tr>\n",
              "      <th>4</th>\n",
              "      <td>1</td>\n",
              "      <td>2</td>\n",
              "      <td>5</td>\n",
              "      <td>25</td>\n",
              "    </tr>\n",
              "    <tr>\n",
              "      <th>5</th>\n",
              "      <td>1</td>\n",
              "      <td>2</td>\n",
              "      <td>6</td>\n",
              "      <td>26</td>\n",
              "    </tr>\n",
              "    <tr>\n",
              "      <th>6</th>\n",
              "      <td>1</td>\n",
              "      <td>2</td>\n",
              "      <td>7</td>\n",
              "      <td>27</td>\n",
              "    </tr>\n",
              "    <tr>\n",
              "      <th>7</th>\n",
              "      <td>1</td>\n",
              "      <td>1</td>\n",
              "      <td>8</td>\n",
              "      <td>28</td>\n",
              "    </tr>\n",
              "  </tbody>\n",
              "</table>\n",
              "</div>\n",
              "      <button class=\"colab-df-convert\" onclick=\"convertToInteractive('df-967e76f0-d68d-419b-8b15-5301d04ed669')\"\n",
              "              title=\"Convert this dataframe to an interactive table.\"\n",
              "              style=\"display:none;\">\n",
              "        \n",
              "  <svg xmlns=\"http://www.w3.org/2000/svg\" height=\"24px\"viewBox=\"0 0 24 24\"\n",
              "       width=\"24px\">\n",
              "    <path d=\"M0 0h24v24H0V0z\" fill=\"none\"/>\n",
              "    <path d=\"M18.56 5.44l.94 2.06.94-2.06 2.06-.94-2.06-.94-.94-2.06-.94 2.06-2.06.94zm-11 1L8.5 8.5l.94-2.06 2.06-.94-2.06-.94L8.5 2.5l-.94 2.06-2.06.94zm10 10l.94 2.06.94-2.06 2.06-.94-2.06-.94-.94-2.06-.94 2.06-2.06.94z\"/><path d=\"M17.41 7.96l-1.37-1.37c-.4-.4-.92-.59-1.43-.59-.52 0-1.04.2-1.43.59L10.3 9.45l-7.72 7.72c-.78.78-.78 2.05 0 2.83L4 21.41c.39.39.9.59 1.41.59.51 0 1.02-.2 1.41-.59l7.78-7.78 2.81-2.81c.8-.78.8-2.07 0-2.86zM5.41 20L4 18.59l7.72-7.72 1.47 1.35L5.41 20z\"/>\n",
              "  </svg>\n",
              "      </button>\n",
              "      \n",
              "  <style>\n",
              "    .colab-df-container {\n",
              "      display:flex;\n",
              "      flex-wrap:wrap;\n",
              "      gap: 12px;\n",
              "    }\n",
              "\n",
              "    .colab-df-convert {\n",
              "      background-color: #E8F0FE;\n",
              "      border: none;\n",
              "      border-radius: 50%;\n",
              "      cursor: pointer;\n",
              "      display: none;\n",
              "      fill: #1967D2;\n",
              "      height: 32px;\n",
              "      padding: 0 0 0 0;\n",
              "      width: 32px;\n",
              "    }\n",
              "\n",
              "    .colab-df-convert:hover {\n",
              "      background-color: #E2EBFA;\n",
              "      box-shadow: 0px 1px 2px rgba(60, 64, 67, 0.3), 0px 1px 3px 1px rgba(60, 64, 67, 0.15);\n",
              "      fill: #174EA6;\n",
              "    }\n",
              "\n",
              "    [theme=dark] .colab-df-convert {\n",
              "      background-color: #3B4455;\n",
              "      fill: #D2E3FC;\n",
              "    }\n",
              "\n",
              "    [theme=dark] .colab-df-convert:hover {\n",
              "      background-color: #434B5C;\n",
              "      box-shadow: 0px 1px 3px 1px rgba(0, 0, 0, 0.15);\n",
              "      filter: drop-shadow(0px 1px 2px rgba(0, 0, 0, 0.3));\n",
              "      fill: #FFFFFF;\n",
              "    }\n",
              "  </style>\n",
              "\n",
              "      <script>\n",
              "        const buttonEl =\n",
              "          document.querySelector('#df-967e76f0-d68d-419b-8b15-5301d04ed669 button.colab-df-convert');\n",
              "        buttonEl.style.display =\n",
              "          google.colab.kernel.accessAllowed ? 'block' : 'none';\n",
              "\n",
              "        async function convertToInteractive(key) {\n",
              "          const element = document.querySelector('#df-967e76f0-d68d-419b-8b15-5301d04ed669');\n",
              "          const dataTable =\n",
              "            await google.colab.kernel.invokeFunction('convertToInteractive',\n",
              "                                                     [key], {});\n",
              "          if (!dataTable) return;\n",
              "\n",
              "          const docLinkHtml = 'Like what you see? Visit the ' +\n",
              "            '<a target=\"_blank\" href=https://colab.research.google.com/notebooks/data_table.ipynb>data table notebook</a>'\n",
              "            + ' to learn more about interactive tables.';\n",
              "          element.innerHTML = '';\n",
              "          dataTable['output_type'] = 'display_data';\n",
              "          await google.colab.output.renderOutput(dataTable, element);\n",
              "          const docLink = document.createElement('div');\n",
              "          docLink.innerHTML = docLinkHtml;\n",
              "          element.appendChild(docLink);\n",
              "        }\n",
              "      </script>\n",
              "    </div>\n",
              "  </div>\n",
              "  "
            ]
          },
          "metadata": {},
          "execution_count": 3
        }
      ]
    },
    {
      "cell_type": "code",
      "source": [
        "selector_1211 = VarianceThreshold(threshold=0.15)\n",
        "selector_1211.fit(data_1211)\n",
        "# Значения дисперсий для каждого признака\n",
        "selector_1211.variances_"
      ],
      "metadata": {
        "colab": {
          "base_uri": "https://localhost:8080/"
        },
        "id": "LuVxnmmo4prP",
        "outputId": "378e31e0-71c6-4011-fe52-cafc40397314"
      },
      "execution_count": 4,
      "outputs": [
        {
          "output_type": "execute_result",
          "data": {
            "text/plain": [
              "array([0.      , 0.109375, 5.25    , 5.25    ])"
            ]
          },
          "metadata": {},
          "execution_count": 4
        }
      ]
    },
    {
      "cell_type": "code",
      "source": [
        "# Константный и псевдоконстантный признаки удалены\n",
        "selector_1211.transform(data_1211)"
      ],
      "metadata": {
        "colab": {
          "base_uri": "https://localhost:8080/"
        },
        "id": "h7Gk7nsV4tzA",
        "outputId": "5dae9d5a-91ff-46a8-a7e6-7d82361b2615"
      },
      "execution_count": 5,
      "outputs": [
        {
          "output_type": "execute_result",
          "data": {
            "text/plain": [
              "array([[ 1, 21],\n",
              "       [ 2, 22],\n",
              "       [ 3, 23],\n",
              "       [ 4, 24],\n",
              "       [ 5, 25],\n",
              "       [ 6, 26],\n",
              "       [ 7, 27],\n",
              "       [ 8, 28]])"
            ]
          },
          "metadata": {},
          "execution_count": 5
        }
      ]
    },
    {
      "cell_type": "code",
      "source": [
        "lst_arr_1212 = [[21,1,2,21,1,3,21], \n",
        "                [22,2,2,22,2,3,22], \n",
        "                [23,3,2,23,3,3,23], \n",
        "                [24,4,2,24,4,3,24]]\n",
        "arr_1212 = np.array(lst_arr_1212)\n",
        "data_1212 = pd.DataFrame(arr_1212, columns=['f1', 'f2', 'f3', 'f4', 'f5', 'f6', 'f7'])\n",
        "data_1212"
      ],
      "metadata": {
        "colab": {
          "base_uri": "https://localhost:8080/",
          "height": 175
        },
        "id": "79U2rsSb4uxY",
        "outputId": "eccf0127-2157-41e1-8a5d-cbd3e5f464f3"
      },
      "execution_count": 6,
      "outputs": [
        {
          "output_type": "execute_result",
          "data": {
            "text/plain": [
              "   f1  f2  f3  f4  f5  f6  f7\n",
              "0  21   1   2  21   1   3  21\n",
              "1  22   2   2  22   2   3  22\n",
              "2  23   3   2  23   3   3  23\n",
              "3  24   4   2  24   4   3  24"
            ],
            "text/html": [
              "\n",
              "  <div id=\"df-09cf82f6-3654-4e1d-8e59-5529997842e2\">\n",
              "    <div class=\"colab-df-container\">\n",
              "      <div>\n",
              "<style scoped>\n",
              "    .dataframe tbody tr th:only-of-type {\n",
              "        vertical-align: middle;\n",
              "    }\n",
              "\n",
              "    .dataframe tbody tr th {\n",
              "        vertical-align: top;\n",
              "    }\n",
              "\n",
              "    .dataframe thead th {\n",
              "        text-align: right;\n",
              "    }\n",
              "</style>\n",
              "<table border=\"1\" class=\"dataframe\">\n",
              "  <thead>\n",
              "    <tr style=\"text-align: right;\">\n",
              "      <th></th>\n",
              "      <th>f1</th>\n",
              "      <th>f2</th>\n",
              "      <th>f3</th>\n",
              "      <th>f4</th>\n",
              "      <th>f5</th>\n",
              "      <th>f6</th>\n",
              "      <th>f7</th>\n",
              "    </tr>\n",
              "  </thead>\n",
              "  <tbody>\n",
              "    <tr>\n",
              "      <th>0</th>\n",
              "      <td>21</td>\n",
              "      <td>1</td>\n",
              "      <td>2</td>\n",
              "      <td>21</td>\n",
              "      <td>1</td>\n",
              "      <td>3</td>\n",
              "      <td>21</td>\n",
              "    </tr>\n",
              "    <tr>\n",
              "      <th>1</th>\n",
              "      <td>22</td>\n",
              "      <td>2</td>\n",
              "      <td>2</td>\n",
              "      <td>22</td>\n",
              "      <td>2</td>\n",
              "      <td>3</td>\n",
              "      <td>22</td>\n",
              "    </tr>\n",
              "    <tr>\n",
              "      <th>2</th>\n",
              "      <td>23</td>\n",
              "      <td>3</td>\n",
              "      <td>2</td>\n",
              "      <td>23</td>\n",
              "      <td>3</td>\n",
              "      <td>3</td>\n",
              "      <td>23</td>\n",
              "    </tr>\n",
              "    <tr>\n",
              "      <th>3</th>\n",
              "      <td>24</td>\n",
              "      <td>4</td>\n",
              "      <td>2</td>\n",
              "      <td>24</td>\n",
              "      <td>4</td>\n",
              "      <td>3</td>\n",
              "      <td>24</td>\n",
              "    </tr>\n",
              "  </tbody>\n",
              "</table>\n",
              "</div>\n",
              "      <button class=\"colab-df-convert\" onclick=\"convertToInteractive('df-09cf82f6-3654-4e1d-8e59-5529997842e2')\"\n",
              "              title=\"Convert this dataframe to an interactive table.\"\n",
              "              style=\"display:none;\">\n",
              "        \n",
              "  <svg xmlns=\"http://www.w3.org/2000/svg\" height=\"24px\"viewBox=\"0 0 24 24\"\n",
              "       width=\"24px\">\n",
              "    <path d=\"M0 0h24v24H0V0z\" fill=\"none\"/>\n",
              "    <path d=\"M18.56 5.44l.94 2.06.94-2.06 2.06-.94-2.06-.94-.94-2.06-.94 2.06-2.06.94zm-11 1L8.5 8.5l.94-2.06 2.06-.94-2.06-.94L8.5 2.5l-.94 2.06-2.06.94zm10 10l.94 2.06.94-2.06 2.06-.94-2.06-.94-.94-2.06-.94 2.06-2.06.94z\"/><path d=\"M17.41 7.96l-1.37-1.37c-.4-.4-.92-.59-1.43-.59-.52 0-1.04.2-1.43.59L10.3 9.45l-7.72 7.72c-.78.78-.78 2.05 0 2.83L4 21.41c.39.39.9.59 1.41.59.51 0 1.02-.2 1.41-.59l7.78-7.78 2.81-2.81c.8-.78.8-2.07 0-2.86zM5.41 20L4 18.59l7.72-7.72 1.47 1.35L5.41 20z\"/>\n",
              "  </svg>\n",
              "      </button>\n",
              "      \n",
              "  <style>\n",
              "    .colab-df-container {\n",
              "      display:flex;\n",
              "      flex-wrap:wrap;\n",
              "      gap: 12px;\n",
              "    }\n",
              "\n",
              "    .colab-df-convert {\n",
              "      background-color: #E8F0FE;\n",
              "      border: none;\n",
              "      border-radius: 50%;\n",
              "      cursor: pointer;\n",
              "      display: none;\n",
              "      fill: #1967D2;\n",
              "      height: 32px;\n",
              "      padding: 0 0 0 0;\n",
              "      width: 32px;\n",
              "    }\n",
              "\n",
              "    .colab-df-convert:hover {\n",
              "      background-color: #E2EBFA;\n",
              "      box-shadow: 0px 1px 2px rgba(60, 64, 67, 0.3), 0px 1px 3px 1px rgba(60, 64, 67, 0.15);\n",
              "      fill: #174EA6;\n",
              "    }\n",
              "\n",
              "    [theme=dark] .colab-df-convert {\n",
              "      background-color: #3B4455;\n",
              "      fill: #D2E3FC;\n",
              "    }\n",
              "\n",
              "    [theme=dark] .colab-df-convert:hover {\n",
              "      background-color: #434B5C;\n",
              "      box-shadow: 0px 1px 3px 1px rgba(0, 0, 0, 0.15);\n",
              "      filter: drop-shadow(0px 1px 2px rgba(0, 0, 0, 0.3));\n",
              "      fill: #FFFFFF;\n",
              "    }\n",
              "  </style>\n",
              "\n",
              "      <script>\n",
              "        const buttonEl =\n",
              "          document.querySelector('#df-09cf82f6-3654-4e1d-8e59-5529997842e2 button.colab-df-convert');\n",
              "        buttonEl.style.display =\n",
              "          google.colab.kernel.accessAllowed ? 'block' : 'none';\n",
              "\n",
              "        async function convertToInteractive(key) {\n",
              "          const element = document.querySelector('#df-09cf82f6-3654-4e1d-8e59-5529997842e2');\n",
              "          const dataTable =\n",
              "            await google.colab.kernel.invokeFunction('convertToInteractive',\n",
              "                                                     [key], {});\n",
              "          if (!dataTable) return;\n",
              "\n",
              "          const docLinkHtml = 'Like what you see? Visit the ' +\n",
              "            '<a target=\"_blank\" href=https://colab.research.google.com/notebooks/data_table.ipynb>data table notebook</a>'\n",
              "            + ' to learn more about interactive tables.';\n",
              "          element.innerHTML = '';\n",
              "          dataTable['output_type'] = 'display_data';\n",
              "          await google.colab.output.renderOutput(dataTable, element);\n",
              "          const docLink = document.createElement('div');\n",
              "          docLink.innerHTML = docLinkHtml;\n",
              "          element.appendChild(docLink);\n",
              "        }\n",
              "      </script>\n",
              "    </div>\n",
              "  </div>\n",
              "  "
            ]
          },
          "metadata": {},
          "execution_count": 6
        }
      ]
    },
    {
      "cell_type": "code",
      "source": [
        "def get_duplicates(X):\n",
        "    \"\"\"\n",
        "    Поиск дубликатов в колонках\n",
        "    X - DataFrame\n",
        "    \"\"\"\n",
        "    \n",
        "    pairs = {}\n",
        "    dups = []\n",
        "\n",
        "    # Перебор всех колонок (внешний)\n",
        "    for i in range(X.shape[1]):\n",
        "\n",
        "        # текущая колонка\n",
        "        feat_outer = X.columns[i]\n",
        "\n",
        "        # если текущая колонка не является дублем\n",
        "        if feat_outer not in dups:\n",
        "\n",
        "            # создаем запись в словаре, колонка является ключом\n",
        "            pairs[feat_outer] = []\n",
        "\n",
        "            # Перебор оставшихся колонок (внутренний)\n",
        "            for feat_inner in X.columns[i + 1:]:\n",
        "\n",
        "                # Если колонки идентичны\n",
        "                if X[feat_outer].equals(X[feat_inner]):\n",
        "\n",
        "                    # добавление в словарь и список дубликатов\n",
        "                    pairs[feat_outer].append(feat_inner)\n",
        "                    dups.append(feat_inner)\n",
        "\n",
        "    return pairs"
      ],
      "metadata": {
        "id": "Mi0aSPdW42jA"
      },
      "execution_count": 7,
      "outputs": []
    },
    {
      "cell_type": "code",
      "source": [
        "get_duplicates(data_1212)"
      ],
      "metadata": {
        "colab": {
          "base_uri": "https://localhost:8080/"
        },
        "id": "LyTx-WEu45oz",
        "outputId": "7fbd9dbc-0c60-4a59-a3f7-a2d0681113f7"
      },
      "execution_count": 8,
      "outputs": [
        {
          "output_type": "execute_result",
          "data": {
            "text/plain": [
              "{'f1': ['f4', 'f7'], 'f2': ['f5'], 'f3': [], 'f6': []}"
            ]
          },
          "metadata": {},
          "execution_count": 8
        }
      ]
    },
    {
      "cell_type": "code",
      "source": [
        "sns.heatmap(data.corr(), annot=True, fmt='.2f')"
      ],
      "metadata": {
        "colab": {
          "base_uri": "https://localhost:8080/",
          "height": 450
        },
        "id": "XAyKFkf75Bdk",
        "outputId": "b72091e9-061f-403b-f75a-a41be38b069b"
      },
      "execution_count": 14,
      "outputs": [
        {
          "output_type": "execute_result",
          "data": {
            "text/plain": [
              "<matplotlib.axes._subplots.AxesSubplot at 0x7f81da461810>"
            ]
          },
          "metadata": {},
          "execution_count": 14
        },
        {
          "output_type": "display_data",
          "data": {
            "text/plain": [
              "<Figure size 432x288 with 2 Axes>"
            ],
            "image/png": "[encoded data removed]"
          },
          "metadata": {
            "needs_background": "light"
          }
        }
      ]
    },
    {
      "cell_type": "code",
      "source": [
        "# Формирование DataFrame с сильными корреляциями\n",
        "def make_corr_df(df):\n",
        "    cr = data.corr()\n",
        "    cr = cr.abs().unstack() \n",
        "    cr = cr.sort_values(ascending=False)\n",
        "    cr = cr[cr >= 0.8]\n",
        "    cr = cr[cr < 1]\n",
        "    cr = pd.DataFrame(cr).reset_index()\n",
        "    cr.columns = ['f1', 'f2', 'corr']\n",
        "    return cr"
      ],
      "metadata": {
        "id": "_hiC_Ock-EX_"
      },
      "execution_count": 15,
      "outputs": []
    },
    {
      "cell_type": "code",
      "source": [
        "make_corr_df(data)"
      ],
      "metadata": {
        "colab": {
          "base_uri": "https://localhost:8080/",
          "height": 112
        },
        "id": "S8lvby39-HJI",
        "outputId": "425fc0fa-16c8-4996-f9bd-24efa1c7eb14"
      },
      "execution_count": 17,
      "outputs": [
        {
          "output_type": "execute_result",
          "data": {
            "text/plain": [
              "              f1             f2      corr\n",
              "0  total_phenols     flavanoids  0.864564\n",
              "1     flavanoids  total_phenols  0.864564"
            ],
            "text/html": [
              "\n",
              "  <div id=\"df-a6153d00-4530-47b9-ab5c-cf21c1a9b533\">\n",
              "    <div class=\"colab-df-container\">\n",
              "      <div>\n",
              "<style scoped>\n",
              "    .dataframe tbody tr th:only-of-type {\n",
              "        vertical-align: middle;\n",
              "    }\n",
              "\n",
              "    .dataframe tbody tr th {\n",
              "        vertical-align: top;\n",
              "    }\n",
              "\n",
              "    .dataframe thead th {\n",
              "        text-align: right;\n",
              "    }\n",
              "</style>\n",
              "<table border=\"1\" class=\"dataframe\">\n",
              "  <thead>\n",
              "    <tr style=\"text-align: right;\">\n",
              "      <th></th>\n",
              "      <th>f1</th>\n",
              "      <th>f2</th>\n",
              "      <th>corr</th>\n",
              "    </tr>\n",
              "  </thead>\n",
              "  <tbody>\n",
              "    <tr>\n",
              "      <th>0</th>\n",
              "      <td>total_phenols</td>\n",
              "      <td>flavanoids</td>\n",
              "      <td>0.864564</td>\n",
              "    </tr>\n",
              "    <tr>\n",
              "      <th>1</th>\n",
              "      <td>flavanoids</td>\n",
              "      <td>total_phenols</td>\n",
              "      <td>0.864564</td>\n",
              "    </tr>\n",
              "  </tbody>\n",
              "</table>\n",
              "</div>\n",
              "      <button class=\"colab-df-convert\" onclick=\"convertToInteractive('df-a6153d00-4530-47b9-ab5c-cf21c1a9b533')\"\n",
              "              title=\"Convert this dataframe to an interactive table.\"\n",
              "              style=\"display:none;\">\n",
              "        \n",
              "  <svg xmlns=\"http://www.w3.org/2000/svg\" height=\"24px\"viewBox=\"0 0 24 24\"\n",
              "       width=\"24px\">\n",
              "    <path d=\"M0 0h24v24H0V0z\" fill=\"none\"/>\n",
              "    <path d=\"M18.56 5.44l.94 2.06.94-2.06 2.06-.94-2.06-.94-.94-2.06-.94 2.06-2.06.94zm-11 1L8.5 8.5l.94-2.06 2.06-.94-2.06-.94L8.5 2.5l-.94 2.06-2.06.94zm10 10l.94 2.06.94-2.06 2.06-.94-2.06-.94-.94-2.06-.94 2.06-2.06.94z\"/><path d=\"M17.41 7.96l-1.37-1.37c-.4-.4-.92-.59-1.43-.59-.52 0-1.04.2-1.43.59L10.3 9.45l-7.72 7.72c-.78.78-.78 2.05 0 2.83L4 21.41c.39.39.9.59 1.41.59.51 0 1.02-.2 1.41-.59l7.78-7.78 2.81-2.81c.8-.78.8-2.07 0-2.86zM5.41 20L4 18.59l7.72-7.72 1.47 1.35L5.41 20z\"/>\n",
              "  </svg>\n",
              "      </button>\n",
              "      \n",
              "  <style>\n",
              "    .colab-df-container {\n",
              "      display:flex;\n",
              "      flex-wrap:wrap;\n",
              "      gap: 12px;\n",
              "    }\n",
              "\n",
              "    .colab-df-convert {\n",
              "      background-color: #E8F0FE;\n",
              "      border: none;\n",
              "      border-radius: 50%;\n",
              "      cursor: pointer;\n",
              "      display: none;\n",
              "      fill: #1967D2;\n",
              "      height: 32px;\n",
              "      padding: 0 0 0 0;\n",
              "      width: 32px;\n",
              "    }\n",
              "\n",
              "    .colab-df-convert:hover {\n",
              "      background-color: #E2EBFA;\n",
              "      box-shadow: 0px 1px 2px rgba(60, 64, 67, 0.3), 0px 1px 3px 1px rgba(60, 64, 67, 0.15);\n",
              "      fill: #174EA6;\n",
              "    }\n",
              "\n",
              "    [theme=dark] .colab-df-convert {\n",
              "      background-color: #3B4455;\n",
              "      fill: #D2E3FC;\n",
              "    }\n",
              "\n",
              "    [theme=dark] .colab-df-convert:hover {\n",
              "      background-color: #434B5C;\n",
              "      box-shadow: 0px 1px 3px 1px rgba(0, 0, 0, 0.15);\n",
              "      filter: drop-shadow(0px 1px 2px rgba(0, 0, 0, 0.3));\n",
              "      fill: #FFFFFF;\n",
              "    }\n",
              "  </style>\n",
              "\n",
              "      <script>\n",
              "        const buttonEl =\n",
              "          document.querySelector('#df-a6153d00-4530-47b9-ab5c-cf21c1a9b533 button.colab-df-convert');\n",
              "        buttonEl.style.display =\n",
              "          google.colab.kernel.accessAllowed ? 'block' : 'none';\n",
              "\n",
              "        async function convertToInteractive(key) {\n",
              "          const element = document.querySelector('#df-a6153d00-4530-47b9-ab5c-cf21c1a9b533');\n",
              "          const dataTable =\n",
              "            await google.colab.kernel.invokeFunction('convertToInteractive',\n",
              "                                                     [key], {});\n",
              "          if (!dataTable) return;\n",
              "\n",
              "          const docLinkHtml = 'Like what you see? Visit the ' +\n",
              "            '<a target=\"_blank\" href=https://colab.research.google.com/notebooks/data_table.ipynb>data table notebook</a>'\n",
              "            + ' to learn more about interactive tables.';\n",
              "          element.innerHTML = '';\n",
              "          dataTable['output_type'] = 'display_data';\n",
              "          await google.colab.output.renderOutput(dataTable, element);\n",
              "          const docLink = document.createElement('div');\n",
              "          docLink.innerHTML = docLinkHtml;\n",
              "          element.appendChild(docLink);\n",
              "        }\n",
              "      </script>\n",
              "    </div>\n",
              "  </div>\n",
              "  "
            ]
          },
          "metadata": {},
          "execution_count": 17
        }
      ]
    },
    {
      "cell_type": "code",
      "source": [
        "# Обнаружение групп коррелирующих признаков\n",
        "def corr_groups(cr):\n",
        "    grouped_feature_list = []\n",
        "    correlated_groups = []\n",
        "\n",
        "    for feature in cr['f1'].unique():\n",
        "        if feature not in grouped_feature_list:\n",
        "            # находим коррелирующие признаки\n",
        "            correlated_block = cr[cr['f1'] == feature]\n",
        "            cur_dups = list(correlated_block['f2'].unique()) + [feature]\n",
        "            grouped_feature_list = grouped_feature_list + cur_dups\n",
        "            correlated_groups.append(cur_dups)\n",
        "    return correlated_groups"
      ],
      "metadata": {
        "id": "VK6EetwJ-Nad"
      },
      "execution_count": 18,
      "outputs": []
    },
    {
      "cell_type": "code",
      "source": [
        "# Группы коррелирующих признаков\n",
        "corr_groups(make_corr_df(data))"
      ],
      "metadata": {
        "colab": {
          "base_uri": "https://localhost:8080/"
        },
        "id": "7YAtzLRg-QGP",
        "outputId": "dd40e135-3cb0-4d25-82a1-d9cf944e3fc0"
      },
      "execution_count": 19,
      "outputs": [
        {
          "output_type": "execute_result",
          "data": {
            "text/plain": [
              "[['flavanoids', 'total_phenols']]"
            ]
          },
          "metadata": {},
          "execution_count": 19
        }
      ]
    },
    {
      "cell_type": "code",
      "source": [
        "from sklearn.datasets import load_diabetes"
      ],
      "metadata": {
        "id": "upGs-EOB-fgs"
      },
      "execution_count": 23,
      "outputs": []
    },
    {
      "cell_type": "code",
      "source": [
        "diabetes = load_diabetes()\n",
        "diabetes_X = diabetes.data\n",
        "diabetes_y = diabetes.target\n",
        "diabetes_feature_names = diabetes['feature_names']\n",
        "diabetes_x_df = pd.DataFrame(data=diabetes['data'], columns=diabetes['feature_names'])"
      ],
      "metadata": {
        "id": "93yefbWG-568"
      },
      "execution_count": 24,
      "outputs": []
    },
    {
      "cell_type": "code",
      "source": [
        "mi = mutual_info_regression(diabetes_X, diabetes_y)\n",
        "mi = pd.Series(mi)\n",
        "mi.index = diabetes_feature_names\n",
        "mi.sort_values(ascending=False).plot.bar(figsize=(10,5))\n",
        "plt.ylabel('Взаимная информация')"
      ],
      "metadata": {
        "colab": {
          "base_uri": "https://localhost:8080/",
          "height": 351
        },
        "id": "dpdpCCfF-e31",
        "outputId": "865c8d31-8d1a-4f4a-e128-0a6d0781f9f4"
      },
      "execution_count": 26,
      "outputs": [
        {
          "output_type": "execute_result",
          "data": {
            "text/plain": [
              "Text(0, 0.5, 'Взаимная информация')"
            ]
          },
          "metadata": {},
          "execution_count": 26
        },
        {
          "output_type": "display_data",
          "data": {
            "text/plain": [
              "<Figure size 720x360 with 1 Axes>"
            ],
            "image/png": "[encoded data removed]"
          },
          "metadata": {
            "needs_background": "light"
          }
        }
      ]
    },
    {
      "cell_type": "code",
      "source": [
        "sel_mi = SelectKBest(mutual_info_regression, k=5).fit(diabetes_X, diabetes_y)\n",
        "\n",
        "list(zip(diabetes_feature_names, sel_mi.get_support()))"
      ],
      "metadata": {
        "colab": {
          "base_uri": "https://localhost:8080/"
        },
        "id": "uzQ7Q30b_P9O",
        "outputId": "7f5ca131-8ec4-4208-c554-d14a01075a92"
      },
      "execution_count": 28,
      "outputs": [
        {
          "output_type": "execute_result",
          "data": {
            "text/plain": [
              "[('age', False),\n",
              " ('sex', False),\n",
              " ('bmi', True),\n",
              " ('bp', False),\n",
              " ('s1', True),\n",
              " ('s2', False),\n",
              " ('s3', False),\n",
              " ('s4', True),\n",
              " ('s5', True),\n",
              " ('s6', True)]"
            ]
          },
          "metadata": {},
          "execution_count": 28
        }
      ]
    },
    {
      "cell_type": "markdown",
      "source": [
        "Методы обертывания (wrapper methods)"
      ],
      "metadata": {
        "id": "KLql7qHZAU0b"
      }
    },
    {
      "cell_type": "code",
      "source": [
        "!pip install Scikit-learn==0.20.4\n"
      ],
      "metadata": {
        "colab": {
          "base_uri": "https://localhost:8080/",
          "height": 380
        },
        "id": "PVfZ67qXBes9",
        "outputId": "06559a90-33b7-464c-8dc6-7402d305ba27"
      },
      "execution_count": 45,
      "outputs": [
        {
          "output_type": "stream",
          "name": "stdout",
          "text": [
            "Looking in indexes: https://pypi.org/simple, https://us-python.pkg.dev/colab-wheels/public/simple/\n",
            "Collecting Scikit-learn==0.20.4\n",
            "  Downloading scikit_learn-0.20.4-cp37-cp37m-manylinux1_x86_64.whl (5.4 MB)\n",
            "\u001b[K     |████████████████████████████████| 5.4 MB 8.7 MB/s \n",
            "\u001b[?25hRequirement already satisfied: numpy>=1.8.2 in /usr/local/lib/python3.7/dist-packages (from Scikit-learn==0.20.4) (1.21.6)\n",
            "Requirement already satisfied: scipy>=0.13.3 in /usr/local/lib/python3.7/dist-packages (from Scikit-learn==0.20.4) (1.4.1)\n",
            "Installing collected packages: Scikit-learn\n",
            "  Attempting uninstall: Scikit-learn\n",
            "    Found existing installation: scikit-learn 1.0.2\n",
            "    Uninstalling scikit-learn-1.0.2:\n",
            "      Successfully uninstalled scikit-learn-1.0.2\n",
            "\u001b[31mERROR: pip's dependency resolver does not currently take into account all the packages that are installed. This behaviour is the source of the following dependency conflicts.\n",
            "yellowbrick 1.4 requires scikit-learn>=1.0.0, but you have scikit-learn 0.20.4 which is incompatible.\n",
            "imbalanced-learn 0.8.1 requires scikit-learn>=0.24, but you have scikit-learn 0.20.4 which is incompatible.\u001b[0m\n",
            "Successfully installed Scikit-learn-0.20.4\n"
          ]
        },
        {
          "output_type": "display_data",
          "data": {
            "application/vnd.colab-display-data+json": {
              "pip_warning": {
                "packages": [
                  "sklearn"
                ]
              }
            }
          },
          "metadata": {}
        }
      ]
    },
    {
      "cell_type": "code",
      "source": [
        "from mlxtend.feature_selection import ExhaustiveFeatureSelector as EFS\n",
        "\n",
        "knn = KNeighborsClassifier(n_neighbors=3)"
      ],
      "metadata": {
        "id": "nyV5y7ouAViF"
      },
      "execution_count": 46,
      "outputs": []
    },
    {
      "cell_type": "code",
      "source": [
        "efs1 = EFS(knn, \n",
        "           min_features=2,\n",
        "           max_features=4,\n",
        "           scoring='accuracy',\n",
        "           print_progress=True,\n",
        "           cv=5)\n",
        "\n",
        "efs1 = efs1.fit(wine_X, wine_y, custom_feature_names=wine_feature_names)\n",
        "\n",
        "print('Best accuracy score: %.2f' % efs1.best_score_)\n",
        "print('Best subset (indices):', efs1.best_idx_)\n",
        "print('Best subset (corresponding names):', efs1.best_feature_names_)"
      ],
      "metadata": {
        "colab": {
          "base_uri": "https://localhost:8080/"
        },
        "id": "ppi1FQ3iB7va",
        "outputId": "a2d50807-df7e-42d1-e409-cbfafcf612fb"
      },
      "execution_count": 48,
      "outputs": [
        {
          "output_type": "stream",
          "name": "stderr",
          "text": [
            "Features: 1079/1079"
          ]
        },
        {
          "output_type": "stream",
          "name": "stdout",
          "text": [
            "Best accuracy score: 0.94\n",
            "Best subset (indices): (0, 5, 6, 9)\n",
            "Best subset (corresponding names): ('alcohol', 'total_phenols', 'flavanoids', 'color_intensity')\n"
          ]
        }
      ]
    },
    {
      "cell_type": "code",
      "source": [
        "efs2 = EFS(knn, \n",
        "           min_features=1,\n",
        "           max_features=2,\n",
        "           scoring='accuracy',\n",
        "           print_progress=True,\n",
        "           cv=5)\n",
        "\n",
        "efs2 = efs2.fit(wine_X, wine_y, custom_feature_names=wine_feature_names)\n",
        "\n",
        "print('Best accuracy score: %.2f' % efs2.best_score_)\n",
        "print('Best subset (indices):', efs2.best_idx_)\n",
        "print('Best subset (corresponding names):', efs2.best_feature_names_)"
      ],
      "metadata": {
        "colab": {
          "base_uri": "https://localhost:8080/"
        },
        "id": "8hkvhBR3CRQi",
        "outputId": "e3281f22-0c09-406a-eee1-0d23eadfe14c"
      },
      "execution_count": 50,
      "outputs": [
        {
          "output_type": "stream",
          "name": "stderr",
          "text": [
            "Features: 91/91"
          ]
        },
        {
          "output_type": "stream",
          "name": "stdout",
          "text": [
            "Best accuracy score: 0.93\n",
            "Best subset (indices): (6, 9)\n",
            "Best subset (corresponding names): ('flavanoids', 'color_intensity')\n"
          ]
        }
      ]
    },
    {
      "cell_type": "markdown",
      "source": [
        "Методы вложений (embedded methods)"
      ],
      "metadata": {
        "id": "IEz02rotCnAq"
      }
    },
    {
      "cell_type": "code",
      "source": [
        "# Используем L1-регуляризацию\n",
        "e_lr1 = LogisticRegression(C=1000, solver='liblinear', penalty='l1', max_iter=500, random_state=1)\n",
        "e_lr1.fit(wine_X, wine_y)\n",
        "# Коэффициенты регрессии\n",
        "e_lr1.coef_"
      ],
      "metadata": {
        "colab": {
          "base_uri": "https://localhost:8080/"
        },
        "id": "o7WcxbUyCscw",
        "outputId": "2d0f642c-2f46-4b3c-b4fb-df99dfc84b99"
      },
      "execution_count": 55,
      "outputs": [
        {
          "output_type": "execute_result",
          "data": {
            "text/plain": [
              "array([[ 1.41334920e+00,  4.66718035e+00,  1.82985032e+01,\n",
              "        -2.42939991e+00,  1.26055359e-02,  4.68613806e-01,\n",
              "         9.33614994e+00,  0.00000000e+00, -5.50614454e+00,\n",
              "        -1.32071634e+00, -5.83797139e+00,  1.97920879e+00,\n",
              "         6.39909145e-02],\n",
              "       [-5.94176493e-01, -2.92845801e+00, -1.33359876e+01,\n",
              "         1.20169737e+00, -4.92133181e-02,  1.05136658e+00,\n",
              "         2.19592052e+00,  1.05799119e+01,  3.15989185e+00,\n",
              "        -5.34592136e+00,  1.86190133e+01, -3.18118476e+00,\n",
              "        -3.52899721e-02],\n",
              "       [ 2.89017626e-01,  1.54936167e+00,  1.60601835e+00,\n",
              "         1.34927121e-01,  4.41698641e-02, -3.57511137e-01,\n",
              "        -8.39357634e+00, -7.76433231e+00, -3.08962478e+00,\n",
              "         1.96695507e+00, -7.48810600e+00, -4.46354835e+00,\n",
              "         4.36201888e-03]])"
            ]
          },
          "metadata": {},
          "execution_count": 55
        }
      ]
    },
    {
      "cell_type": "code",
      "source": [
        "# Все 4 признака являются \"хорошими\"\n",
        "sel_e_lr1 = SelectFromModel(e_lr1)\n",
        "sel_e_lr1.fit(wine_X, wine_y)\n",
        "sel_e_lr1.get_support()"
      ],
      "metadata": {
        "colab": {
          "base_uri": "https://localhost:8080/"
        },
        "id": "2BAj_oo7C1io",
        "outputId": "e1c2042a-d94f-4ddd-935c-4370ecf539c6"
      },
      "execution_count": 56,
      "outputs": [
        {
          "output_type": "execute_result",
          "data": {
            "text/plain": [
              "array([ True,  True,  True,  True,  True,  True,  True,  True,  True,\n",
              "        True,  True,  True,  True])"
            ]
          },
          "metadata": {},
          "execution_count": 56
        }
      ]
    },
    {
      "cell_type": "code",
      "source": [
        "e_lr2 = LinearSVC(C=0.01, penalty=\"l1\", max_iter=2000, dual=False)\n",
        "e_lr2.fit(wine_X, wine_y)\n",
        "# Коэффициенты регрессии\n",
        "e_lr2.coef_"
      ],
      "metadata": {
        "colab": {
          "base_uri": "https://localhost:8080/"
        },
        "id": "ZPIUeDYsC7RV",
        "outputId": "0eb98725-aa11-4507-86d6-c54be8ce8af8"
      },
      "execution_count": 57,
      "outputs": [
        {
          "output_type": "execute_result",
          "data": {
            "text/plain": [
              "array([[ 0.        ,  0.        ,  0.        , -0.10348578, -0.01158846,\n",
              "         0.        ,  0.        ,  0.        ,  0.        ,  0.        ,\n",
              "         0.        ,  0.        ,  0.00371447],\n",
              "       [ 0.        ,  0.        ,  0.        ,  0.0387936 ,  0.01405573,\n",
              "         0.        ,  0.        ,  0.        ,  0.        , -0.21009731,\n",
              "         0.        ,  0.        , -0.00195771],\n",
              "       [ 0.        ,  0.        ,  0.        ,  0.        , -0.00432849,\n",
              "         0.        , -0.20464896,  0.        ,  0.        ,  0.20767533,\n",
              "         0.        ,  0.        , -0.00088091]])"
            ]
          },
          "metadata": {},
          "execution_count": 57
        }
      ]
    },
    {
      "cell_type": "code",
      "source": [
        "# Признак 4 исключен\n",
        "sel_e_lr2 = SelectFromModel(e_lr2)\n",
        "sel_e_lr2.fit(wine_X, wine_y)\n",
        "sel_e_lr2.get_support()"
      ],
      "metadata": {
        "colab": {
          "base_uri": "https://localhost:8080/"
        },
        "id": "USVZar8iDAO8",
        "outputId": "a37da424-742b-4106-cea6-fc12fb37e13b"
      },
      "execution_count": 59,
      "outputs": [
        {
          "output_type": "execute_result",
          "data": {
            "text/plain": [
              "array([False, False, False,  True,  True, False,  True, False, False,\n",
              "        True, False, False,  True])"
            ]
          },
          "metadata": {},
          "execution_count": 59
        }
      ]
    },
    {
      "cell_type": "code",
      "source": [
        "# Используем L1-регуляризацию\n",
        "e_ls1 = Lasso(random_state=1)\n",
        "e_ls1.fit(diabetes_X, diabetes_y)\n",
        "# Коэффициенты регрессии\n",
        "list(zip(diabetes_feature_names, e_ls1.coef_))"
      ],
      "metadata": {
        "colab": {
          "base_uri": "https://localhost:8080/"
        },
        "id": "JD1Dt5GEDGKZ",
        "outputId": "1fcbdfc6-013a-457c-f649-948a1abb8985"
      },
      "execution_count": 60,
      "outputs": [
        {
          "output_type": "execute_result",
          "data": {
            "text/plain": [
              "[('age', 0.0),\n",
              " ('sex', -0.0),\n",
              " ('bmi', 367.7018520698162),\n",
              " ('bp', 6.301904186054684),\n",
              " ('s1', 0.0),\n",
              " ('s2', 0.0),\n",
              " ('s3', -0.0),\n",
              " ('s4', 0.0),\n",
              " ('s5', 307.60570000448166),\n",
              " ('s6', 0.0)]"
            ]
          },
          "metadata": {},
          "execution_count": 60
        }
      ]
    },
    {
      "cell_type": "code",
      "source": [
        "sel_e_ls1 = SelectFromModel(e_ls1)\n",
        "sel_e_ls1.fit(diabetes_X, diabetes_y)\n",
        "list(zip(diabetes_feature_names, sel_e_ls1.get_support()))"
      ],
      "metadata": {
        "colab": {
          "base_uri": "https://localhost:8080/"
        },
        "id": "YEYt02SUDS0r",
        "outputId": "a10e3db5-be2c-4222-fad3-167343bd46cf"
      },
      "execution_count": 63,
      "outputs": [
        {
          "output_type": "execute_result",
          "data": {
            "text/plain": [
              "[('age', False),\n",
              " ('sex', False),\n",
              " ('bmi', True),\n",
              " ('bp', True),\n",
              " ('s1', False),\n",
              " ('s2', False),\n",
              " ('s3', False),\n",
              " ('s4', False),\n",
              " ('s5', True),\n",
              " ('s6', False)]"
            ]
          },
          "metadata": {},
          "execution_count": 63
        }
      ]
    },
    {
      "cell_type": "code",
      "source": [
        "dtc1 = DecisionTreeClassifier()\n",
        "rfc1 = RandomForestClassifier()\n",
        "gbc1 = GradientBoostingClassifier()\n",
        "dtc1.fit(wine_X, wine_y)\n",
        "rfc1.fit(wine_X, wine_y)\n",
        "gbc1.fit(wine_X, wine_y)\n",
        "\n",
        "# Важность признаков\n",
        "dtc1.feature_importances_, sum(dtc1.feature_importances_)"
      ],
      "metadata": {
        "colab": {
          "base_uri": "https://localhost:8080/"
        },
        "id": "uvt2DDAqDk0J",
        "outputId": "83b4afc0-7563-4fd4-c4ba-e42eb7485d39"
      },
      "execution_count": 64,
      "outputs": [
        {
          "output_type": "execute_result",
          "data": {
            "text/plain": [
              "(array([0.01257056, 0.        , 0.01422316, 0.        , 0.        ,\n",
              "        0.        , 0.16704836, 0.        , 0.        , 0.03297845,\n",
              "        0.05818509, 0.31204257, 0.4029518 ]), 1.0)"
            ]
          },
          "metadata": {},
          "execution_count": 64
        }
      ]
    },
    {
      "cell_type": "code",
      "source": [
        "from operator import itemgetter\n",
        "\n",
        "def draw_feature_importances(tree_model, X_dataset, title, figsize=(7,4)):\n",
        "    \"\"\"\n",
        "    Вывод важности признаков в виде графика\n",
        "    \"\"\"\n",
        "    # Сортировка значений важности признаков по убыванию\n",
        "    list_to_sort = list(zip(X_dataset.columns.values, tree_model.feature_importances_))\n",
        "    sorted_list = sorted(list_to_sort, key=itemgetter(1), reverse = True)\n",
        "    # Названия признаков\n",
        "    labels = [x for x,_ in sorted_list]\n",
        "    # Важности признаков\n",
        "    data = [x for _,x in sorted_list]\n",
        "    # Вывод графика\n",
        "    fig, ax = plt.subplots(figsize=figsize)\n",
        "    ax.set_title(title)\n",
        "    ind = np.arange(len(labels))\n",
        "    plt.bar(ind, data)\n",
        "    plt.xticks(ind, labels, rotation='vertical')\n",
        "    # Вывод значений\n",
        "    for a,b in zip(ind, data):\n",
        "        plt.text(a-0.1, b+0.005, str(round(b,3)))\n",
        "    plt.show()\n",
        "    return labels, data"
      ],
      "metadata": {
        "id": "3bAZ_nHNDx0h"
      },
      "execution_count": 65,
      "outputs": []
    },
    {
      "cell_type": "code",
      "source": [
        "_,_=draw_feature_importances(dtc1, wine_x_df, 'Решающее дерево')"
      ],
      "metadata": {
        "colab": {
          "base_uri": "https://localhost:8080/",
          "height": 444
        },
        "id": "n7fL40f2D1lb",
        "outputId": "77916816-d891-4640-bd96-ef9557376800"
      },
      "execution_count": 67,
      "outputs": [
        {
          "output_type": "display_data",
          "data": {
            "text/plain": [
              "<Figure size 504x288 with 1 Axes>"
            ],
            "image/png": "[encoded data removed]"
          },
          "metadata": {
            "needs_background": "light"
          }
        }
      ]
    },
    {
      "cell_type": "code",
      "source": [
        "list(zip(wine_feature_names, SelectFromModel(dtc1).fit(wine_X, wine_y).get_support()))"
      ],
      "metadata": {
        "colab": {
          "base_uri": "https://localhost:8080/"
        },
        "id": "FhSo4eAZD57z",
        "outputId": "cac80227-7aa1-41c8-91d6-dc5aeaad1b6e"
      },
      "execution_count": 70,
      "outputs": [
        {
          "output_type": "execute_result",
          "data": {
            "text/plain": [
              "[('alcohol', False),\n",
              " ('malic_acid', False),\n",
              " ('ash', False),\n",
              " ('alcalinity_of_ash', False),\n",
              " ('magnesium', False),\n",
              " ('total_phenols', False),\n",
              " ('flavanoids', True),\n",
              " ('nonflavanoid_phenols', False),\n",
              " ('proanthocyanins', False),\n",
              " ('color_intensity', False),\n",
              " ('hue', True),\n",
              " ('od280/od315_of_diluted_wines', True),\n",
              " ('proline', True)]"
            ]
          },
          "metadata": {},
          "execution_count": 70
        }
      ]
    },
    {
      "cell_type": "code",
      "source": [
        "_,_=draw_feature_importances(gbc1, wine_x_df, 'Градиентный бустинг')"
      ],
      "metadata": {
        "colab": {
          "base_uri": "https://localhost:8080/",
          "height": 444
        },
        "id": "ELGcij-uEBfl",
        "outputId": "8fa670d6-96a6-4b1b-cd10-24f320704782"
      },
      "execution_count": 72,
      "outputs": [
        {
          "output_type": "display_data",
          "data": {
            "text/plain": [
              "<Figure size 504x288 with 1 Axes>"
            ],
            "image/png": "[encoded data removed]"
          },
          "metadata": {
            "needs_background": "light"
          }
        }
      ]
    },
    {
      "cell_type": "code",
      "source": [
        "list(zip(wine_feature_names, SelectFromModel(gbc1).fit(wine_X, wine_y).get_support()))"
      ],
      "metadata": {
        "colab": {
          "base_uri": "https://localhost:8080/"
        },
        "id": "3FLpNVDoEMvo",
        "outputId": "c6908848-2304-44df-92ce-d8266bc6d3be"
      },
      "execution_count": 73,
      "outputs": [
        {
          "output_type": "execute_result",
          "data": {
            "text/plain": [
              "[('alcohol', False),\n",
              " ('malic_acid', False),\n",
              " ('ash', False),\n",
              " ('alcalinity_of_ash', False),\n",
              " ('magnesium', False),\n",
              " ('total_phenols', False),\n",
              " ('flavanoids', True),\n",
              " ('nonflavanoid_phenols', False),\n",
              " ('proanthocyanins', False),\n",
              " ('color_intensity', True),\n",
              " ('hue', False),\n",
              " ('od280/od315_of_diluted_wines', True),\n",
              " ('proline', True)]"
            ]
          },
          "metadata": {},
          "execution_count": 73
        }
      ]
    },
    {
      "cell_type": "code",
      "source": [
        "_,_=draw_feature_importances(rfc1, wine_x_df, 'Случайный лес')"
      ],
      "metadata": {
        "colab": {
          "base_uri": "https://localhost:8080/",
          "height": 444
        },
        "id": "CgryJr6LESDY",
        "outputId": "75b0e0dc-08b5-453e-ff89-2401072b9a4d"
      },
      "execution_count": 74,
      "outputs": [
        {
          "output_type": "display_data",
          "data": {
            "text/plain": [
              "<Figure size 504x288 with 1 Axes>"
            ],
            "image/png": "[encoded data removed]"
          },
          "metadata": {
            "needs_background": "light"
          }
        }
      ]
    },
    {
      "cell_type": "code",
      "source": [
        "list(zip(wine_feature_names, SelectFromModel(rfc1).fit(wine_X, wine_y).get_support()))"
      ],
      "metadata": {
        "colab": {
          "base_uri": "https://localhost:8080/"
        },
        "id": "R1fALjlwEZyB",
        "outputId": "ce7ccd4a-38ff-4cf2-830a-201429781cba"
      },
      "execution_count": 75,
      "outputs": [
        {
          "output_type": "execute_result",
          "data": {
            "text/plain": [
              "[('alcohol', True),\n",
              " ('malic_acid', False),\n",
              " ('ash', False),\n",
              " ('alcalinity_of_ash', False),\n",
              " ('magnesium', False),\n",
              " ('total_phenols', False),\n",
              " ('flavanoids', True),\n",
              " ('nonflavanoid_phenols', False),\n",
              " ('proanthocyanins', False),\n",
              " ('color_intensity', True),\n",
              " ('hue', True),\n",
              " ('od280/od315_of_diluted_wines', True),\n",
              " ('proline', True)]"
            ]
          },
          "metadata": {},
          "execution_count": 75
        }
      ]
    },
    {
      "cell_type": "code",
      "source": [
        "dtr1 = DecisionTreeRegressor()\n",
        "rfr1 = RandomForestRegressor()\n",
        "gbr1 = GradientBoostingRegressor()\n",
        "dtr1.fit(diabetes_X, diabetes_y)\n",
        "rfr1.fit(diabetes_X, diabetes_y)\n",
        "gbr1.fit(diabetes_X, diabetes_y)\n",
        "\n",
        "# Важность признаков\n",
        "dtr1.feature_importances_, sum(dtr1.feature_importances_)"
      ],
      "metadata": {
        "colab": {
          "base_uri": "https://localhost:8080/"
        },
        "id": "b4Q3FuSFEfSX",
        "outputId": "e1c91c77-1805-4690-fd90-bd0c7f365864"
      },
      "execution_count": 76,
      "outputs": [
        {
          "output_type": "execute_result",
          "data": {
            "text/plain": [
              "(array([0.0419363 , 0.00911131, 0.23678882, 0.07857539, 0.08079356,\n",
              "        0.05180663, 0.07091761, 0.01817218, 0.3466698 , 0.06522838]),\n",
              " 1.0000000000000002)"
            ]
          },
          "metadata": {},
          "execution_count": 76
        }
      ]
    },
    {
      "cell_type": "code",
      "source": [
        "_,_=draw_feature_importances(dtr1, diabetes_x_df, 'Решающее дерево', figsize=(10,4))"
      ],
      "metadata": {
        "colab": {
          "base_uri": "https://localhost:8080/",
          "height": 295
        },
        "id": "zMbfVh3OEsdm",
        "outputId": "0ef4ca94-4414-4914-faeb-e3dc11cbd1bb"
      },
      "execution_count": 77,
      "outputs": [
        {
          "output_type": "display_data",
          "data": {
            "text/plain": [
              "<Figure size 720x288 with 1 Axes>"
            ],
            "image/png": "[encoded data removed]"
          },
          "metadata": {
            "needs_background": "light"
          }
        }
      ]
    },
    {
      "cell_type": "code",
      "source": [
        "list(zip(diabetes_feature_names, SelectFromModel(dtr1).fit(diabetes_X, diabetes_y).get_support()))"
      ],
      "metadata": {
        "colab": {
          "base_uri": "https://localhost:8080/"
        },
        "id": "ZflvEH5HE1oN",
        "outputId": "469cb83a-14ae-4abb-fc14-2417acc4a38c"
      },
      "execution_count": 78,
      "outputs": [
        {
          "output_type": "execute_result",
          "data": {
            "text/plain": [
              "[('age', False),\n",
              " ('sex', False),\n",
              " ('bmi', True),\n",
              " ('bp', False),\n",
              " ('s1', False),\n",
              " ('s2', False),\n",
              " ('s3', False),\n",
              " ('s4', False),\n",
              " ('s5', True),\n",
              " ('s6', False)]"
            ]
          },
          "metadata": {},
          "execution_count": 78
        }
      ]
    },
    {
      "cell_type": "code",
      "source": [
        "_,_=draw_feature_importances(gbr1, diabetes_x_df, 'Градиентный бустинг', figsize=(10,4))"
      ],
      "metadata": {
        "colab": {
          "base_uri": "https://localhost:8080/",
          "height": 295
        },
        "id": "MWslp4sXE_p8",
        "outputId": "de91a82a-3338-4da5-d7a7-e42aad632d15"
      },
      "execution_count": 79,
      "outputs": [
        {
          "output_type": "display_data",
          "data": {
            "text/plain": [
              "<Figure size 720x288 with 1 Axes>"
            ],
            "image/png": "[encoded data removed]"
          },
          "metadata": {
            "needs_background": "light"
          }
        }
      ]
    },
    {
      "cell_type": "code",
      "source": [
        "list(zip(diabetes_feature_names, SelectFromModel(gbr1).fit(diabetes_X, diabetes_y).get_support()))"
      ],
      "metadata": {
        "colab": {
          "base_uri": "https://localhost:8080/"
        },
        "id": "WVjhzxZSFD_k",
        "outputId": "c8aa8a98-576f-4b77-ac63-c7c12d14a790"
      },
      "execution_count": 80,
      "outputs": [
        {
          "output_type": "execute_result",
          "data": {
            "text/plain": [
              "[('age', False),\n",
              " ('sex', False),\n",
              " ('bmi', True),\n",
              " ('bp', True),\n",
              " ('s1', False),\n",
              " ('s2', False),\n",
              " ('s3', False),\n",
              " ('s4', False),\n",
              " ('s5', True),\n",
              " ('s6', False)]"
            ]
          },
          "metadata": {},
          "execution_count": 80
        }
      ]
    },
    {
      "cell_type": "code",
      "source": [
        "list(zip(diabetes_feature_names, SelectFromModel(gbr1, threshold='0.25*mean').fit(diabetes_X, diabetes_y).get_support()))"
      ],
      "metadata": {
        "colab": {
          "base_uri": "https://localhost:8080/"
        },
        "id": "7xMQHy1rFLEv",
        "outputId": "872cddb7-a579-4e8c-8609-8ccc67958030"
      },
      "execution_count": 81,
      "outputs": [
        {
          "output_type": "execute_result",
          "data": {
            "text/plain": [
              "[('age', True),\n",
              " ('sex', False),\n",
              " ('bmi', True),\n",
              " ('bp', True),\n",
              " ('s1', True),\n",
              " ('s2', True),\n",
              " ('s3', True),\n",
              " ('s4', False),\n",
              " ('s5', True),\n",
              " ('s6', True)]"
            ]
          },
          "metadata": {},
          "execution_count": 81
        }
      ]
    },
    {
      "cell_type": "code",
      "source": [
        "_,_=draw_feature_importances(rfr1, diabetes_x_df, 'Случайный лес', figsize=(10,4))"
      ],
      "metadata": {
        "colab": {
          "base_uri": "https://localhost:8080/",
          "height": 295
        },
        "id": "2Uyw2QL9FSmS",
        "outputId": "a413b488-811d-419d-b01e-6ce831ddd91f"
      },
      "execution_count": 82,
      "outputs": [
        {
          "output_type": "display_data",
          "data": {
            "text/plain": [
              "<Figure size 720x288 with 1 Axes>"
            ],
            "image/png": "[encoded data removed]"
          },
          "metadata": {
            "needs_background": "light"
          }
        }
      ]
    },
    {
      "cell_type": "code",
      "source": [
        "list(zip(diabetes_feature_names, SelectFromModel(rfr1).fit(diabetes_X, diabetes_y).get_support()))"
      ],
      "metadata": {
        "colab": {
          "base_uri": "https://localhost:8080/"
        },
        "id": "W03qZVJFFW3Q",
        "outputId": "5c13146b-973b-4582-f81c-9b86599cfa17"
      },
      "execution_count": 83,
      "outputs": [
        {
          "output_type": "execute_result",
          "data": {
            "text/plain": [
              "[('age', False),\n",
              " ('sex', False),\n",
              " ('bmi', True),\n",
              " ('bp', False),\n",
              " ('s1', False),\n",
              " ('s2', False),\n",
              " ('s3', False),\n",
              " ('s4', False),\n",
              " ('s5', True),\n",
              " ('s6', False)]"
            ]
          },
          "metadata": {},
          "execution_count": 83
        }
      ]
    },
    {
      "cell_type": "code",
      "source": [
        "list(zip(diabetes_feature_names, SelectFromModel(rfr1, threshold='0.1*mean').fit(diabetes_X, diabetes_y).get_support()))"
      ],
      "metadata": {
        "colab": {
          "base_uri": "https://localhost:8080/"
        },
        "id": "QJZWjjuiFe1a",
        "outputId": "f580911f-d376-4335-baf5-991883ec7c99"
      },
      "execution_count": 84,
      "outputs": [
        {
          "output_type": "execute_result",
          "data": {
            "text/plain": [
              "[('age', True),\n",
              " ('sex', True),\n",
              " ('bmi', True),\n",
              " ('bp', True),\n",
              " ('s1', True),\n",
              " ('s2', True),\n",
              " ('s3', True),\n",
              " ('s4', True),\n",
              " ('s5', True),\n",
              " ('s6', True)]"
            ]
          },
          "metadata": {},
          "execution_count": 84
        }
      ]
    }
  ]
}