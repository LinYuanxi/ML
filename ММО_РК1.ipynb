{
 "cells": [
  {
   "cell_type": "code",
   "execution_count": 1,
   "id": "3c692b3f",
   "metadata": {},
   "outputs": [],
   "source": [
    "import numpy as np\n",
    "import pandas as pd\n",
    "import seaborn as sns\n",
    "import matplotlib.pyplot as plt\n",
    "import scipy.stats as stats\n",
    "%matplotlib inline \n",
    "import numpy as np\n",
    "import pandas as pd\n",
    "import seaborn as sns\n",
    "import matplotlib.pyplot as plt\n",
    "from sklearn.datasets import load_iris\n",
    "from sklearn.datasets import load_boston\n",
    "import scipy.stats as stats\n",
    "from sklearn.svm import SVR\n",
    "from sklearn.svm import LinearSVC\n",
    "from sklearn.feature_selection import SelectFromModel\n",
    "from sklearn.linear_model import Lasso\n",
    "from sklearn.linear_model import LogisticRegression\n",
    "from sklearn.neighbors import KNeighborsClassifier\n",
    "from sklearn.neighbors import KNeighborsRegressor\n",
    "from sklearn.tree import DecisionTreeClassifier\n",
    "from sklearn.ensemble import RandomForestClassifier\n",
    "from sklearn.ensemble import GradientBoostingClassifier\n",
    "from sklearn.tree import DecisionTreeRegressor\n",
    "from sklearn.ensemble import RandomForestRegressor\n",
    "from sklearn.ensemble import GradientBoostingRegressor\n",
    "from sklearn.metrics import mean_squared_error\n",
    "from sklearn.model_selection import train_test_split\n",
    "from sklearn.feature_selection import VarianceThreshold\n",
    "from sklearn.feature_selection import mutual_info_classif, mutual_info_regression\n",
    "from sklearn.feature_selection import SelectKBest, SelectPercentile\n",
    "from IPython.display import Image\n",
    "%matplotlib inline \n",
    "sns.set(style=\"ticks\")"
   ]
  },
  {
   "cell_type": "code",
   "execution_count": 2,
   "id": "90edeac3",
   "metadata": {},
   "outputs": [],
   "source": [
    "data = pd.read_csv(\"D:\\桌面\\metirals\\MMO\\china_population.csv\")"
   ]
  },
  {
   "cell_type": "code",
   "execution_count": 3,
   "id": "2f233226",
   "metadata": {},
   "outputs": [
    {
     "data": {
      "text/html": [
       "<div>\n",
       "<style scoped>\n",
       "    .dataframe tbody tr th:only-of-type {\n",
       "        vertical-align: middle;\n",
       "    }\n",
       "\n",
       "    .dataframe tbody tr th {\n",
       "        vertical-align: top;\n",
       "    }\n",
       "\n",
       "    .dataframe thead th {\n",
       "        text-align: right;\n",
       "    }\n",
       "</style>\n",
       "<table border=\"1\" class=\"dataframe\">\n",
       "  <thead>\n",
       "    <tr style=\"text-align: right;\">\n",
       "      <th></th>\n",
       "      <th>Year</th>\n",
       "      <th>Population</th>\n",
       "      <th>Yearly % Change</th>\n",
       "      <th>Yearly Change</th>\n",
       "      <th>Migrants (net)</th>\n",
       "      <th>Median Age</th>\n",
       "      <th>Fertility Rate</th>\n",
       "      <th>Density (P/Km²)</th>\n",
       "      <th>Urban Pop %</th>\n",
       "      <th>Urban Population</th>\n",
       "      <th>Country's Share of World Pop</th>\n",
       "      <th>World Population</th>\n",
       "      <th>China Global Rank</th>\n",
       "    </tr>\n",
       "  </thead>\n",
       "  <tbody>\n",
       "    <tr>\n",
       "      <th>0</th>\n",
       "      <td>2020</td>\n",
       "      <td>1439323776</td>\n",
       "      <td>0.39</td>\n",
       "      <td>5540090</td>\n",
       "      <td>-348399</td>\n",
       "      <td>38.4</td>\n",
       "      <td>1.69</td>\n",
       "      <td>153</td>\n",
       "      <td>60.8</td>\n",
       "      <td>875075919</td>\n",
       "      <td>18.47</td>\n",
       "      <td>7794798739</td>\n",
       "      <td>1</td>\n",
       "    </tr>\n",
       "    <tr>\n",
       "      <th>1</th>\n",
       "      <td>2019</td>\n",
       "      <td>1433783686</td>\n",
       "      <td>0.43</td>\n",
       "      <td>6135900</td>\n",
       "      <td>-348399</td>\n",
       "      <td>37.0</td>\n",
       "      <td>1.65</td>\n",
       "      <td>153</td>\n",
       "      <td>59.7</td>\n",
       "      <td>856409297</td>\n",
       "      <td>18.59</td>\n",
       "      <td>7713468100</td>\n",
       "      <td>1</td>\n",
       "    </tr>\n",
       "    <tr>\n",
       "      <th>2</th>\n",
       "      <td>2018</td>\n",
       "      <td>1427647786</td>\n",
       "      <td>0.47</td>\n",
       "      <td>6625995</td>\n",
       "      <td>-348399</td>\n",
       "      <td>37.0</td>\n",
       "      <td>1.65</td>\n",
       "      <td>152</td>\n",
       "      <td>58.6</td>\n",
       "      <td>837022095</td>\n",
       "      <td>18.71</td>\n",
       "      <td>7631091040</td>\n",
       "      <td>1</td>\n",
       "    </tr>\n",
       "    <tr>\n",
       "      <th>3</th>\n",
       "      <td>2017</td>\n",
       "      <td>1421021791</td>\n",
       "      <td>0.49</td>\n",
       "      <td>6972440</td>\n",
       "      <td>-348399</td>\n",
       "      <td>37.0</td>\n",
       "      <td>1.65</td>\n",
       "      <td>151</td>\n",
       "      <td>57.5</td>\n",
       "      <td>816957613</td>\n",
       "      <td>18.83</td>\n",
       "      <td>7547858925</td>\n",
       "      <td>1</td>\n",
       "    </tr>\n",
       "    <tr>\n",
       "      <th>4</th>\n",
       "      <td>2016</td>\n",
       "      <td>1414049351</td>\n",
       "      <td>0.51</td>\n",
       "      <td>7201481</td>\n",
       "      <td>-348399</td>\n",
       "      <td>37.0</td>\n",
       "      <td>1.65</td>\n",
       "      <td>151</td>\n",
       "      <td>56.3</td>\n",
       "      <td>796289491</td>\n",
       "      <td>18.94</td>\n",
       "      <td>7464022049</td>\n",
       "      <td>1</td>\n",
       "    </tr>\n",
       "  </tbody>\n",
       "</table>\n",
       "</div>"
      ],
      "text/plain": [
       "   Year  Population  Yearly % Change  Yearly Change  Migrants (net)  \\\n",
       "0  2020  1439323776             0.39        5540090         -348399   \n",
       "1  2019  1433783686             0.43        6135900         -348399   \n",
       "2  2018  1427647786             0.47        6625995         -348399   \n",
       "3  2017  1421021791             0.49        6972440         -348399   \n",
       "4  2016  1414049351             0.51        7201481         -348399   \n",
       "\n",
       "   Median Age  Fertility Rate  Density (P/Km²)  Urban Pop %  Urban Population  \\\n",
       "0        38.4            1.69              153         60.8         875075919   \n",
       "1        37.0            1.65              153         59.7         856409297   \n",
       "2        37.0            1.65              152         58.6         837022095   \n",
       "3        37.0            1.65              151         57.5         816957613   \n",
       "4        37.0            1.65              151         56.3         796289491   \n",
       "\n",
       "   Country's Share of World Pop  World Population  China Global Rank  \n",
       "0                         18.47        7794798739                  1  \n",
       "1                         18.59        7713468100                  1  \n",
       "2                         18.71        7631091040                  1  \n",
       "3                         18.83        7547858925                  1  \n",
       "4                         18.94        7464022049                  1  "
      ]
     },
     "execution_count": 3,
     "metadata": {},
     "output_type": "execute_result"
    }
   ],
   "source": [
    "data.head()"
   ]
  },
  {
   "cell_type": "code",
   "execution_count": 4,
   "id": "28764a6d",
   "metadata": {},
   "outputs": [
    {
     "data": {
      "text/plain": [
       "Year                            0\n",
       "Population                      0\n",
       "Yearly % Change                 0\n",
       "Yearly Change                   0\n",
       "Migrants (net)                  0\n",
       "Median Age                      0\n",
       "Fertility Rate                  0\n",
       "Density (P/Km²)                 0\n",
       "Urban Pop %                     0\n",
       "Urban Population                0\n",
       "Country's Share of World Pop    0\n",
       "World Population                0\n",
       "China Global Rank               0\n",
       "dtype: int64"
      ]
     },
     "execution_count": 4,
     "metadata": {},
     "output_type": "execute_result"
    }
   ],
   "source": [
    "data.isnull().sum()"
   ]
  },
  {
   "cell_type": "code",
   "execution_count": 5,
   "id": "32b2b4b7",
   "metadata": {},
   "outputs": [
    {
     "name": "stdout",
     "output_type": "stream",
     "text": [
      "<class 'pandas.core.frame.DataFrame'>\n",
      "RangeIndex: 18 entries, 0 to 17\n",
      "Data columns (total 13 columns):\n",
      " #   Column                        Non-Null Count  Dtype  \n",
      "---  ------                        --------------  -----  \n",
      " 0   Year                          18 non-null     int64  \n",
      " 1   Population                    18 non-null     int64  \n",
      " 2   Yearly % Change               18 non-null     float64\n",
      " 3   Yearly Change                 18 non-null     int64  \n",
      " 4   Migrants (net)                18 non-null     int64  \n",
      " 5   Median Age                    18 non-null     float64\n",
      " 6   Fertility Rate                18 non-null     float64\n",
      " 7   Density (P/Km²)               18 non-null     int64  \n",
      " 8   Urban Pop %                   18 non-null     float64\n",
      " 9   Urban Population              18 non-null     int64  \n",
      " 10  Country's Share of World Pop  18 non-null     float64\n",
      " 11  World Population              18 non-null     int64  \n",
      " 12  China Global Rank             18 non-null     int64  \n",
      "dtypes: float64(5), int64(8)\n",
      "memory usage: 2.0 KB\n"
     ]
    }
   ],
   "source": [
    "data.info()"
   ]
  },
  {
   "cell_type": "code",
   "execution_count": 6,
   "id": "c21ad84b",
   "metadata": {},
   "outputs": [],
   "source": [
    "def diagnostic_plots(df, variable):\n",
    "    plt.figure(figsize=(15,6))\n",
    "    # гистограмма\n",
    "    plt.subplot(1, 2, 1)\n",
    "    df[variable].hist(bins=30)\n",
    "    ## Q-Q plot\n",
    "    plt.subplot(1, 2, 2)\n",
    "    stats.probplot(df[variable], dist=\"norm\", plot=plt)\n",
    "    plt.show()"
   ]
  },
  {
   "cell_type": "code",
   "execution_count": 7,
   "id": "044fddd7",
   "metadata": {},
   "outputs": [
    {
     "name": "stdout",
     "output_type": "stream",
     "text": [
      "Оптимальное значение λ = -0.7511122830641473\n"
     ]
    },
    {
     "data": {
      "image/png": "[encoded data removed]",
      "text/plain": [
       "<Figure size 1080x432 with 2 Axes>"
      ]
     },
     "metadata": {},
     "output_type": "display_data"
    }
   ],
   "source": [
    "# Необходимо преобразовать данные к действительному типу\n",
    "data['Yearly % Change_yeojohnson'], param = stats.yeojohnson(data['Yearly % Change']) \n",
    "print('Оптимальное значение λ = {}'.format(param))\n",
    "diagnostic_plots(data, 'Yearly % Change_yeojohnson')"
   ]
  },
  {
   "cell_type": "code",
   "execution_count": 8,
   "id": "75a85039",
   "metadata": {},
   "outputs": [
    {
     "data": {
      "text/plain": [
       "<AxesSubplot:xlabel='Yearly % Change'>"
      ]
     },
     "execution_count": 8,
     "metadata": {},
     "output_type": "execute_result"
    },
    {
     "data": {
      "image/png": "[encoded data removed]",
      "text/plain": [
       "<Figure size 432x288 with 1 Axes>"
      ]
     },
     "metadata": {},
     "output_type": "display_data"
    }
   ],
   "source": [
    "sns.violinplot(x=data['Yearly % Change'])"
   ]
  },
  {
   "cell_type": "code",
   "execution_count": 11,
   "id": "f02fe7ae",
   "metadata": {},
   "outputs": [],
   "source": [
    "import numpy as np\n",
    "import pandas as pd\n",
    "import seaborn as sns\n",
    "import matplotlib.pyplot as plt\n",
    "from sklearn.datasets import load_iris\n",
    "from sklearn.datasets import load_boston\n",
    "import scipy.stats as stats\n",
    "from sklearn.svm import SVR\n",
    "from sklearn.svm import LinearSVC\n",
    "from sklearn.feature_selection import SelectFromModel\n",
    "from sklearn.linear_model import Lasso\n",
    "from sklearn.linear_model import LogisticRegression\n",
    "from sklearn.neighbors import KNeighborsClassifier\n",
    "from sklearn.neighbors import KNeighborsRegressor\n",
    "from sklearn.tree import DecisionTreeClassifier\n",
    "from sklearn.ensemble import RandomForestClassifier\n",
    "from sklearn.ensemble import GradientBoostingClassifier\n",
    "from sklearn.tree import DecisionTreeRegressor\n",
    "from sklearn.ensemble import RandomForestRegressor\n",
    "from sklearn.ensemble import GradientBoostingRegressor\n",
    "from sklearn.metrics import mean_squared_error\n",
    "from sklearn.model_selection import train_test_split\n",
    "from sklearn.feature_selection import VarianceThreshold\n",
    "from sklearn.feature_selection import mutual_info_classif, mutual_info_regression\n",
    "from sklearn.feature_selection import SelectKBest, SelectPercentile\n",
    "from IPython.display import Image\n",
    "%matplotlib inline \n",
    "sns.set(style=\"ticks\")"
   ]
  },
  {
   "cell_type": "code",
   "execution_count": 12,
   "id": "aee20e72",
   "metadata": {},
   "outputs": [],
   "source": [
    "iris = load_iris()\n",
    "iris_X = iris.data\n",
    "iris_y = iris.target\n",
    "iris_feature_names = iris['feature_names']\n",
    "iris_x_df = pd.DataFrame(data=iris['data'], columns=iris['feature_names'])"
   ]
  },
  {
   "cell_type": "code",
   "execution_count": 14,
   "id": "661c5d6f",
   "metadata": {},
   "outputs": [],
   "source": [
    "boston = load_boston()\n",
    "boston_X = boston.data\n",
    "boston_y = boston.target\n",
    "boston_feature_names = boston['feature_names']\n",
    "boston_x_df = pd.DataFrame(data=boston['data'], columns=boston['feature_names'])"
   ]
  },
  {
   "cell_type": "code",
   "execution_count": 15,
   "id": "25ee7d75",
   "metadata": {},
   "outputs": [
    {
     "data": {
      "text/plain": [
       "Text(0, 0.5, 'Взаимная информация')"
      ]
     },
     "execution_count": 15,
     "metadata": {},
     "output_type": "execute_result"
    },
    {
     "data": {
      "image/png": "[encoded data removed]",
      "text/plain": [
       "<Figure size 720x360 with 1 Axes>"
      ]
     },
     "metadata": {},
     "output_type": "display_data"
    }
   ],
   "source": [
    "mi = mutual_info_regression(boston_X, boston_y)\n",
    "mi = pd.Series(mi)\n",
    "mi.index = boston_feature_names\n",
    "mi.sort_values(ascending=False).plot.bar(figsize=(10,5))\n",
    "plt.ylabel('Взаимная информация')"
   ]
  },
  {
   "cell_type": "code",
   "execution_count": 18,
   "id": "712626a6",
   "metadata": {},
   "outputs": [
    {
     "data": {
      "text/plain": [
       "[('CRIM', False),\n",
       " ('ZN', False),\n",
       " ('INDUS', False),\n",
       " ('CHAS', False),\n",
       " ('NOX', False),\n",
       " ('RM', False),\n",
       " ('AGE', False),\n",
       " ('DIS', False),\n",
       " ('RAD', False),\n",
       " ('TAX', False),\n",
       " ('PTRATIO', False),\n",
       " ('B', False),\n",
       " ('LSTAT', True)]"
      ]
     },
     "execution_count": 18,
     "metadata": {},
     "output_type": "execute_result"
    }
   ],
   "source": [
    "sel_mi = SelectPercentile(mutual_info_regression, percentile=5).fit(boston_X, boston_y)\n",
    "\n",
    "list(zip(boston_feature_names, sel_mi.get_support()))"
   ]
  },
  {
   "cell_type": "code",
   "execution_count": null,
   "id": "0011f592",
   "metadata": {},
   "outputs": [],
   "source": []
  }
 ],
 "metadata": {
  "kernelspec": {
   "display_name": "Python 3 (ipykernel)",
   "language": "python",
   "name": "python3"
  },
  "language_info": {
   "codemirror_mode": {
    "name": "ipython",
    "version": 3
   },
   "file_extension": ".py",
   "mimetype": "text/x-python",
   "name": "python",
   "nbconvert_exporter": "python",
   "pygments_lexer": "ipython3",
   "version": "3.9.7"
  }
 },
 "nbformat": 4,
 "nbformat_minor": 5
}
